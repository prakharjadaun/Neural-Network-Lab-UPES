{
  "cells": [
    {
      "cell_type": "code",
      "execution_count": 33,
      "metadata": {
        "id": "ZxfzVLDD8pOk"
      },
      "outputs": [],
      "source": [
        "# importing the required libraries\n",
        "import torch\n",
        "import sklearn\n",
        "import matplotlib.pyplot as plt\n",
        "plt.style.use('dark_background')"
      ]
    },
    {
      "cell_type": "code",
      "execution_count": 34,
      "metadata": {
        "colab": {
          "base_uri": "https://localhost:8080/"
        },
        "id": "Ychf-Ig284wF",
        "outputId": "f60b0215-f529-4850-a1ec-16290728ac56"
      },
      "outputs": [
        {
          "data": {
            "text/plain": [
              "<torch._C.Generator at 0x2612afeb438>"
            ]
          },
          "execution_count": 34,
          "metadata": {},
          "output_type": "execute_result"
        }
      ],
      "source": [
        "# importing the make_classification function\n",
        "from sklearn.datasets import make_classification\n",
        "# manual seed() to initialize the random number generator\n",
        "torch.manual_seed(123)"
      ]
    },
    {
      "cell_type": "code",
      "execution_count": 35,
      "metadata": {
        "id": "1LxdPxns9Ax3"
      },
      "outputs": [],
      "source": [
        "## Make a Toy Dataset\n",
        "# creating a classification data set using the make_classification function\n",
        "X,y=make_classification(n_samples=1000,n_features=4 ,n_classes=2)\n",
        "\n",
        "### Change it into the Tensor\n",
        "X=torch.tensor(X,dtype=torch.float32)\n",
        "y=torch.tensor(y,dtype=torch.float32)"
      ]
    },
    {
      "cell_type": "code",
      "execution_count": 36,
      "metadata": {},
      "outputs": [
        {
          "data": {
            "text/plain": [
              "tensor([[-0.0705,  0.8040,  1.3511, -1.3232],\n",
              "        [ 0.1846,  1.1284,  1.4100,  0.3577],\n",
              "        [-0.0091, -1.2548, -1.9042,  1.1339],\n",
              "        ...,\n",
              "        [-0.2551, -1.2863, -1.5307, -0.7568],\n",
              "        [ 0.3036,  1.3038,  1.4744,  1.1184],\n",
              "        [ 0.2058,  1.2752,  1.5984,  0.3820]])"
            ]
          },
          "execution_count": 36,
          "metadata": {},
          "output_type": "execute_result"
        }
      ],
      "source": [
        "X"
      ]
    },
    {
      "cell_type": "code",
      "execution_count": 37,
      "metadata": {},
      "outputs": [
        {
          "data": {
            "text/plain": [
              "tensor([0., 1., 1., 1., 0., 0., 1., 0., 0., 1., 0., 0., 0., 0., 1., 0., 0., 0.,\n",
              "        1., 0., 0., 1., 1., 1., 1., 0., 0., 1., 1., 0., 0., 1., 1., 0., 0., 0.,\n",
              "        0., 0., 0., 1., 0., 1., 0., 0., 1., 0., 1., 0., 0., 1., 0., 0., 1., 0.,\n",
              "        1., 1., 0., 1., 0., 0., 1., 0., 0., 0., 0., 1., 0., 1., 1., 0., 0., 0.,\n",
              "        1., 0., 1., 0., 1., 1., 1., 1., 0., 1., 1., 1., 1., 1., 1., 0., 1., 0.,\n",
              "        0., 1., 1., 0., 0., 0., 1., 0., 0., 0., 1., 0., 0., 1., 1., 1., 0., 0.,\n",
              "        1., 1., 0., 1., 1., 1., 0., 1., 0., 1., 0., 1., 1., 0., 0., 0., 1., 0.,\n",
              "        1., 1., 1., 0., 1., 0., 1., 0., 0., 1., 1., 1., 0., 0., 0., 1., 0., 0.,\n",
              "        0., 1., 1., 0., 0., 1., 0., 0., 0., 1., 0., 0., 0., 1., 0., 1., 1., 0.,\n",
              "        1., 0., 1., 1., 1., 1., 1., 0., 1., 1., 1., 1., 1., 1., 1., 1., 1., 1.,\n",
              "        1., 0., 1., 0., 0., 0., 1., 0., 1., 0., 0., 1., 0., 0., 0., 1., 1., 0.,\n",
              "        1., 0., 0., 0., 0., 1., 1., 0., 0., 1., 1., 1., 0., 0., 1., 1., 1., 0.,\n",
              "        1., 0., 0., 0., 1., 0., 1., 1., 0., 1., 0., 0., 0., 1., 1., 1., 1., 0.,\n",
              "        1., 0., 1., 1., 0., 0., 1., 0., 0., 0., 1., 1., 0., 1., 0., 0., 1., 0.,\n",
              "        1., 0., 1., 0., 1., 0., 1., 0., 1., 0., 0., 0., 1., 1., 0., 1., 1., 0.,\n",
              "        1., 0., 1., 0., 1., 0., 1., 1., 1., 1., 0., 1., 1., 0., 1., 1., 1., 0.,\n",
              "        0., 0., 1., 1., 0., 0., 0., 0., 0., 1., 0., 0., 1., 1., 0., 1., 1., 1.,\n",
              "        0., 1., 1., 0., 0., 0., 1., 0., 0., 1., 1., 1., 0., 0., 0., 0., 1., 1.,\n",
              "        0., 0., 0., 0., 0., 0., 0., 0., 0., 0., 1., 1., 1., 1., 1., 0., 1., 1.,\n",
              "        1., 1., 1., 1., 0., 0., 0., 1., 0., 0., 1., 1., 0., 1., 1., 0., 1., 1.,\n",
              "        1., 0., 0., 0., 1., 0., 0., 1., 0., 1., 0., 0., 0., 0., 0., 0., 0., 0.,\n",
              "        0., 0., 1., 0., 1., 0., 0., 0., 1., 1., 0., 0., 1., 1., 0., 1., 1., 0.,\n",
              "        0., 1., 0., 1., 0., 0., 1., 1., 1., 0., 1., 1., 1., 0., 1., 0., 1., 0.,\n",
              "        1., 0., 1., 0., 0., 0., 0., 0., 1., 1., 0., 0., 0., 1., 1., 1., 0., 1.,\n",
              "        0., 1., 0., 0., 1., 0., 1., 0., 0., 1., 0., 0., 0., 0., 1., 1., 1., 0.,\n",
              "        0., 0., 1., 0., 1., 0., 0., 0., 0., 0., 0., 1., 1., 1., 1., 1., 0., 0.,\n",
              "        1., 1., 1., 0., 1., 0., 1., 0., 1., 1., 1., 0., 1., 0., 0., 1., 0., 0.,\n",
              "        1., 0., 0., 1., 1., 0., 0., 1., 1., 1., 0., 0., 0., 0., 0., 1., 0., 0.,\n",
              "        0., 0., 0., 1., 1., 1., 0., 1., 1., 0., 0., 1., 1., 0., 0., 0., 1., 1.,\n",
              "        0., 1., 0., 1., 0., 1., 0., 0., 1., 1., 0., 1., 1., 0., 1., 0., 1., 1.,\n",
              "        0., 1., 0., 0., 0., 1., 1., 0., 0., 0., 1., 1., 0., 1., 1., 0., 1., 0.,\n",
              "        1., 1., 0., 0., 0., 0., 0., 0., 1., 0., 1., 1., 0., 1., 0., 1., 0., 1.,\n",
              "        1., 1., 1., 1., 1., 1., 1., 1., 1., 0., 0., 1., 0., 1., 0., 0., 0., 0.,\n",
              "        1., 1., 0., 1., 1., 1., 0., 0., 0., 1., 1., 1., 0., 1., 1., 1., 1., 0.,\n",
              "        1., 0., 1., 1., 0., 1., 1., 0., 1., 0., 0., 1., 0., 1., 1., 0., 1., 0.,\n",
              "        0., 0., 1., 1., 0., 1., 1., 1., 1., 1., 0., 0., 0., 0., 0., 0., 0., 0.,\n",
              "        0., 0., 1., 0., 1., 1., 1., 1., 1., 1., 1., 0., 1., 1., 1., 0., 0., 0.,\n",
              "        1., 1., 0., 0., 0., 1., 1., 1., 1., 1., 1., 1., 1., 1., 0., 0., 1., 0.,\n",
              "        1., 0., 0., 1., 1., 0., 0., 1., 1., 0., 0., 1., 0., 0., 0., 1., 0., 0.,\n",
              "        1., 1., 1., 0., 1., 1., 0., 1., 0., 1., 0., 0., 1., 1., 0., 1., 1., 1.,\n",
              "        1., 0., 1., 0., 1., 0., 1., 0., 1., 0., 0., 1., 0., 0., 1., 1., 1., 0.,\n",
              "        0., 0., 0., 1., 0., 1., 1., 1., 1., 1., 1., 0., 0., 0., 1., 0., 0., 0.,\n",
              "        1., 1., 1., 0., 1., 0., 1., 0., 1., 1., 0., 1., 0., 0., 0., 1., 1., 1.,\n",
              "        1., 0., 0., 0., 1., 1., 0., 1., 0., 0., 1., 0., 1., 0., 0., 1., 1., 1.,\n",
              "        1., 0., 1., 0., 1., 0., 0., 0., 0., 0., 0., 0., 0., 0., 1., 0., 0., 0.,\n",
              "        1., 1., 1., 1., 1., 1., 1., 0., 0., 0., 1., 1., 1., 1., 0., 0., 0., 1.,\n",
              "        1., 0., 1., 0., 0., 0., 0., 1., 1., 1., 1., 1., 0., 1., 0., 1., 1., 1.,\n",
              "        0., 1., 0., 0., 1., 1., 1., 1., 1., 0., 1., 1., 1., 1., 0., 0., 0., 0.,\n",
              "        0., 0., 1., 0., 0., 1., 0., 1., 1., 1., 0., 0., 0., 1., 1., 1., 0., 0.,\n",
              "        0., 1., 0., 1., 0., 0., 1., 0., 0., 0., 0., 1., 1., 1., 0., 1., 1., 0.,\n",
              "        1., 0., 0., 0., 0., 1., 0., 0., 0., 0., 0., 1., 0., 1., 1., 0., 0., 1.,\n",
              "        0., 1., 1., 1., 0., 1., 1., 0., 0., 1., 0., 0., 1., 1., 0., 1., 1., 0.,\n",
              "        1., 0., 1., 0., 0., 1., 1., 1., 1., 1., 0., 1., 1., 0., 1., 1., 1., 1.,\n",
              "        0., 1., 1., 0., 1., 1., 1., 1., 0., 0., 0., 0., 0., 0., 0., 1., 0., 0.,\n",
              "        1., 1., 1., 0., 1., 0., 0., 1., 1., 1., 0., 1., 1., 0., 1., 0., 0., 1.,\n",
              "        1., 0., 0., 1., 1., 1., 0., 0., 1., 1.])"
            ]
          },
          "execution_count": 37,
          "metadata": {},
          "output_type": "execute_result"
        }
      ],
      "source": [
        "y"
      ]
    },
    {
      "cell_type": "code",
      "execution_count": 38,
      "metadata": {
        "colab": {
          "base_uri": "https://localhost:8080/"
        },
        "id": "iW3ACthE9UHy",
        "outputId": "78b58ca4-f620-4f96-f766-c485df103932"
      },
      "outputs": [
        {
          "data": {
            "text/plain": [
              "tensor([937, 859, 548, 487, 148, 190, 199, 632,  33, 714])"
            ]
          },
          "execution_count": 38,
          "metadata": {},
          "output_type": "execute_result"
        }
      ],
      "source": [
        "### Data Suffling\n",
        "torch.manual_seed(10)\n",
        "# randperm returns the vector of random permutation of the long integers\n",
        "suffle_idx=torch.randperm(y.size(0),dtype=torch.long)\n",
        "X,y=X[suffle_idx],y[suffle_idx]\n",
        "suffle_idx[:10]"
      ]
    },
    {
      "cell_type": "code",
      "execution_count": 39,
      "metadata": {
        "id": "htyqar_O_gQS"
      },
      "outputs": [],
      "source": [
        "# Train Test split\n",
        "train_size=int(suffle_idx.size(0)*0.7)\n",
        "train_idx= suffle_idx[:train_size]\n",
        "test_idx=suffle_idx[train_size:]\n",
        "X_train,y_train=X[train_idx],y[train_idx]\n",
        "X_test,y_test=X[test_idx],y[test_idx]"
      ]
    },
    {
      "cell_type": "code",
      "execution_count": 40,
      "metadata": {
        "colab": {
          "base_uri": "https://localhost:8080/"
        },
        "id": "y612znKOZBe1",
        "outputId": "07bb4952-66b5-4ac9-e895-9076c0b6960a"
      },
      "outputs": [
        {
          "data": {
            "text/plain": [
              "torch.Size([700, 4])"
            ]
          },
          "execution_count": 40,
          "metadata": {},
          "output_type": "execute_result"
        }
      ],
      "source": [
        "X_train.shape"
      ]
    },
    {
      "cell_type": "code",
      "execution_count": 41,
      "metadata": {
        "colab": {
          "base_uri": "https://localhost:8080/"
        },
        "id": "qph9HFKGZE5I",
        "outputId": "5c47991d-c58f-4513-b43d-b547410de2c4"
      },
      "outputs": [
        {
          "data": {
            "text/plain": [
              "torch.Size([300, 4])"
            ]
          },
          "execution_count": 41,
          "metadata": {},
          "output_type": "execute_result"
        }
      ],
      "source": [
        "X_test.shape"
      ]
    },
    {
      "cell_type": "code",
      "execution_count": 42,
      "metadata": {},
      "outputs": [
        {
          "data": {
            "text/plain": [
              "torch.Size([700])"
            ]
          },
          "execution_count": 42,
          "metadata": {},
          "output_type": "execute_result"
        }
      ],
      "source": [
        "y_train.shape"
      ]
    },
    {
      "cell_type": "code",
      "execution_count": 43,
      "metadata": {},
      "outputs": [
        {
          "data": {
            "text/plain": [
              "torch.Size([300])"
            ]
          },
          "execution_count": 43,
          "metadata": {},
          "output_type": "execute_result"
        }
      ],
      "source": [
        "y_test.shape"
      ]
    },
    {
      "cell_type": "code",
      "execution_count": 44,
      "metadata": {
        "id": "b6lDzsNjAD6Q"
      },
      "outputs": [],
      "source": [
        "#### Normalizing the dataset\n",
        "\n",
        "mean,std_dev=X_train.mean(dim=0) ,X_train.std(dim=0)\n",
        "X_train=(X_train-mean)/std_dev\n",
        "X_test=(X_test-mean)/std_dev"
      ]
    },
    {
      "cell_type": "code",
      "execution_count": 45,
      "metadata": {
        "id": "QDGeHX1VDcDG"
      },
      "outputs": [],
      "source": [
        "import torch.nn as nn\n",
        "from torch.autograd import grad"
      ]
    },
    {
      "cell_type": "code",
      "execution_count": 68,
      "metadata": {
        "id": "S5gFo5e-Dkon"
      },
      "outputs": [],
      "source": [
        "# definning the class NN\n",
        "class NN():\n",
        "  def __init__(self,n_features):\n",
        "    self.n_features=n_features\n",
        "    self.weight=torch.zeros(size=(n_features,1),dtype=torch.float,requires_grad=True)\n",
        "    self.bias=torch.zeros(1,dtype=torch.float,requires_grad=True)\n",
        "  \n",
        "\n",
        "  def forward(self,x):\n",
        "    output=torch.add(torch.mm(x,self.weight),self.bias)\n",
        "    return output.view(-1)\n",
        "\n",
        "def loss_fn(yhat,y):\n",
        "  return torch.mean((yhat-y)**2)\n"
      ]
    },
    {
      "cell_type": "code",
      "execution_count": 73,
      "metadata": {
        "id": "W4VG658oG6Sk"
      },
      "outputs": [],
      "source": [
        "def train(model,x,y,n_epoch=10,lr=0.001,seed=23,bsz=50):\n",
        "\n",
        "  # cost list for storing the cost of the error function \n",
        "  cost=[]\n",
        "  torch.manual_seed(seed)\n",
        "  for i in range(n_epoch):\n",
        "    suffle_idx=torch.randperm(y.size(0))\n",
        "    batches=torch.split(suffle_idx,bsz)\n",
        "\n",
        "    for idx in batches:\n",
        "\n",
        "      ###1. Compute the output\n",
        "      yhat=model.forward(x[idx])\n",
        "\n",
        "      ###2. Compute the Error\n",
        "      loss=loss_fn(yhat,y[idx])\n",
        "\n",
        "      ###3. Compute the gradient\n",
        "      grad_w=grad(loss,model.weight,retain_graph=True)[0]\n",
        "      grad_b=grad(loss,model.bias)[0]\n",
        "\n",
        "      ###4. Update Model Parameters\n",
        "      model.weight=model.weight-lr*grad_w\n",
        "      model.bias=model.bias-lr*grad_b\n",
        "\n",
        "    ###5. Log and print the loss\n",
        "    with torch.no_grad():\n",
        "      yhat=model.forward(x)\n",
        "      curr_loss=loss_fn(yhat,y)\n",
        "      print('Epoc: %3d ' % (i+1),end=\"\")\n",
        "      print('| MSE % .5f' % curr_loss)\n",
        "      cost.append(curr_loss)\n",
        "      \n",
        "  return cost"
      ]
    },
    {
      "cell_type": "code",
      "execution_count": 74,
      "metadata": {
        "colab": {
          "base_uri": "https://localhost:8080/"
        },
        "id": "pg5M3m31Fo39",
        "outputId": "50233a25-36e3-42f6-8117-5252501930c8"
      },
      "outputs": [
        {
          "name": "stdout",
          "output_type": "stream",
          "text": [
            "Epoc:   1 | MSE  0.46444\n",
            "Epoc:   2 | MSE  0.43835\n",
            "Epoc:   3 | MSE  0.41433\n",
            "Epoc:   4 | MSE  0.39220\n",
            "Epoc:   5 | MSE  0.37177\n",
            "Epoc:   6 | MSE  0.35289\n",
            "Epoc:   7 | MSE  0.33542\n",
            "Epoc:   8 | MSE  0.31924\n",
            "Epoc:   9 | MSE  0.30425\n",
            "Epoc:  10 | MSE  0.29033\n",
            "Epoc:  11 | MSE  0.27739\n",
            "Epoc:  12 | MSE  0.26535\n",
            "Epoc:  13 | MSE  0.25415\n",
            "Epoc:  14 | MSE  0.24371\n",
            "Epoc:  15 | MSE  0.23397\n",
            "Epoc:  16 | MSE  0.22489\n",
            "Epoc:  17 | MSE  0.21641\n",
            "Epoc:  18 | MSE  0.20849\n",
            "Epoc:  19 | MSE  0.20107\n",
            "Epoc:  20 | MSE  0.19413\n",
            "Epoc:  21 | MSE  0.18765\n",
            "Epoc:  22 | MSE  0.18158\n",
            "Epoc:  23 | MSE  0.17589\n",
            "Epoc:  24 | MSE  0.17056\n",
            "Epoc:  25 | MSE  0.16556\n",
            "Epoc:  26 | MSE  0.16087\n",
            "Epoc:  27 | MSE  0.15648\n",
            "Epoc:  28 | MSE  0.15235\n",
            "Epoc:  29 | MSE  0.14848\n",
            "Epoc:  30 | MSE  0.14484\n",
            "Epoc:  31 | MSE  0.14143\n",
            "Epoc:  32 | MSE  0.13822\n",
            "Epoc:  33 | MSE  0.13520\n",
            "Epoc:  34 | MSE  0.13237\n",
            "Epoc:  35 | MSE  0.12970\n",
            "Epoc:  36 | MSE  0.12720\n",
            "Epoc:  37 | MSE  0.12484\n",
            "Epoc:  38 | MSE  0.12263\n",
            "Epoc:  39 | MSE  0.12054\n",
            "Epoc:  40 | MSE  0.11858\n",
            "Epoc:  41 | MSE  0.11673\n",
            "Epoc:  42 | MSE  0.11500\n",
            "Epoc:  43 | MSE  0.11336\n",
            "Epoc:  44 | MSE  0.11182\n",
            "Epoc:  45 | MSE  0.11037\n",
            "Epoc:  46 | MSE  0.10901\n",
            "Epoc:  47 | MSE  0.10772\n",
            "Epoc:  48 | MSE  0.10651\n",
            "Epoc:  49 | MSE  0.10538\n",
            "Epoc:  50 | MSE  0.10430\n",
            "Epoc:  51 | MSE  0.10329\n",
            "Epoc:  52 | MSE  0.10234\n",
            "Epoc:  53 | MSE  0.10144\n",
            "Epoc:  54 | MSE  0.10060\n",
            "Epoc:  55 | MSE  0.09980\n",
            "Epoc:  56 | MSE  0.09905\n",
            "Epoc:  57 | MSE  0.09835\n",
            "Epoc:  58 | MSE  0.09768\n",
            "Epoc:  59 | MSE  0.09705\n",
            "Epoc:  60 | MSE  0.09646\n",
            "Epoc:  61 | MSE  0.09590\n",
            "Epoc:  62 | MSE  0.09538\n",
            "Epoc:  63 | MSE  0.09488\n",
            "Epoc:  64 | MSE  0.09442\n",
            "Epoc:  65 | MSE  0.09398\n",
            "Epoc:  66 | MSE  0.09356\n",
            "Epoc:  67 | MSE  0.09317\n",
            "Epoc:  68 | MSE  0.09280\n",
            "Epoc:  69 | MSE  0.09245\n",
            "Epoc:  70 | MSE  0.09213\n"
          ]
        }
      ],
      "source": [
        "model=NN(X_train.size(1))\n",
        "cost=train(model,X_train,y_train,n_epoch=70)"
      ]
    },
    {
      "cell_type": "code",
      "execution_count": 75,
      "metadata": {
        "colab": {
          "base_uri": "https://localhost:8080/",
          "height": 283
        },
        "id": "AUiMMWXeX2X6",
        "outputId": "b1901d29-9b95-434f-c1fb-a9b6e4d1872b"
      },
      "outputs": [
        {
          "data": {
            "image/png": "[encoded data removed]",
            "text/plain": [
              "<Figure size 432x288 with 1 Axes>"
            ]
          },
          "metadata": {},
          "output_type": "display_data"
        }
      ],
      "source": [
        "import matplotlib.pyplot as plt\n",
        "plt.plot(range(len(cost)),cost)\n",
        "plt.ylabel('Mean Sqare Error')\n",
        "plt.xlabel('Epoc')\n",
        "plt.grid(linestyle='--',color='green')\n",
        "plt.show()"
      ]
    },
    {
      "cell_type": "code",
      "execution_count": 76,
      "metadata": {
        "colab": {
          "base_uri": "https://localhost:8080/"
        },
        "id": "noMdRIQnY2yD",
        "outputId": "798b447e-19e3-4e70-ec05-df2d4dd25edd"
      },
      "outputs": [
        {
          "name": "stdout",
          "output_type": "stream",
          "text": [
            "Training Accuracy: 92.86\n",
            "Testing Accuracy: 93.33\n"
          ]
        }
      ],
      "source": [
        "ones=torch.ones(y_train.size())\n",
        "zero=torch.zeros(y_train.size())\n",
        "train_pred=model.forward(X_train)\n",
        "train_acc=torch.mean((  \n",
        "    torch.where(train_pred > 0.5,\n",
        "                ones,zero).int()==y_train).float())\n",
        "\n",
        "\n",
        "ones=torch.ones(y_test.size())\n",
        "zeros=torch.zeros(y_test.size())\n",
        "test_pred=model.forward(X_test)\n",
        "test_acc=torch.mean((torch.where(test_pred> 0.5,ones,zeros).int()==y_test).float())\n",
        "\n",
        "print('Training Accuracy: %.2f' % (train_acc*100))\n",
        "print('Testing Accuracy: %.2f' % (test_acc*100))\n"
      ]
    },
    {
      "cell_type": "markdown",
      "metadata": {
        "id": "0jE4vxUqhE9S"
      },
      "source": [
        "### Model Using Pytorch"
      ]
    },
    {
      "cell_type": "code",
      "execution_count": 22,
      "metadata": {
        "id": "y3lKWHDh3Z2E"
      },
      "outputs": [],
      "source": [
        "import torch\n",
        "import sklearn\n",
        "import torch.nn.functional as F"
      ]
    },
    {
      "cell_type": "code",
      "execution_count": 23,
      "metadata": {
        "id": "mIvsPBpi3exX"
      },
      "outputs": [],
      "source": [
        "from sklearn.datasets import make_classification\n",
        "from sklearn.model_selection import train_test_split\n",
        "from sklearn.preprocessing import StandardScaler"
      ]
    },
    {
      "cell_type": "code",
      "execution_count": 24,
      "metadata": {
        "id": "1JIHbj2035fP"
      },
      "outputs": [],
      "source": [
        "### Create The dataset\n",
        "X,y=make_classification(n_samples=1000,n_classes=2,n_features=4)\n",
        "\n",
        "### Normalize the Data\n",
        "scaler=StandardScaler()\n",
        "X=scaler.fit_transform(X)\n",
        "\n",
        "### Array to Tensor\n",
        "X=torch.tensor(X,dtype=torch.float32)\n",
        "y=torch.tensor(y,dtype=torch.float32)"
      ]
    },
    {
      "cell_type": "code",
      "execution_count": 25,
      "metadata": {
        "id": "CqWr2Ybd5ugi"
      },
      "outputs": [
        {
          "data": {
            "text/plain": [
              "tensor([[ 9.1955e-01,  1.2503e+00,  8.3105e-01,  2.4658e-01],\n",
              "        [ 1.8242e+00,  2.1322e+00,  1.2641e+00,  1.7189e-01],\n",
              "        [-1.1897e+00,  9.7982e-01,  1.7927e+00,  2.0475e+00],\n",
              "        ...,\n",
              "        [ 7.8223e-01,  8.3474e-01,  4.5425e-01,  1.2418e-03],\n",
              "        [ 1.1197e+00,  1.4436e+00,  9.2483e-01,  2.2837e-01],\n",
              "        [-1.8001e-02, -7.3264e-01, -7.9816e-01, -6.5001e-01]])"
            ]
          },
          "execution_count": 25,
          "metadata": {},
          "output_type": "execute_result"
        }
      ],
      "source": [
        "X"
      ]
    },
    {
      "cell_type": "code",
      "execution_count": 26,
      "metadata": {},
      "outputs": [
        {
          "data": {
            "text/plain": [
              "tensor([1., 1., 1., 1., 1., 1., 1., 0., 0., 0., 0., 1., 0., 0., 0., 0., 0., 1.,\n",
              "        1., 0., 0., 1., 0., 1., 1., 0., 1., 0., 0., 1., 1., 0., 0., 0., 1., 1.,\n",
              "        0., 1., 1., 0., 1., 1., 0., 1., 0., 0., 1., 0., 0., 0., 1., 0., 1., 0.,\n",
              "        0., 1., 1., 0., 0., 0., 1., 1., 1., 1., 0., 0., 1., 1., 1., 0., 0., 1.,\n",
              "        0., 1., 0., 0., 0., 1., 0., 0., 0., 0., 0., 1., 1., 1., 1., 1., 0., 0.,\n",
              "        0., 0., 1., 0., 1., 0., 0., 1., 0., 1., 1., 0., 0., 1., 1., 1., 1., 1.,\n",
              "        1., 1., 1., 0., 1., 1., 0., 0., 0., 0., 0., 0., 1., 1., 0., 0., 0., 0.,\n",
              "        0., 0., 0., 0., 1., 1., 1., 0., 0., 0., 1., 1., 1., 1., 1., 0., 0., 1.,\n",
              "        0., 0., 1., 1., 0., 1., 1., 1., 0., 1., 0., 0., 0., 0., 0., 1., 1., 1.,\n",
              "        0., 1., 1., 0., 1., 0., 0., 0., 0., 1., 0., 0., 0., 0., 1., 0., 0., 1.,\n",
              "        1., 1., 1., 1., 1., 0., 1., 0., 1., 0., 1., 0., 1., 0., 0., 1., 0., 1.,\n",
              "        0., 1., 1., 1., 0., 0., 0., 0., 0., 1., 1., 1., 1., 0., 0., 0., 1., 1.,\n",
              "        1., 1., 1., 1., 0., 1., 1., 0., 0., 1., 0., 1., 0., 0., 1., 1., 1., 0.,\n",
              "        0., 1., 1., 0., 0., 1., 0., 1., 0., 0., 1., 1., 0., 1., 0., 0., 0., 1.,\n",
              "        1., 1., 1., 0., 1., 0., 0., 0., 1., 0., 1., 1., 0., 1., 1., 1., 0., 0.,\n",
              "        1., 1., 1., 0., 1., 0., 0., 1., 0., 1., 1., 1., 1., 0., 1., 1., 1., 0.,\n",
              "        1., 0., 0., 1., 0., 0., 1., 1., 1., 0., 0., 0., 0., 0., 1., 1., 1., 1.,\n",
              "        0., 1., 0., 0., 0., 0., 0., 1., 0., 0., 0., 1., 1., 0., 0., 1., 0., 0.,\n",
              "        1., 1., 0., 0., 1., 1., 1., 1., 1., 1., 0., 0., 1., 1., 1., 1., 0., 0.,\n",
              "        1., 0., 1., 1., 1., 1., 0., 0., 1., 1., 0., 0., 1., 0., 1., 0., 1., 1.,\n",
              "        0., 1., 1., 0., 0., 0., 0., 1., 0., 1., 1., 0., 0., 0., 0., 0., 0., 1.,\n",
              "        0., 1., 0., 1., 0., 0., 0., 0., 1., 0., 0., 0., 0., 1., 0., 1., 1., 0.,\n",
              "        0., 1., 0., 0., 1., 0., 0., 1., 1., 0., 1., 1., 0., 0., 1., 0., 1., 0.,\n",
              "        0., 0., 0., 1., 1., 0., 1., 0., 0., 1., 1., 1., 0., 1., 1., 0., 0., 0.,\n",
              "        0., 1., 1., 0., 1., 1., 0., 1., 1., 1., 1., 0., 0., 0., 0., 1., 0., 1.,\n",
              "        0., 1., 1., 1., 1., 1., 0., 0., 0., 1., 0., 0., 0., 1., 0., 0., 0., 0.,\n",
              "        0., 1., 0., 0., 1., 1., 0., 0., 1., 0., 1., 1., 0., 1., 0., 0., 0., 0.,\n",
              "        1., 0., 1., 1., 1., 1., 1., 0., 0., 0., 1., 1., 1., 0., 1., 1., 0., 0.,\n",
              "        0., 0., 1., 1., 1., 1., 1., 1., 0., 0., 0., 1., 0., 1., 1., 1., 1., 1.,\n",
              "        0., 1., 1., 1., 0., 0., 1., 1., 0., 0., 1., 0., 1., 1., 1., 1., 0., 0.,\n",
              "        0., 0., 1., 1., 0., 0., 0., 0., 0., 0., 1., 0., 1., 0., 0., 1., 1., 0.,\n",
              "        1., 1., 0., 0., 0., 0., 0., 1., 0., 1., 0., 1., 0., 1., 1., 1., 0., 1.,\n",
              "        0., 0., 1., 1., 0., 1., 0., 1., 0., 1., 1., 0., 1., 0., 1., 0., 0., 1.,\n",
              "        0., 0., 0., 1., 1., 0., 1., 0., 1., 1., 1., 0., 1., 1., 1., 1., 1., 1.,\n",
              "        1., 0., 1., 1., 0., 1., 1., 0., 1., 0., 1., 1., 0., 1., 1., 0., 1., 0.,\n",
              "        0., 0., 0., 0., 0., 0., 0., 1., 1., 1., 0., 0., 1., 1., 0., 0., 0., 1.,\n",
              "        1., 0., 0., 1., 1., 0., 1., 1., 1., 0., 0., 1., 1., 0., 0., 1., 1., 0.,\n",
              "        1., 1., 1., 1., 1., 0., 0., 0., 1., 1., 1., 0., 0., 0., 0., 1., 1., 0.,\n",
              "        1., 0., 0., 1., 0., 1., 0., 0., 1., 1., 0., 1., 0., 1., 1., 0., 0., 1.,\n",
              "        0., 1., 0., 1., 1., 0., 0., 1., 1., 0., 1., 0., 1., 0., 0., 1., 0., 0.,\n",
              "        1., 1., 1., 0., 0., 0., 0., 1., 1., 1., 0., 1., 0., 1., 0., 1., 1., 1.,\n",
              "        0., 1., 1., 0., 0., 0., 1., 1., 1., 1., 1., 0., 1., 1., 0., 1., 0., 1.,\n",
              "        0., 1., 0., 0., 1., 1., 0., 1., 1., 0., 1., 0., 1., 0., 0., 1., 1., 1.,\n",
              "        1., 0., 0., 0., 1., 1., 1., 0., 1., 1., 0., 1., 1., 1., 0., 1., 1., 1.,\n",
              "        1., 1., 0., 1., 0., 1., 1., 0., 1., 1., 1., 0., 0., 1., 0., 1., 0., 1.,\n",
              "        1., 1., 0., 0., 1., 1., 0., 1., 0., 0., 0., 1., 1., 1., 0., 0., 1., 1.,\n",
              "        0., 1., 0., 1., 1., 0., 1., 1., 1., 1., 1., 0., 0., 0., 1., 0., 0., 0.,\n",
              "        0., 1., 1., 0., 0., 0., 1., 1., 0., 1., 1., 0., 0., 0., 0., 1., 0., 1.,\n",
              "        0., 1., 0., 0., 1., 0., 1., 1., 1., 1., 0., 0., 0., 1., 0., 1., 0., 0.,\n",
              "        0., 1., 0., 0., 0., 0., 0., 1., 0., 1., 0., 1., 1., 1., 0., 1., 0., 1.,\n",
              "        0., 0., 0., 1., 1., 1., 0., 0., 0., 0., 0., 0., 0., 0., 0., 1., 1., 0.,\n",
              "        0., 1., 1., 1., 1., 1., 0., 0., 0., 0., 0., 1., 0., 1., 0., 1., 0., 1.,\n",
              "        1., 0., 1., 1., 0., 1., 1., 1., 1., 0., 1., 1., 1., 1., 1., 0., 1., 1.,\n",
              "        0., 1., 1., 1., 0., 0., 1., 0., 0., 0., 0., 1., 0., 1., 0., 1., 1., 0.,\n",
              "        1., 1., 0., 0., 1., 1., 0., 1., 0., 0., 1., 0., 0., 1., 0., 0., 1., 0.,\n",
              "        1., 0., 0., 0., 0., 0., 1., 1., 1., 0.])"
            ]
          },
          "execution_count": 26,
          "metadata": {},
          "output_type": "execute_result"
        }
      ],
      "source": [
        "y"
      ]
    },
    {
      "cell_type": "code",
      "execution_count": 27,
      "metadata": {
        "colab": {
          "base_uri": "https://localhost:8080/"
        },
        "id": "vOTlEa224ok7",
        "outputId": "7d0e30ec-414b-47b5-a702-1af88a23c1b0"
      },
      "outputs": [
        {
          "name": "stdout",
          "output_type": "stream",
          "text": [
            "torch.Size([700, 4])\n",
            "torch.Size([300, 4])\n"
          ]
        }
      ],
      "source": [
        "X_train,X_test,y_train,y_test=train_test_split(X,y,test_size=.3,random_state=21)\n",
        "print(X_train.shape)\n",
        "print(X_test.shape)"
      ]
    },
    {
      "cell_type": "code",
      "execution_count": 28,
      "metadata": {
        "id": "DNSgj7UkhIIK"
      },
      "outputs": [],
      "source": [
        "class NNpt(nn.Module):\n",
        "  def __init__(self,n_features):\n",
        "    super(NNpt,self).__init__()\n",
        "    self.linear=nn.Linear(n_features,1)\n",
        "\n",
        "    self.linear.weight.detach().zero_()\n",
        "    self.linear.bias.detach().zero_()\n",
        "\n",
        "  def forward(self,x):\n",
        "    out=self.linear(x)\n",
        "    return out.view(-1)"
      ]
    },
    {
      "cell_type": "code",
      "execution_count": 29,
      "metadata": {
        "id": "HQNqqR33nsLH"
      },
      "outputs": [],
      "source": [
        "def train(model,x,y,n_epoch=10,lr=0.001,seed=23,bsz=50):\n",
        "\n",
        "  cost=[]\n",
        "  torch.manual_seed(seed)\n",
        "   ### Optimizer\n",
        "  optimizer=torch.optim.SGD(model.parameters(),lr=lr)\n",
        "  for i in range(n_epoch):\n",
        "    suffle_idx=torch.randperm(y.size(0))\n",
        "    batches=torch.split(suffle_idx,bsz)\n",
        "\n",
        "    for idx in batches:\n",
        "      ###1. Compute the Output\n",
        "      yhat=model.forward(x[idx])\n",
        "\n",
        "      ###2. Compute the Loss\n",
        "      loss=torch.nn.functional.mse_loss(yhat,y[idx])\n",
        "\n",
        "      ###3. Compute the Gradients\n",
        "      optimizer.zero_grad()\n",
        "      loss.backward()\n",
        "\n",
        "      ###4. Update the Model Parameters\n",
        "      optimizer.step()\n",
        "\n",
        "      #model.weight=model.weight-lr*grad_w\n",
        "      #model.bias=model.bias-lr*grad_b\n",
        "\n",
        "    ###5. Log and print the Loss\n",
        "    with torch.no_grad():\n",
        "      yhat=model.forward(x)\n",
        "      curr_loss=loss_fn(yhat,y)\n",
        "      print('Epoc: %3d ' % (i+1),end=\"\")\n",
        "      print('| MSE % .5f' % curr_loss)\n",
        "      cost.append(curr_loss)\n",
        "      \n",
        "  return cost"
      ]
    },
    {
      "cell_type": "code",
      "execution_count": 30,
      "metadata": {
        "id": "sPFjue7WlmW-"
      },
      "outputs": [],
      "source": [
        "n_feature=X_train.size(1)\n",
        "model=NNpt(n_features=n_feature)"
      ]
    },
    {
      "cell_type": "code",
      "execution_count": 31,
      "metadata": {
        "colab": {
          "base_uri": "https://localhost:8080/"
        },
        "id": "li9AFeIanQZS",
        "outputId": "f145db74-ccf1-44c1-9094-3f0976c4f715"
      },
      "outputs": [
        {
          "name": "stdout",
          "output_type": "stream",
          "text": [
            "Epoc:   1 | MSE  0.46167\n",
            "Epoc:   2 | MSE  0.42979\n",
            "Epoc:   3 | MSE  0.40113\n",
            "Epoc:   4 | MSE  0.37528\n",
            "Epoc:   5 | MSE  0.35193\n",
            "Epoc:   6 | MSE  0.33083\n",
            "Epoc:   7 | MSE  0.31171\n",
            "Epoc:   8 | MSE  0.29433\n",
            "Epoc:   9 | MSE  0.27854\n",
            "Epoc:  10 | MSE  0.26416\n",
            "Epoc:  11 | MSE  0.25105\n",
            "Epoc:  12 | MSE  0.23906\n",
            "Epoc:  13 | MSE  0.22809\n",
            "Epoc:  14 | MSE  0.21801\n",
            "Epoc:  15 | MSE  0.20877\n",
            "Epoc:  16 | MSE  0.20027\n",
            "Epoc:  17 | MSE  0.19244\n",
            "Epoc:  18 | MSE  0.18522\n",
            "Epoc:  19 | MSE  0.17854\n",
            "Epoc:  20 | MSE  0.17237\n",
            "Epoc:  21 | MSE  0.16664\n",
            "Epoc:  22 | MSE  0.16133\n",
            "Epoc:  23 | MSE  0.15639\n",
            "Epoc:  24 | MSE  0.15181\n",
            "Epoc:  25 | MSE  0.14754\n",
            "Epoc:  26 | MSE  0.14356\n",
            "Epoc:  27 | MSE  0.13985\n",
            "Epoc:  28 | MSE  0.13639\n",
            "Epoc:  29 | MSE  0.13315\n",
            "Epoc:  30 | MSE  0.13012\n",
            "Epoc:  31 | MSE  0.12729\n",
            "Epoc:  32 | MSE  0.12463\n",
            "Epoc:  33 | MSE  0.12214\n",
            "Epoc:  34 | MSE  0.11981\n",
            "Epoc:  35 | MSE  0.11762\n",
            "Epoc:  36 | MSE  0.11557\n",
            "Epoc:  37 | MSE  0.11363\n",
            "Epoc:  38 | MSE  0.11182\n",
            "Epoc:  39 | MSE  0.11012\n",
            "Epoc:  40 | MSE  0.10851\n",
            "Epoc:  41 | MSE  0.10700\n",
            "Epoc:  42 | MSE  0.10558\n",
            "Epoc:  43 | MSE  0.10424\n",
            "Epoc:  44 | MSE  0.10298\n",
            "Epoc:  45 | MSE  0.10179\n",
            "Epoc:  46 | MSE  0.10067\n",
            "Epoc:  47 | MSE  0.09961\n",
            "Epoc:  48 | MSE  0.09862\n",
            "Epoc:  49 | MSE  0.09768\n",
            "Epoc:  50 | MSE  0.09679\n",
            "Epoc:  51 | MSE  0.09596\n",
            "Epoc:  52 | MSE  0.09517\n",
            "Epoc:  53 | MSE  0.09443\n",
            "Epoc:  54 | MSE  0.09372\n",
            "Epoc:  55 | MSE  0.09306\n",
            "Epoc:  56 | MSE  0.09243\n",
            "Epoc:  57 | MSE  0.09184\n",
            "Epoc:  58 | MSE  0.09128\n",
            "Epoc:  59 | MSE  0.09075\n",
            "Epoc:  60 | MSE  0.09025\n",
            "Epoc:  61 | MSE  0.08978\n",
            "Epoc:  62 | MSE  0.08934\n",
            "Epoc:  63 | MSE  0.08892\n",
            "Epoc:  64 | MSE  0.08852\n",
            "Epoc:  65 | MSE  0.08814\n",
            "Epoc:  66 | MSE  0.08779\n",
            "Epoc:  67 | MSE  0.08745\n",
            "Epoc:  68 | MSE  0.08714\n",
            "Epoc:  69 | MSE  0.08684\n",
            "Epoc:  70 | MSE  0.08655\n",
            "Epoc:  71 | MSE  0.08629\n",
            "Epoc:  72 | MSE  0.08603\n",
            "Epoc:  73 | MSE  0.08579\n",
            "Epoc:  74 | MSE  0.08557\n",
            "Epoc:  75 | MSE  0.08535\n",
            "Epoc:  76 | MSE  0.08515\n",
            "Epoc:  77 | MSE  0.08496\n",
            "Epoc:  78 | MSE  0.08478\n",
            "Epoc:  79 | MSE  0.08461\n",
            "Epoc:  80 | MSE  0.08445\n",
            "Epoc:  81 | MSE  0.08430\n",
            "Epoc:  82 | MSE  0.08415\n",
            "Epoc:  83 | MSE  0.08401\n",
            "Epoc:  84 | MSE  0.08389\n",
            "Epoc:  85 | MSE  0.08376\n",
            "Epoc:  86 | MSE  0.08365\n",
            "Epoc:  87 | MSE  0.08354\n",
            "Epoc:  88 | MSE  0.08344\n",
            "Epoc:  89 | MSE  0.08334\n",
            "Epoc:  90 | MSE  0.08325\n",
            "Epoc:  91 | MSE  0.08316\n",
            "Epoc:  92 | MSE  0.08308\n",
            "Epoc:  93 | MSE  0.08300\n",
            "Epoc:  94 | MSE  0.08293\n",
            "Epoc:  95 | MSE  0.08286\n",
            "Epoc:  96 | MSE  0.08279\n",
            "Epoc:  97 | MSE  0.08273\n",
            "Epoc:  98 | MSE  0.08267\n",
            "Epoc:  99 | MSE  0.08261\n",
            "Epoc: 100 | MSE  0.08256\n",
            "Epoc: 101 | MSE  0.08251\n",
            "Epoc: 102 | MSE  0.08246\n",
            "Epoc: 103 | MSE  0.08242\n",
            "Epoc: 104 | MSE  0.08238\n",
            "Epoc: 105 | MSE  0.08234\n",
            "Epoc: 106 | MSE  0.08230\n",
            "Epoc: 107 | MSE  0.08227\n",
            "Epoc: 108 | MSE  0.08223\n",
            "Epoc: 109 | MSE  0.08220\n",
            "Epoc: 110 | MSE  0.08217\n",
            "Epoc: 111 | MSE  0.08214\n",
            "Epoc: 112 | MSE  0.08211\n",
            "Epoc: 113 | MSE  0.08209\n",
            "Epoc: 114 | MSE  0.08207\n",
            "Epoc: 115 | MSE  0.08204\n",
            "Epoc: 116 | MSE  0.08202\n",
            "Epoc: 117 | MSE  0.08200\n",
            "Epoc: 118 | MSE  0.08198\n",
            "Epoc: 119 | MSE  0.08196\n",
            "Epoc: 120 | MSE  0.08195\n",
            "Epoc: 121 | MSE  0.08193\n",
            "Epoc: 122 | MSE  0.08191\n",
            "Epoc: 123 | MSE  0.08190\n",
            "Epoc: 124 | MSE  0.08189\n",
            "Epoc: 125 | MSE  0.08187\n",
            "Epoc: 126 | MSE  0.08186\n",
            "Epoc: 127 | MSE  0.08185\n",
            "Epoc: 128 | MSE  0.08184\n",
            "Epoc: 129 | MSE  0.08183\n",
            "Epoc: 130 | MSE  0.08182\n",
            "Epoc: 131 | MSE  0.08181\n",
            "Epoc: 132 | MSE  0.08180\n",
            "Epoc: 133 | MSE  0.08179\n",
            "Epoc: 134 | MSE  0.08178\n",
            "Epoc: 135 | MSE  0.08178\n",
            "Epoc: 136 | MSE  0.08177\n",
            "Epoc: 137 | MSE  0.08176\n",
            "Epoc: 138 | MSE  0.08176\n",
            "Epoc: 139 | MSE  0.08175\n",
            "Epoc: 140 | MSE  0.08174\n",
            "Epoc: 141 | MSE  0.08174\n",
            "Epoc: 142 | MSE  0.08173\n",
            "Epoc: 143 | MSE  0.08173\n",
            "Epoc: 144 | MSE  0.08172\n",
            "Epoc: 145 | MSE  0.08172\n",
            "Epoc: 146 | MSE  0.08172\n",
            "Epoc: 147 | MSE  0.08171\n",
            "Epoc: 148 | MSE  0.08171\n",
            "Epoc: 149 | MSE  0.08171\n",
            "Epoc: 150 | MSE  0.08170\n",
            "Epoc: 151 | MSE  0.08170\n",
            "Epoc: 152 | MSE  0.08170\n",
            "Epoc: 153 | MSE  0.08169\n",
            "Epoc: 154 | MSE  0.08169\n",
            "Epoc: 155 | MSE  0.08169\n",
            "Epoc: 156 | MSE  0.08169\n",
            "Epoc: 157 | MSE  0.08168\n",
            "Epoc: 158 | MSE  0.08168\n",
            "Epoc: 159 | MSE  0.08168\n",
            "Epoc: 160 | MSE  0.08168\n",
            "Epoc: 161 | MSE  0.08168\n",
            "Epoc: 162 | MSE  0.08168\n",
            "Epoc: 163 | MSE  0.08167\n",
            "Epoc: 164 | MSE  0.08167\n",
            "Epoc: 165 | MSE  0.08167\n",
            "Epoc: 166 | MSE  0.08167\n",
            "Epoc: 167 | MSE  0.08167\n",
            "Epoc: 168 | MSE  0.08167\n",
            "Epoc: 169 | MSE  0.08167\n",
            "Epoc: 170 | MSE  0.08166\n",
            "Epoc: 171 | MSE  0.08166\n",
            "Epoc: 172 | MSE  0.08166\n",
            "Epoc: 173 | MSE  0.08166\n",
            "Epoc: 174 | MSE  0.08166\n",
            "Epoc: 175 | MSE  0.08166\n",
            "Epoc: 176 | MSE  0.08166\n",
            "Epoc: 177 | MSE  0.08166\n",
            "Epoc: 178 | MSE  0.08166\n",
            "Epoc: 179 | MSE  0.08166\n",
            "Epoc: 180 | MSE  0.08166\n",
            "Epoc: 181 | MSE  0.08166\n",
            "Epoc: 182 | MSE  0.08166\n",
            "Epoc: 183 | MSE  0.08166\n",
            "Epoc: 184 | MSE  0.08166\n",
            "Epoc: 185 | MSE  0.08165\n",
            "Epoc: 186 | MSE  0.08165\n",
            "Epoc: 187 | MSE  0.08165\n",
            "Epoc: 188 | MSE  0.08165\n",
            "Epoc: 189 | MSE  0.08165\n",
            "Epoc: 190 | MSE  0.08165\n",
            "Epoc: 191 | MSE  0.08165\n",
            "Epoc: 192 | MSE  0.08165\n",
            "Epoc: 193 | MSE  0.08165\n",
            "Epoc: 194 | MSE  0.08165\n",
            "Epoc: 195 | MSE  0.08165\n",
            "Epoc: 196 | MSE  0.08165\n",
            "Epoc: 197 | MSE  0.08165\n",
            "Epoc: 198 | MSE  0.08165\n",
            "Epoc: 199 | MSE  0.08165\n",
            "Epoc: 200 | MSE  0.08165\n"
          ]
        }
      ],
      "source": [
        "cost=train(model,X_train,y_train,n_epoch=200)"
      ]
    },
    {
      "cell_type": "code",
      "execution_count": 32,
      "metadata": {
        "colab": {
          "base_uri": "https://localhost:8080/",
          "height": 296
        },
        "id": "U7FElcjK6m8I",
        "outputId": "47f7d6fd-5ae3-4624-d13d-5bed7b8f6241"
      },
      "outputs": [
        {
          "data": {
            "text/plain": [
              "[]"
            ]
          },
          "execution_count": 32,
          "metadata": {},
          "output_type": "execute_result"
        },
        {
          "data": {
            "image/png": "[encoded data removed]",
            "text/plain": [
              "<Figure size 432x288 with 1 Axes>"
            ]
          },
          "metadata": {},
          "output_type": "display_data"
        }
      ],
      "source": [
        "plt.plot(range(len(cost)),cost)\n",
        "plt.xlabel('No of Epochs')\n",
        "plt.ylabel('Mean Squared Error')\n",
        "plt.plot()"
      ]
    },
    {
      "cell_type": "code",
      "execution_count": 30,
      "metadata": {
        "colab": {
          "base_uri": "https://localhost:8080/"
        },
        "id": "gb4XmG8W7UjJ",
        "outputId": "0432b60a-b8ef-43aa-f984-72d115be05dc"
      },
      "outputs": [
        {
          "name": "stdout",
          "output_type": "stream",
          "text": [
            "Training Accuracy : 0.96\n",
            "Testing Accuracy: 0.96\n"
          ]
        }
      ],
      "source": [
        "ones=torch.ones(y_train.size(0))\n",
        "zero=torch.zeros(y_train.size(0))\n",
        "train_pred=model.forward(X_train)\n",
        "\n",
        "train_acc=torch.mean((torch.where( train_pred >0.5 , ones,zero).int()==y_train).float())\n",
        "#print(train_acc)\n",
        "\n",
        "ones=torch.ones(y_test.size(0))\n",
        "zero=torch.zeros(y_test.size(0))\n",
        "test_pred=model.forward(X_test)\n",
        "\n",
        "test_acc=torch.mean((torch.where( test_pred >0.5 , ones,zero).int()==y_test).float())\n",
        "print('Training Accuracy : %.2f' % train_acc)\n",
        "print('Testing Accuracy: %.2f' % test_acc)"
      ]
    },
    {
      "cell_type": "markdown",
      "metadata": {
        "id": "Jw4-SmjGAwKw"
      },
      "source": [
        "### Logistic Regression"
      ]
    },
    {
      "cell_type": "code",
      "execution_count": 31,
      "metadata": {
        "id": "fOvf9DILA0Vt"
      },
      "outputs": [],
      "source": [
        "def train(model,x,y,n_epoch=10,lr=0.001,seed=23,bsz=50):\n",
        "\n",
        "  cost=[]\n",
        "  torch.manual_seed(seed)\n",
        "   ### Optimizer\n",
        "  optimizer=torch.optim.SGD(model.parameters(),lr=lr)\n",
        "  for i in range(n_epoch):\n",
        "    suffle_idx=torch.randperm(y.size(0))\n",
        "    batches=torch.split(suffle_idx,bsz)\n",
        "\n",
        "    for idx in batches:\n",
        "      ###1. Compute the Output\n",
        "      yhat=model.forward(x[idx])\n",
        "\n",
        "      ###2. Compute the Loss\n",
        "      loss=torch.nn.functional.binary_cross_entropy(torch.sigmoid(yhat),y[idx])\n",
        "\n",
        "      ###3. Compute the Gradients\n",
        "      optimizer.zero_grad()\n",
        "      loss.backward()\n",
        "\n",
        "      ###4. Update the Model Parameters\n",
        "      optimizer.step()\n",
        "\n",
        "      #model.weight=model.weight-lr*grad_w\n",
        "      #model.bias=model.bias-lr*grad_b\n",
        "\n",
        "    ###5. Log and print the Loss\n",
        "    with torch.no_grad():\n",
        "      yhat=model.forward(x)\n",
        "      curr_loss=loss_fn(yhat,y)\n",
        "      print('Epoc: %3d ' % (i+1),end=\"\")\n",
        "      print('| MSE % .5f' % curr_loss)\n",
        "      cost.append(curr_loss)\n",
        "      \n",
        "  return cost"
      ]
    },
    {
      "cell_type": "code",
      "execution_count": 32,
      "metadata": {
        "id": "PIUIMhifBawi"
      },
      "outputs": [],
      "source": [
        "n_feature=X_train.size(1)\n",
        "model=NNpt(n_features=n_feature)\n"
      ]
    },
    {
      "cell_type": "code",
      "execution_count": 33,
      "metadata": {
        "colab": {
          "base_uri": "https://localhost:8080/"
        },
        "id": "0C-2cXsdBdVJ",
        "outputId": "ed9a77fd-d8ef-4f71-a847-b43084ba8542"
      },
      "outputs": [
        {
          "name": "stdout",
          "output_type": "stream",
          "text": [
            "Epoc:   1 | MSE  0.49526\n",
            "Epoc:   2 | MSE  0.48517\n",
            "Epoc:   3 | MSE  0.47544\n",
            "Epoc:   4 | MSE  0.46604\n",
            "Epoc:   5 | MSE  0.45699\n",
            "Epoc:   6 | MSE  0.44827\n",
            "Epoc:   7 | MSE  0.43989\n",
            "Epoc:   8 | MSE  0.43182\n",
            "Epoc:   9 | MSE  0.42407\n",
            "Epoc:  10 | MSE  0.41663\n",
            "Epoc:  11 | MSE  0.40949\n",
            "Epoc:  12 | MSE  0.40265\n",
            "Epoc:  13 | MSE  0.39611\n",
            "Epoc:  14 | MSE  0.38985\n",
            "Epoc:  15 | MSE  0.38388\n",
            "Epoc:  16 | MSE  0.37818\n",
            "Epoc:  17 | MSE  0.37276\n",
            "Epoc:  18 | MSE  0.36760\n",
            "Epoc:  19 | MSE  0.36271\n",
            "Epoc:  20 | MSE  0.35807\n",
            "Epoc:  21 | MSE  0.35368\n",
            "Epoc:  22 | MSE  0.34955\n",
            "Epoc:  23 | MSE  0.34565\n",
            "Epoc:  24 | MSE  0.34200\n",
            "Epoc:  25 | MSE  0.33857\n",
            "Epoc:  26 | MSE  0.33538\n",
            "Epoc:  27 | MSE  0.33241\n",
            "Epoc:  28 | MSE  0.32967\n",
            "Epoc:  29 | MSE  0.32714\n",
            "Epoc:  30 | MSE  0.32482\n",
            "Epoc:  31 | MSE  0.32271\n",
            "Epoc:  32 | MSE  0.32081\n",
            "Epoc:  33 | MSE  0.31910\n",
            "Epoc:  34 | MSE  0.31759\n",
            "Epoc:  35 | MSE  0.31628\n",
            "Epoc:  36 | MSE  0.31516\n",
            "Epoc:  37 | MSE  0.31422\n",
            "Epoc:  38 | MSE  0.31346\n",
            "Epoc:  39 | MSE  0.31289\n",
            "Epoc:  40 | MSE  0.31249\n",
            "Epoc:  41 | MSE  0.31226\n",
            "Epoc:  42 | MSE  0.31220\n",
            "Epoc:  43 | MSE  0.31231\n",
            "Epoc:  44 | MSE  0.31257\n",
            "Epoc:  45 | MSE  0.31300\n",
            "Epoc:  46 | MSE  0.31359\n",
            "Epoc:  47 | MSE  0.31433\n",
            "Epoc:  48 | MSE  0.31521\n",
            "Epoc:  49 | MSE  0.31625\n",
            "Epoc:  50 | MSE  0.31743\n"
          ]
        }
      ],
      "source": [
        "cost=train(model,X_train,y_train,n_epoch=50)"
      ]
    },
    {
      "cell_type": "code",
      "execution_count": 34,
      "metadata": {
        "colab": {
          "base_uri": "https://localhost:8080/",
          "height": 296
        },
        "id": "Poh0lJYHBzdN",
        "outputId": "05690313-01fe-4f9f-ce45-5cc3a1eb05e2"
      },
      "outputs": [
        {
          "data": {
            "text/plain": [
              "[]"
            ]
          },
          "execution_count": 34,
          "metadata": {},
          "output_type": "execute_result"
        },
        {
          "data": {
            "image/png": "[encoded data removed]",
            "text/plain": [
              "<Figure size 432x288 with 1 Axes>"
            ]
          },
          "metadata": {},
          "output_type": "display_data"
        }
      ],
      "source": [
        "plt.plot(range(len(cost)),cost)\n",
        "plt.xlabel('No of Epochs')\n",
        "plt.ylabel('Mean Squared Error')\n",
        "plt.plot()"
      ]
    },
    {
      "cell_type": "code",
      "execution_count": 35,
      "metadata": {
        "colab": {
          "base_uri": "https://localhost:8080/"
        },
        "id": "AwaMm8VzCmgc",
        "outputId": "2601e687-d501-49d6-8805-a6354afd42de"
      },
      "outputs": [
        {
          "name": "stdout",
          "output_type": "stream",
          "text": [
            "Training Accuracy : 0.72\n",
            "Testing Accuracy: 0.73\n"
          ]
        }
      ],
      "source": [
        "ones=torch.ones(y_train.size(0))\n",
        "zero=torch.zeros(y_train.size(0))\n",
        "train_pred=model.forward(X_train)\n",
        "\n",
        "train_acc=torch.mean((torch.where( train_pred >0.5 , ones,zero).int()==y_train).float())\n",
        "#print(train_acc)\n",
        "\n",
        "ones=torch.ones(y_test.size(0))\n",
        "zero=torch.zeros(y_test.size(0))\n",
        "test_pred=model.forward(X_test)\n",
        "\n",
        "test_acc=torch.mean((torch.where( test_pred >0.5 , ones,zero).int()==y_test).float())\n",
        "print('Training Accuracy : %.2f' % train_acc)\n",
        "print('Testing Accuracy: %.2f' % test_acc)"
      ]
    }
  ],
  "metadata": {
    "colab": {
      "provenance": []
    },
    "kernelspec": {
      "display_name": "Python 3.7.3 ('envpytorch')",
      "language": "python",
      "name": "python3"
    },
    "language_info": {
      "codemirror_mode": {
        "name": "ipython",
        "version": 3
      },
      "file_extension": ".py",
      "mimetype": "text/x-python",
      "name": "python",
      "nbconvert_exporter": "python",
      "pygments_lexer": "ipython3",
      "version": "3.7.3"
    },
    "vscode": {
      "interpreter": {
        "hash": "0fc7bd647e6871e736cda3647e4a9f95e1dab561eda3abdd090cba4096b534d8"
      }
    }
  },
  "nbformat": 4,
  "nbformat_minor": 0
}
