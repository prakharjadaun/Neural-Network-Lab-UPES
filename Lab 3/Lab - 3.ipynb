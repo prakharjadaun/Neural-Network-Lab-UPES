{
 "cells": [
  {
   "cell_type": "markdown",
   "metadata": {},
   "source": [
    "# **Lab 3 - Regression with PyTorch**"
   ]
  },
  {
   "cell_type": "markdown",
   "metadata": {},
   "source": [
    "### **Building a Single Layer Perceptron**"
   ]
  },
  {
   "cell_type": "code",
   "execution_count": 1,
   "metadata": {},
   "outputs": [],
   "source": [
    "# importing the required libraries\n",
    "import torch\n",
    "import matplotlib.pyplot as plt\n",
    "import numpy as np\n",
    "import pandas as pd\n",
    "import seaborn as sns\n",
    "import torch.nn as nn \n",
    "from torch.autograd import grad\n",
    "plt.style.use('dark_background')\n",
    "# importing the make_classification function\n",
    "from sklearn.datasets import make_classification"
   ]
  },
  {
   "cell_type": "code",
   "execution_count": 2,
   "metadata": {},
   "outputs": [
    {
     "data": {
      "text/plain": [
       "<torch._C.Generator at 0x2ac2387d450>"
      ]
     },
     "execution_count": 2,
     "metadata": {},
     "output_type": "execute_result"
    }
   ],
   "source": [
    "# manual_seed() to initialize the random number generator\n",
    "torch.manual_seed(123)"
   ]
  },
  {
   "cell_type": "code",
   "execution_count": 3,
   "metadata": {},
   "outputs": [],
   "source": [
    "## Making a toy dataset\n",
    "# creating a classification data set using the make_classification function\n",
    "X,y=make_classification(n_samples=1000,n_features=4 ,n_classes=2)\n",
    "\n",
    "### Change it into the Tensor\n",
    "X=torch.tensor(X,dtype=torch.float32)\n",
    "y=torch.tensor(y,dtype=torch.float32)"
   ]
  },
  {
   "cell_type": "code",
   "execution_count": 4,
   "metadata": {},
   "outputs": [
    {
     "data": {
      "text/plain": [
       "tensor([[ 1.3432,  0.6048, -0.4747, -0.3470],\n",
       "        [ 0.6902, -0.8264,  0.3637, -1.2862],\n",
       "        [-0.9244, -0.9244,  0.5982, -0.2563],\n",
       "        ...,\n",
       "        [ 1.2929,  0.6650, -0.5012, -0.2533],\n",
       "        [ 1.6800, -1.9853,  0.8712, -3.1051],\n",
       "        [-1.3320, -1.1908,  0.7865, -0.2318]])"
      ]
     },
     "execution_count": 4,
     "metadata": {},
     "output_type": "execute_result"
    }
   ],
   "source": [
    "X"
   ]
  },
  {
   "cell_type": "code",
   "execution_count": 5,
   "metadata": {},
   "outputs": [
    {
     "data": {
      "text/plain": [
       "tensor([1., 0., 0., 0., 1., 0., 1., 1., 1., 1., 1., 1., 0., 1., 0., 1., 0., 1.,\n",
       "        1., 0., 0., 0., 1., 1., 0., 1., 0., 1., 0., 1., 1., 0., 0., 1., 1., 1.,\n",
       "        1., 0., 1., 1., 1., 1., 1., 0., 0., 0., 0., 0., 0., 0., 0., 1., 0., 0.,\n",
       "        0., 1., 1., 0., 0., 1., 1., 0., 0., 0., 1., 1., 0., 0., 0., 1., 1., 1.,\n",
       "        0., 1., 1., 0., 0., 1., 1., 1., 1., 1., 1., 1., 0., 0., 0., 1., 0., 1.,\n",
       "        0., 1., 0., 1., 0., 1., 0., 0., 0., 1., 1., 1., 0., 1., 0., 0., 0., 1.,\n",
       "        1., 1., 0., 0., 0., 0., 0., 0., 1., 0., 0., 1., 0., 0., 1., 0., 1., 0.,\n",
       "        1., 0., 1., 0., 0., 0., 0., 1., 0., 0., 0., 1., 1., 1., 0., 1., 1., 1.,\n",
       "        0., 1., 1., 1., 1., 1., 1., 0., 1., 0., 0., 1., 1., 0., 1., 1., 0., 0.,\n",
       "        1., 0., 1., 1., 1., 0., 0., 0., 1., 0., 1., 0., 0., 1., 0., 0., 1., 0.,\n",
       "        1., 0., 1., 1., 1., 0., 0., 1., 1., 1., 1., 1., 1., 0., 0., 1., 1., 0.,\n",
       "        1., 0., 1., 1., 0., 1., 1., 1., 0., 1., 1., 1., 0., 1., 0., 0., 0., 0.,\n",
       "        1., 1., 0., 0., 0., 1., 0., 0., 1., 1., 0., 0., 0., 0., 0., 1., 0., 0.,\n",
       "        0., 0., 0., 0., 0., 1., 0., 1., 0., 1., 1., 0., 0., 0., 1., 0., 0., 1.,\n",
       "        1., 0., 0., 0., 1., 1., 1., 1., 1., 0., 1., 0., 1., 1., 1., 1., 1., 1.,\n",
       "        0., 1., 1., 1., 0., 1., 0., 0., 1., 0., 0., 1., 0., 0., 0., 1., 1., 1.,\n",
       "        0., 1., 0., 1., 1., 1., 0., 0., 0., 1., 1., 1., 1., 0., 1., 1., 1., 0.,\n",
       "        1., 1., 1., 0., 1., 0., 1., 1., 1., 1., 0., 0., 1., 0., 0., 0., 0., 0.,\n",
       "        0., 0., 1., 1., 0., 1., 0., 1., 0., 0., 1., 1., 0., 1., 1., 0., 1., 0.,\n",
       "        0., 0., 0., 1., 0., 1., 0., 1., 0., 0., 1., 1., 0., 0., 1., 0., 1., 0.,\n",
       "        0., 1., 1., 1., 0., 1., 0., 1., 0., 0., 0., 0., 0., 0., 0., 0., 1., 0.,\n",
       "        0., 1., 0., 0., 0., 1., 1., 0., 1., 1., 0., 0., 1., 0., 0., 0., 0., 1.,\n",
       "        1., 1., 0., 1., 1., 1., 0., 0., 1., 0., 0., 0., 1., 0., 1., 1., 0., 1.,\n",
       "        1., 0., 0., 1., 0., 0., 1., 1., 0., 1., 1., 1., 1., 1., 0., 0., 0., 0.,\n",
       "        1., 1., 1., 1., 1., 0., 1., 1., 0., 0., 1., 0., 0., 1., 0., 1., 1., 0.,\n",
       "        1., 1., 1., 1., 0., 1., 1., 0., 1., 0., 0., 0., 0., 1., 1., 1., 0., 0.,\n",
       "        0., 1., 1., 0., 0., 0., 0., 0., 0., 0., 1., 0., 1., 1., 1., 1., 0., 0.,\n",
       "        1., 0., 1., 1., 0., 0., 0., 0., 1., 1., 1., 0., 1., 0., 0., 1., 1., 0.,\n",
       "        0., 1., 0., 1., 1., 0., 1., 1., 1., 1., 0., 0., 0., 1., 0., 0., 1., 1.,\n",
       "        1., 1., 0., 1., 0., 1., 0., 0., 1., 1., 1., 1., 0., 1., 1., 1., 1., 0.,\n",
       "        0., 0., 0., 1., 1., 1., 0., 0., 0., 1., 0., 0., 0., 0., 0., 1., 1., 0.,\n",
       "        0., 0., 0., 1., 1., 1., 1., 0., 1., 0., 1., 1., 0., 1., 0., 0., 0., 0.,\n",
       "        0., 1., 0., 1., 0., 1., 0., 1., 1., 0., 0., 1., 1., 0., 0., 0., 1., 1.,\n",
       "        0., 0., 1., 1., 1., 1., 1., 1., 0., 0., 1., 1., 1., 1., 0., 1., 0., 0.,\n",
       "        0., 1., 0., 0., 0., 1., 1., 0., 1., 0., 1., 1., 0., 1., 1., 0., 1., 1.,\n",
       "        0., 1., 1., 1., 0., 0., 0., 1., 1., 1., 0., 0., 0., 1., 1., 1., 1., 1.,\n",
       "        0., 1., 0., 0., 1., 0., 1., 1., 0., 0., 1., 1., 1., 1., 0., 1., 0., 1.,\n",
       "        0., 0., 0., 1., 1., 0., 0., 0., 1., 1., 1., 0., 1., 1., 0., 1., 1., 0.,\n",
       "        1., 1., 0., 0., 0., 1., 1., 0., 0., 0., 1., 1., 0., 0., 0., 0., 0., 1.,\n",
       "        1., 1., 0., 0., 0., 1., 0., 0., 0., 0., 0., 0., 0., 1., 1., 1., 0., 1.,\n",
       "        0., 0., 1., 0., 1., 1., 0., 1., 0., 1., 1., 1., 1., 0., 0., 0., 0., 1.,\n",
       "        0., 0., 1., 0., 0., 1., 0., 1., 1., 0., 1., 1., 0., 0., 0., 1., 1., 0.,\n",
       "        1., 1., 0., 1., 1., 1., 0., 1., 1., 0., 0., 1., 0., 0., 1., 0., 0., 0.,\n",
       "        0., 1., 1., 1., 1., 0., 1., 1., 1., 1., 1., 1., 0., 0., 1., 0., 1., 1.,\n",
       "        0., 1., 1., 1., 0., 0., 1., 0., 1., 0., 1., 0., 0., 0., 0., 1., 0., 0.,\n",
       "        1., 1., 1., 1., 1., 1., 0., 0., 0., 1., 1., 0., 0., 1., 0., 1., 0., 0.,\n",
       "        1., 1., 0., 0., 0., 0., 0., 0., 0., 0., 0., 1., 1., 0., 1., 0., 1., 1.,\n",
       "        0., 0., 0., 1., 0., 1., 1., 0., 1., 1., 0., 1., 1., 0., 0., 1., 0., 0.,\n",
       "        0., 0., 0., 0., 0., 0., 1., 0., 1., 1., 0., 0., 0., 1., 0., 1., 1., 1.,\n",
       "        0., 0., 0., 1., 0., 1., 0., 0., 0., 0., 1., 1., 1., 1., 0., 1., 1., 1.,\n",
       "        1., 1., 0., 0., 0., 1., 1., 0., 1., 1., 1., 1., 0., 0., 1., 1., 0., 0.,\n",
       "        0., 0., 1., 1., 0., 0., 0., 0., 0., 0., 1., 1., 1., 0., 1., 1., 0., 1.,\n",
       "        1., 1., 1., 1., 0., 0., 0., 0., 0., 1., 1., 1., 0., 1., 0., 0., 1., 1.,\n",
       "        1., 1., 1., 1., 1., 0., 0., 0., 1., 1., 1., 0., 1., 1., 1., 0., 1., 0.,\n",
       "        0., 1., 1., 0., 0., 0., 0., 0., 1., 1., 0., 1., 1., 0., 0., 0., 1., 1.,\n",
       "        1., 0., 0., 0., 0., 0., 0., 1., 0., 0.])"
      ]
     },
     "execution_count": 5,
     "metadata": {},
     "output_type": "execute_result"
    }
   ],
   "source": [
    "y"
   ]
  },
  {
   "cell_type": "code",
   "execution_count": 6,
   "metadata": {},
   "outputs": [
    {
     "data": {
      "text/plain": [
       "tensor([937, 859, 548, 487, 148, 190, 199, 632,  33, 714])"
      ]
     },
     "execution_count": 6,
     "metadata": {},
     "output_type": "execute_result"
    }
   ],
   "source": [
    "### Data Suffling\n",
    "torch.manual_seed(10)\n",
    "# randperm returns the vector of random permutation of the long integers\n",
    "suffle_idx=torch.randperm(y.size(0),dtype=torch.long)\n",
    "X,y=X[suffle_idx],y[suffle_idx]\n",
    "suffle_idx[:10]"
   ]
  },
  {
   "cell_type": "code",
   "execution_count": 7,
   "metadata": {},
   "outputs": [],
   "source": [
    "# splitting dataset\n",
    "train_size=int(suffle_idx.size(0)*0.7)\n",
    "train_idx= suffle_idx[:train_size]\n",
    "test_idx=suffle_idx[train_size:]\n",
    "X_train,y_train=X[train_idx],y[train_idx]\n",
    "X_test,y_test=X[test_idx],y[test_idx]"
   ]
  },
  {
   "cell_type": "code",
   "execution_count": 8,
   "metadata": {},
   "outputs": [
    {
     "data": {
      "text/plain": [
       "torch.Size([700, 4])"
      ]
     },
     "execution_count": 8,
     "metadata": {},
     "output_type": "execute_result"
    }
   ],
   "source": [
    "X_train.shape"
   ]
  },
  {
   "cell_type": "code",
   "execution_count": 9,
   "metadata": {},
   "outputs": [
    {
     "data": {
      "text/plain": [
       "torch.Size([300, 4])"
      ]
     },
     "execution_count": 9,
     "metadata": {},
     "output_type": "execute_result"
    }
   ],
   "source": [
    "X_test.shape"
   ]
  },
  {
   "cell_type": "code",
   "execution_count": 10,
   "metadata": {},
   "outputs": [
    {
     "data": {
      "text/plain": [
       "torch.Size([700])"
      ]
     },
     "execution_count": 10,
     "metadata": {},
     "output_type": "execute_result"
    }
   ],
   "source": [
    "y_train.shape"
   ]
  },
  {
   "cell_type": "code",
   "execution_count": 11,
   "metadata": {},
   "outputs": [
    {
     "data": {
      "text/plain": [
       "torch.Size([300])"
      ]
     },
     "execution_count": 11,
     "metadata": {},
     "output_type": "execute_result"
    }
   ],
   "source": [
    "y_test.shape"
   ]
  },
  {
   "cell_type": "code",
   "execution_count": 12,
   "metadata": {},
   "outputs": [],
   "source": [
    "#### Normalizing the dataset\n",
    "\n",
    "mean,std_dev=X_train.mean(dim=0) ,X_train.std(dim=0)\n",
    "X_train=(X_train-mean)/std_dev\n",
    "X_test=(X_test-mean)/std_dev"
   ]
  },
  {
   "cell_type": "code",
   "execution_count": 13,
   "metadata": {},
   "outputs": [],
   "source": [
    "# definning the class NN\n",
    "class NN():\n",
    "  def __init__(self,n_features):\n",
    "    self.n_features=n_features\n",
    "    self.weight=torch.zeros(size=(n_features,1),dtype=torch.float,requires_grad=True)\n",
    "    self.bias=torch.zeros(1,dtype=torch.float,requires_grad=True)\n",
    "  \n",
    "\n",
    "  def forward(self,x):\n",
    "    output=torch.add(torch.mm(x,self.weight),self.bias)\n",
    "    return output.view(-1)\n",
    "\n",
    "def loss_fn(yhat,y):\n",
    "  return torch.mean((yhat-y)**2)"
   ]
  },
  {
   "cell_type": "code",
   "execution_count": 14,
   "metadata": {},
   "outputs": [],
   "source": [
    "def train(model,x,y,n_epoch=10,lr=0.001,seed=23,bsz=50):\n",
    "\n",
    "  # cost list for storing the cost of the error function \n",
    "  cost=[]\n",
    "  torch.manual_seed(seed)\n",
    "  for i in range(n_epoch):\n",
    "    suffle_idx=torch.randperm(y.size(0))\n",
    "    batches=torch.split(suffle_idx,bsz)\n",
    "\n",
    "    for idx in batches:\n",
    "\n",
    "      ###1. Compute the output\n",
    "      yhat=model.forward(x[idx])\n",
    "\n",
    "      ###2. Compute the Error\n",
    "      loss=loss_fn(yhat,y[idx])\n",
    "\n",
    "      ###3. Compute the gradient\n",
    "      grad_w=grad(loss,model.weight,retain_graph=True)[0]\n",
    "      grad_b=grad(loss,model.bias)[0]\n",
    "\n",
    "      ###4. Update Model Parameters\n",
    "      model.weight=model.weight-lr*grad_w\n",
    "      model.bias=model.bias-lr*grad_b\n",
    "\n",
    "    ###5. Log and print the loss\n",
    "    with torch.no_grad():\n",
    "      yhat=model.forward(x)\n",
    "      curr_loss=loss_fn(yhat,y)\n",
    "      print('Epoc: %3d ' % (i+1),end=\"\")\n",
    "      print('| MSE % .5f' % curr_loss)\n",
    "      cost.append(curr_loss)\n",
    "      \n",
    "  return cost"
   ]
  },
  {
   "cell_type": "code",
   "execution_count": 15,
   "metadata": {},
   "outputs": [
    {
     "name": "stdout",
     "output_type": "stream",
     "text": [
      "Epoc:   1 | MSE  0.46239\n",
      "Epoc:   2 | MSE  0.43004\n",
      "Epoc:   3 | MSE  0.40104\n",
      "Epoc:   4 | MSE  0.37498\n",
      "Epoc:   5 | MSE  0.35153\n",
      "Epoc:   6 | MSE  0.33035\n",
      "Epoc:   7 | MSE  0.31117\n",
      "Epoc:   8 | MSE  0.29375\n",
      "Epoc:   9 | MSE  0.27793\n",
      "Epoc:  10 | MSE  0.26351\n",
      "Epoc:  11 | MSE  0.25032\n",
      "Epoc:  12 | MSE  0.23826\n",
      "Epoc:  13 | MSE  0.22719\n",
      "Epoc:  14 | MSE  0.21703\n",
      "Epoc:  15 | MSE  0.20766\n",
      "Epoc:  16 | MSE  0.19902\n",
      "Epoc:  17 | MSE  0.19104\n",
      "Epoc:  18 | MSE  0.18365\n",
      "Epoc:  19 | MSE  0.17680\n",
      "Epoc:  20 | MSE  0.17043\n",
      "Epoc:  21 | MSE  0.16452\n",
      "Epoc:  22 | MSE  0.15901\n",
      "Epoc:  23 | MSE  0.15388\n",
      "Epoc:  24 | MSE  0.14910\n",
      "Epoc:  25 | MSE  0.14463\n",
      "Epoc:  26 | MSE  0.14045\n",
      "Epoc:  27 | MSE  0.13654\n",
      "Epoc:  28 | MSE  0.13288\n",
      "Epoc:  29 | MSE  0.12945\n",
      "Epoc:  30 | MSE  0.12624\n",
      "Epoc:  31 | MSE  0.12322\n",
      "Epoc:  32 | MSE  0.12039\n",
      "Epoc:  33 | MSE  0.11773\n",
      "Epoc:  34 | MSE  0.11524\n",
      "Epoc:  35 | MSE  0.11289\n",
      "Epoc:  36 | MSE  0.11068\n",
      "Epoc:  37 | MSE  0.10860\n",
      "Epoc:  38 | MSE  0.10664\n",
      "Epoc:  39 | MSE  0.10480\n",
      "Epoc:  40 | MSE  0.10306\n",
      "Epoc:  41 | MSE  0.10143\n",
      "Epoc:  42 | MSE  0.09989\n",
      "Epoc:  43 | MSE  0.09844\n",
      "Epoc:  44 | MSE  0.09707\n",
      "Epoc:  45 | MSE  0.09578\n",
      "Epoc:  46 | MSE  0.09456\n",
      "Epoc:  47 | MSE  0.09342\n",
      "Epoc:  48 | MSE  0.09233\n",
      "Epoc:  49 | MSE  0.09131\n",
      "Epoc:  50 | MSE  0.09035\n",
      "Epoc:  51 | MSE  0.08944\n",
      "Epoc:  52 | MSE  0.08858\n",
      "Epoc:  53 | MSE  0.08777\n",
      "Epoc:  54 | MSE  0.08701\n",
      "Epoc:  55 | MSE  0.08628\n",
      "Epoc:  56 | MSE  0.08560\n",
      "Epoc:  57 | MSE  0.08496\n",
      "Epoc:  58 | MSE  0.08435\n",
      "Epoc:  59 | MSE  0.08378\n",
      "Epoc:  60 | MSE  0.08324\n",
      "Epoc:  61 | MSE  0.08273\n",
      "Epoc:  62 | MSE  0.08224\n",
      "Epoc:  63 | MSE  0.08179\n",
      "Epoc:  64 | MSE  0.08136\n",
      "Epoc:  65 | MSE  0.08095\n",
      "Epoc:  66 | MSE  0.08057\n",
      "Epoc:  67 | MSE  0.08020\n",
      "Epoc:  68 | MSE  0.07986\n",
      "Epoc:  69 | MSE  0.07954\n",
      "Epoc:  70 | MSE  0.07923\n"
     ]
    }
   ],
   "source": [
    "model=NN(X_train.size(1))\n",
    "cost=train(model,X_train,y_train,n_epoch=70)"
   ]
  },
  {
   "cell_type": "code",
   "execution_count": 16,
   "metadata": {},
   "outputs": [
    {
     "data": {
      "image/png": "[encoded data removed]",
      "text/plain": [
       "<Figure size 432x288 with 1 Axes>"
      ]
     },
     "metadata": {},
     "output_type": "display_data"
    }
   ],
   "source": [
    "plt.plot(range(len(cost)),cost)\n",
    "plt.ylabel('Mean Sqare Error')\n",
    "plt.xlabel('Epoc')\n",
    "plt.grid(linestyle='--',color='green')\n",
    "plt.show()"
   ]
  },
  {
   "cell_type": "code",
   "execution_count": 17,
   "metadata": {},
   "outputs": [
    {
     "name": "stdout",
     "output_type": "stream",
     "text": [
      "Training Accuracy: 93.71\n",
      "Testing Accuracy: 89.33\n"
     ]
    }
   ],
   "source": [
    "ones=torch.ones(y_train.size())\n",
    "zero=torch.zeros(y_train.size())\n",
    "train_pred=model.forward(X_train)\n",
    "train_acc=torch.mean((  \n",
    "    torch.where(train_pred > 0.5,\n",
    "                ones,zero).int()==y_train).float())\n",
    "\n",
    "\n",
    "ones=torch.ones(y_test.size())\n",
    "zeros=torch.zeros(y_test.size())\n",
    "test_pred=model.forward(X_test)\n",
    "test_acc=torch.mean((torch.where(test_pred> 0.5,ones,zeros).int()==y_test).float())\n",
    "\n",
    "print('Training Accuracy: %.2f' % (train_acc*100))\n",
    "print('Testing Accuracy: %.2f' % (test_acc*100))"
   ]
  },
  {
   "cell_type": "markdown",
   "metadata": {},
   "source": [
    "### **Altering the Learning rate**"
   ]
  },
  {
   "cell_type": "code",
   "execution_count": 18,
   "metadata": {},
   "outputs": [
    {
     "name": "stdout",
     "output_type": "stream",
     "text": [
      "Epoc:   1 | MSE  0.49853\n",
      "Epoc:   2 | MSE  0.49850\n",
      "Epoc:   3 | MSE  0.49846\n",
      "Epoc:   4 | MSE  0.49842\n",
      "Epoc:   5 | MSE  0.49838\n",
      "Epoc:   6 | MSE  0.49834\n",
      "Epoc:   7 | MSE  0.49830\n",
      "Epoc:   8 | MSE  0.49827\n",
      "Epoc:   9 | MSE  0.49823\n",
      "Epoc:  10 | MSE  0.49819\n",
      "Epoc:  11 | MSE  0.49815\n",
      "Epoc:  12 | MSE  0.49811\n",
      "Epoc:  13 | MSE  0.49808\n",
      "Epoc:  14 | MSE  0.49804\n",
      "Epoc:  15 | MSE  0.49800\n",
      "Epoc:  16 | MSE  0.49796\n",
      "Epoc:  17 | MSE  0.49792\n",
      "Epoc:  18 | MSE  0.49788\n",
      "Epoc:  19 | MSE  0.49785\n",
      "Epoc:  20 | MSE  0.49781\n",
      "Epoc:  21 | MSE  0.49777\n",
      "Epoc:  22 | MSE  0.49773\n",
      "Epoc:  23 | MSE  0.49769\n",
      "Epoc:  24 | MSE  0.49766\n",
      "Epoc:  25 | MSE  0.49762\n",
      "Epoc:  26 | MSE  0.49758\n",
      "Epoc:  27 | MSE  0.49754\n",
      "Epoc:  28 | MSE  0.49750\n",
      "Epoc:  29 | MSE  0.49747\n",
      "Epoc:  30 | MSE  0.49743\n",
      "Epoc:  31 | MSE  0.49739\n",
      "Epoc:  32 | MSE  0.49735\n",
      "Epoc:  33 | MSE  0.49731\n",
      "Epoc:  34 | MSE  0.49728\n",
      "Epoc:  35 | MSE  0.49724\n",
      "Epoc:  36 | MSE  0.49720\n",
      "Epoc:  37 | MSE  0.49716\n",
      "Epoc:  38 | MSE  0.49712\n",
      "Epoc:  39 | MSE  0.49709\n",
      "Epoc:  40 | MSE  0.49705\n",
      "Epoc:  41 | MSE  0.49701\n",
      "Epoc:  42 | MSE  0.49697\n",
      "Epoc:  43 | MSE  0.49693\n",
      "Epoc:  44 | MSE  0.49690\n",
      "Epoc:  45 | MSE  0.49686\n",
      "Epoc:  46 | MSE  0.49682\n",
      "Epoc:  47 | MSE  0.49678\n",
      "Epoc:  48 | MSE  0.49674\n",
      "Epoc:  49 | MSE  0.49671\n",
      "Epoc:  50 | MSE  0.49667\n",
      "Epoc:  51 | MSE  0.49663\n",
      "Epoc:  52 | MSE  0.49659\n",
      "Epoc:  53 | MSE  0.49655\n",
      "Epoc:  54 | MSE  0.49652\n",
      "Epoc:  55 | MSE  0.49648\n",
      "Epoc:  56 | MSE  0.49644\n",
      "Epoc:  57 | MSE  0.49640\n",
      "Epoc:  58 | MSE  0.49636\n",
      "Epoc:  59 | MSE  0.49633\n",
      "Epoc:  60 | MSE  0.49629\n",
      "Epoc:  61 | MSE  0.49625\n",
      "Epoc:  62 | MSE  0.49621\n",
      "Epoc:  63 | MSE  0.49617\n",
      "Epoc:  64 | MSE  0.49614\n",
      "Epoc:  65 | MSE  0.49610\n",
      "Epoc:  66 | MSE  0.49606\n",
      "Epoc:  67 | MSE  0.49602\n",
      "Epoc:  68 | MSE  0.49598\n",
      "Epoc:  69 | MSE  0.49595\n",
      "Epoc:  70 | MSE  0.49591\n"
     ]
    }
   ],
   "source": [
    "# when learning rate is too small\n",
    "model2=NN(X_train.size(1))\n",
    "cost2=train(model2,X_train,y_train,lr = 0.000001,n_epoch=70)"
   ]
  },
  {
   "cell_type": "code",
   "execution_count": 19,
   "metadata": {},
   "outputs": [
    {
     "data": {
      "image/png": "[encoded data removed]",
      "text/plain": [
       "<Figure size 432x288 with 1 Axes>"
      ]
     },
     "metadata": {},
     "output_type": "display_data"
    }
   ],
   "source": [
    "plt.plot(range(len(cost2)),cost2)\n",
    "plt.ylabel('Mean Sqare Error')\n",
    "plt.xlabel('Epoc')\n",
    "plt.grid(linestyle='--',color='green')\n",
    "plt.show()"
   ]
  },
  {
   "cell_type": "markdown",
   "metadata": {},
   "source": [
    "We do not reach the the global or local minimum of our cost function "
   ]
  },
  {
   "cell_type": "code",
   "execution_count": 20,
   "metadata": {},
   "outputs": [
    {
     "name": "stdout",
     "output_type": "stream",
     "text": [
      "Training Accuracy: 50.14\n",
      "Testing Accuracy: 50.33\n"
     ]
    }
   ],
   "source": [
    "ones=torch.ones(y_train.size())\n",
    "zero=torch.zeros(y_train.size())\n",
    "train_pred=model2.forward(X_train)\n",
    "train_acc=torch.mean((  \n",
    "    torch.where(train_pred > 0.5,\n",
    "                ones,zero).int()==y_train).float())\n",
    "\n",
    "\n",
    "ones=torch.ones(y_test.size())\n",
    "zeros=torch.zeros(y_test.size())\n",
    "test_pred=model2.forward(X_test)\n",
    "test_acc=torch.mean((torch.where(test_pred> 0.5,ones,zeros).int()==y_test).float())\n",
    "\n",
    "print('Training Accuracy: %.2f' % (train_acc*100))\n",
    "print('Testing Accuracy: %.2f' % (test_acc*100))"
   ]
  },
  {
   "cell_type": "code",
   "execution_count": 21,
   "metadata": {},
   "outputs": [
    {
     "name": "stdout",
     "output_type": "stream",
     "text": [
      "Epoc:   1 | MSE  0.07482\n",
      "Epoc:   2 | MSE  0.07428\n",
      "Epoc:   3 | MSE  0.07416\n",
      "Epoc:   4 | MSE  0.07409\n",
      "Epoc:   5 | MSE  0.07622\n",
      "Epoc:   6 | MSE  0.07421\n",
      "Epoc:   7 | MSE  0.07492\n",
      "Epoc:   8 | MSE  0.07429\n",
      "Epoc:   9 | MSE  0.07475\n",
      "Epoc:  10 | MSE  0.07423\n",
      "Epoc:  11 | MSE  0.07409\n",
      "Epoc:  12 | MSE  0.07437\n",
      "Epoc:  13 | MSE  0.07437\n",
      "Epoc:  14 | MSE  0.07448\n",
      "Epoc:  15 | MSE  0.07439\n",
      "Epoc:  16 | MSE  0.07418\n",
      "Epoc:  17 | MSE  0.07404\n",
      "Epoc:  18 | MSE  0.07424\n",
      "Epoc:  19 | MSE  0.07443\n",
      "Epoc:  20 | MSE  0.07484\n",
      "Epoc:  21 | MSE  0.07482\n",
      "Epoc:  22 | MSE  0.07433\n",
      "Epoc:  23 | MSE  0.07471\n",
      "Epoc:  24 | MSE  0.07440\n",
      "Epoc:  25 | MSE  0.07427\n",
      "Epoc:  26 | MSE  0.07462\n",
      "Epoc:  27 | MSE  0.07442\n",
      "Epoc:  28 | MSE  0.07464\n",
      "Epoc:  29 | MSE  0.07428\n",
      "Epoc:  30 | MSE  0.07462\n",
      "Epoc:  31 | MSE  0.07415\n",
      "Epoc:  32 | MSE  0.07415\n",
      "Epoc:  33 | MSE  0.07429\n",
      "Epoc:  34 | MSE  0.07443\n",
      "Epoc:  35 | MSE  0.07427\n",
      "Epoc:  36 | MSE  0.07541\n",
      "Epoc:  37 | MSE  0.07437\n",
      "Epoc:  38 | MSE  0.07411\n",
      "Epoc:  39 | MSE  0.07526\n",
      "Epoc:  40 | MSE  0.07534\n",
      "Epoc:  41 | MSE  0.07438\n",
      "Epoc:  42 | MSE  0.07424\n",
      "Epoc:  43 | MSE  0.07434\n",
      "Epoc:  44 | MSE  0.07495\n",
      "Epoc:  45 | MSE  0.07532\n",
      "Epoc:  46 | MSE  0.07410\n",
      "Epoc:  47 | MSE  0.07425\n",
      "Epoc:  48 | MSE  0.07487\n",
      "Epoc:  49 | MSE  0.07407\n",
      "Epoc:  50 | MSE  0.07439\n",
      "Epoc:  51 | MSE  0.07498\n",
      "Epoc:  52 | MSE  0.07435\n",
      "Epoc:  53 | MSE  0.07413\n",
      "Epoc:  54 | MSE  0.07462\n",
      "Epoc:  55 | MSE  0.07438\n",
      "Epoc:  56 | MSE  0.07479\n",
      "Epoc:  57 | MSE  0.07419\n",
      "Epoc:  58 | MSE  0.07441\n",
      "Epoc:  59 | MSE  0.07508\n",
      "Epoc:  60 | MSE  0.07469\n",
      "Epoc:  61 | MSE  0.07456\n",
      "Epoc:  62 | MSE  0.07417\n",
      "Epoc:  63 | MSE  0.07426\n",
      "Epoc:  64 | MSE  0.07437\n",
      "Epoc:  65 | MSE  0.07459\n",
      "Epoc:  66 | MSE  0.07444\n",
      "Epoc:  67 | MSE  0.07483\n",
      "Epoc:  68 | MSE  0.07424\n",
      "Epoc:  69 | MSE  0.07464\n",
      "Epoc:  70 | MSE  0.07539\n"
     ]
    }
   ],
   "source": [
    "# when learning rate is too large\n",
    "model3 = NN(X_train.size(1))\n",
    "cost3=train(model3,X_train,y_train,lr = 0.1,n_epoch=70)"
   ]
  },
  {
   "cell_type": "code",
   "execution_count": 22,
   "metadata": {},
   "outputs": [
    {
     "data": {
      "image/png": "[encoded data removed]",
      "text/plain": [
       "<Figure size 432x288 with 1 Axes>"
      ]
     },
     "metadata": {},
     "output_type": "display_data"
    }
   ],
   "source": [
    "plt.plot(range(len(cost3)),cost3)\n",
    "plt.ylabel('Mean Sqare Error')\n",
    "plt.xlabel('Epoc')\n",
    "plt.grid(linestyle='--',color='green')\n",
    "plt.show()"
   ]
  },
  {
   "cell_type": "markdown",
   "metadata": {},
   "source": [
    "When the learning rate is too high, we do not reach the global/local minimum of the cost function because the weight either gets updated too high or too low and that's the reason the graph of cost vs epoch is too much distorted."
   ]
  },
  {
   "cell_type": "code",
   "execution_count": 23,
   "metadata": {},
   "outputs": [
    {
     "name": "stdout",
     "output_type": "stream",
     "text": [
      "Training Accuracy: 94.29\n",
      "Testing Accuracy: 91.67\n"
     ]
    }
   ],
   "source": [
    "ones=torch.ones(y_train.size())\n",
    "zero=torch.zeros(y_train.size())\n",
    "train_pred=model3.forward(X_train)\n",
    "train_acc=torch.mean((  \n",
    "    torch.where(train_pred > 0.5,\n",
    "                ones,zero).int()==y_train).float())\n",
    "\n",
    "\n",
    "ones=torch.ones(y_test.size())\n",
    "zeros=torch.zeros(y_test.size())\n",
    "test_pred=model3.forward(X_test)\n",
    "test_acc=torch.mean((torch.where(test_pred> 0.5,ones,zeros).int()==y_test).float())\n",
    "\n",
    "print('Training Accuracy: %.2f' % (train_acc*100))\n",
    "print('Testing Accuracy: %.2f' % (test_acc*100))"
   ]
  },
  {
   "cell_type": "markdown",
   "metadata": {},
   "source": [
    "### **Altering the batch size**"
   ]
  },
  {
   "cell_type": "code",
   "execution_count": 24,
   "metadata": {},
   "outputs": [
    {
     "name": "stdout",
     "output_type": "stream",
     "text": [
      "Epoc:   1 | MSE  0.26327\n",
      "Epoc:   2 | MSE  0.17020\n",
      "Epoc:   3 | MSE  0.12601\n",
      "Epoc:   4 | MSE  0.10297\n",
      "Epoc:   5 | MSE  0.09042\n",
      "Epoc:   6 | MSE  0.08325\n",
      "Epoc:   7 | MSE  0.07926\n",
      "Epoc:   8 | MSE  0.07699\n",
      "Epoc:   9 | MSE  0.07572\n",
      "Epoc:  10 | MSE  0.07500\n",
      "Epoc:  11 | MSE  0.07457\n",
      "Epoc:  12 | MSE  0.07433\n",
      "Epoc:  13 | MSE  0.07419\n",
      "Epoc:  14 | MSE  0.07412\n",
      "Epoc:  15 | MSE  0.07407\n",
      "Epoc:  16 | MSE  0.07404\n",
      "Epoc:  17 | MSE  0.07403\n",
      "Epoc:  18 | MSE  0.07402\n",
      "Epoc:  19 | MSE  0.07401\n",
      "Epoc:  20 | MSE  0.07401\n",
      "Epoc:  21 | MSE  0.07401\n",
      "Epoc:  22 | MSE  0.07401\n",
      "Epoc:  23 | MSE  0.07401\n",
      "Epoc:  24 | MSE  0.07401\n",
      "Epoc:  25 | MSE  0.07401\n",
      "Epoc:  26 | MSE  0.07401\n",
      "Epoc:  27 | MSE  0.07401\n",
      "Epoc:  28 | MSE  0.07401\n",
      "Epoc:  29 | MSE  0.07401\n",
      "Epoc:  30 | MSE  0.07401\n",
      "Epoc:  31 | MSE  0.07401\n",
      "Epoc:  32 | MSE  0.07401\n",
      "Epoc:  33 | MSE  0.07401\n",
      "Epoc:  34 | MSE  0.07401\n",
      "Epoc:  35 | MSE  0.07401\n",
      "Epoc:  36 | MSE  0.07401\n",
      "Epoc:  37 | MSE  0.07401\n",
      "Epoc:  38 | MSE  0.07401\n",
      "Epoc:  39 | MSE  0.07402\n",
      "Epoc:  40 | MSE  0.07401\n",
      "Epoc:  41 | MSE  0.07401\n",
      "Epoc:  42 | MSE  0.07401\n",
      "Epoc:  43 | MSE  0.07401\n",
      "Epoc:  44 | MSE  0.07401\n",
      "Epoc:  45 | MSE  0.07402\n",
      "Epoc:  46 | MSE  0.07401\n",
      "Epoc:  47 | MSE  0.07401\n",
      "Epoc:  48 | MSE  0.07401\n",
      "Epoc:  49 | MSE  0.07401\n",
      "Epoc:  50 | MSE  0.07401\n",
      "Epoc:  51 | MSE  0.07402\n",
      "Epoc:  52 | MSE  0.07401\n",
      "Epoc:  53 | MSE  0.07401\n",
      "Epoc:  54 | MSE  0.07401\n",
      "Epoc:  55 | MSE  0.07401\n",
      "Epoc:  56 | MSE  0.07401\n",
      "Epoc:  57 | MSE  0.07401\n",
      "Epoc:  58 | MSE  0.07401\n",
      "Epoc:  59 | MSE  0.07401\n",
      "Epoc:  60 | MSE  0.07401\n",
      "Epoc:  61 | MSE  0.07401\n",
      "Epoc:  62 | MSE  0.07401\n",
      "Epoc:  63 | MSE  0.07401\n",
      "Epoc:  64 | MSE  0.07401\n",
      "Epoc:  65 | MSE  0.07401\n",
      "Epoc:  66 | MSE  0.07401\n",
      "Epoc:  67 | MSE  0.07401\n",
      "Epoc:  68 | MSE  0.07401\n",
      "Epoc:  69 | MSE  0.07401\n",
      "Epoc:  70 | MSE  0.07401\n"
     ]
    }
   ],
   "source": [
    "# when batch size is too small\n",
    "model4 = NN(X_train.size(1))\n",
    "cost4=train(model4,X_train,y_train,lr = 0.001,n_epoch=70,bsz=5)"
   ]
  },
  {
   "cell_type": "code",
   "execution_count": 25,
   "metadata": {},
   "outputs": [
    {
     "data": {
      "image/png": "[encoded data removed]",
      "text/plain": [
       "<Figure size 432x288 with 1 Axes>"
      ]
     },
     "metadata": {},
     "output_type": "display_data"
    }
   ],
   "source": [
    "plt.plot(range(len(cost4)),cost4)\n",
    "plt.ylabel('Mean Sqare Error')\n",
    "plt.xlabel('Epoc')\n",
    "plt.grid(linestyle='--',color='green')\n",
    "plt.show()"
   ]
  },
  {
   "cell_type": "markdown",
   "metadata": {},
   "source": [
    "When the batch size is too small, the learning process slows down and updation parameters get changed after each small batch size. It may lead to overfitting."
   ]
  },
  {
   "cell_type": "code",
   "execution_count": 26,
   "metadata": {},
   "outputs": [
    {
     "name": "stdout",
     "output_type": "stream",
     "text": [
      "Training Accuracy: 94.00\n",
      "Testing Accuracy: 93.00\n"
     ]
    }
   ],
   "source": [
    "ones=torch.ones(y_train.size())\n",
    "zero=torch.zeros(y_train.size())\n",
    "train_pred=model4.forward(X_train)\n",
    "train_acc=torch.mean((  \n",
    "    torch.where(train_pred > 0.5,\n",
    "                ones,zero).int()==y_train).float())\n",
    "\n",
    "\n",
    "ones=torch.ones(y_test.size())\n",
    "zeros=torch.zeros(y_test.size())\n",
    "test_pred=model4.forward(X_test)\n",
    "test_acc=torch.mean((torch.where(test_pred> 0.5,ones,zeros).int()==y_test).float())\n",
    "\n",
    "print('Training Accuracy: %.2f' % (train_acc*100))\n",
    "print('Testing Accuracy: %.2f' % (test_acc*100))"
   ]
  },
  {
   "cell_type": "code",
   "execution_count": 27,
   "metadata": {},
   "outputs": [
    {
     "name": "stdout",
     "output_type": "stream",
     "text": [
      "Epoc:   1 | MSE  0.47997\n",
      "Epoc:   2 | MSE  0.46239\n",
      "Epoc:   3 | MSE  0.44577\n",
      "Epoc:   4 | MSE  0.43004\n",
      "Epoc:   5 | MSE  0.41516\n",
      "Epoc:   6 | MSE  0.40106\n",
      "Epoc:   7 | MSE  0.38768\n",
      "Epoc:   8 | MSE  0.37500\n",
      "Epoc:   9 | MSE  0.36296\n",
      "Epoc:  10 | MSE  0.35153\n",
      "Epoc:  11 | MSE  0.34066\n",
      "Epoc:  12 | MSE  0.33033\n",
      "Epoc:  13 | MSE  0.32051\n",
      "Epoc:  14 | MSE  0.31115\n",
      "Epoc:  15 | MSE  0.30224\n",
      "Epoc:  16 | MSE  0.29375\n",
      "Epoc:  17 | MSE  0.28565\n",
      "Epoc:  18 | MSE  0.27793\n",
      "Epoc:  19 | MSE  0.27055\n",
      "Epoc:  20 | MSE  0.26350\n",
      "Epoc:  21 | MSE  0.25676\n",
      "Epoc:  22 | MSE  0.25032\n",
      "Epoc:  23 | MSE  0.24416\n",
      "Epoc:  24 | MSE  0.23826\n",
      "Epoc:  25 | MSE  0.23260\n",
      "Epoc:  26 | MSE  0.22719\n",
      "Epoc:  27 | MSE  0.22200\n",
      "Epoc:  28 | MSE  0.21702\n",
      "Epoc:  29 | MSE  0.21224\n",
      "Epoc:  30 | MSE  0.20765\n",
      "Epoc:  31 | MSE  0.20324\n",
      "Epoc:  32 | MSE  0.19901\n",
      "Epoc:  33 | MSE  0.19494\n",
      "Epoc:  34 | MSE  0.19103\n",
      "Epoc:  35 | MSE  0.18726\n",
      "Epoc:  36 | MSE  0.18364\n",
      "Epoc:  37 | MSE  0.18015\n",
      "Epoc:  38 | MSE  0.17679\n",
      "Epoc:  39 | MSE  0.17355\n",
      "Epoc:  40 | MSE  0.17043\n",
      "Epoc:  41 | MSE  0.16742\n",
      "Epoc:  42 | MSE  0.16452\n",
      "Epoc:  43 | MSE  0.16172\n",
      "Epoc:  44 | MSE  0.15902\n",
      "Epoc:  45 | MSE  0.15641\n",
      "Epoc:  46 | MSE  0.15389\n",
      "Epoc:  47 | MSE  0.15145\n",
      "Epoc:  48 | MSE  0.14910\n",
      "Epoc:  49 | MSE  0.14683\n",
      "Epoc:  50 | MSE  0.14463\n",
      "Epoc:  51 | MSE  0.14251\n",
      "Epoc:  52 | MSE  0.14046\n",
      "Epoc:  53 | MSE  0.13847\n",
      "Epoc:  54 | MSE  0.13655\n",
      "Epoc:  55 | MSE  0.13469\n",
      "Epoc:  56 | MSE  0.13289\n",
      "Epoc:  57 | MSE  0.13115\n",
      "Epoc:  58 | MSE  0.12946\n",
      "Epoc:  59 | MSE  0.12783\n",
      "Epoc:  60 | MSE  0.12625\n",
      "Epoc:  61 | MSE  0.12472\n",
      "Epoc:  62 | MSE  0.12323\n",
      "Epoc:  63 | MSE  0.12179\n",
      "Epoc:  64 | MSE  0.12040\n",
      "Epoc:  65 | MSE  0.11905\n",
      "Epoc:  66 | MSE  0.11774\n",
      "Epoc:  67 | MSE  0.11647\n",
      "Epoc:  68 | MSE  0.11524\n",
      "Epoc:  69 | MSE  0.11405\n",
      "Epoc:  70 | MSE  0.11289\n"
     ]
    }
   ],
   "source": [
    "# when the batch size is too large\n",
    "model5 = NN(X_train.size(1))\n",
    "cost5=train(model5,X_train,y_train,lr = 0.001,n_epoch=70,bsz=100)"
   ]
  },
  {
   "cell_type": "code",
   "execution_count": 28,
   "metadata": {},
   "outputs": [
    {
     "data": {
      "image/png": "[encoded data removed]",
      "text/plain": [
       "<Figure size 432x288 with 1 Axes>"
      ]
     },
     "metadata": {},
     "output_type": "display_data"
    }
   ],
   "source": [
    "plt.plot(range(len(cost5)),cost5)\n",
    "plt.ylabel('Mean Sqare Error')\n",
    "plt.xlabel('Epoc')\n",
    "plt.grid(linestyle='--',color='green')\n",
    "plt.show()"
   ]
  },
  {
   "cell_type": "markdown",
   "metadata": {},
   "source": [
    "When the batch size too large, then training process does not learn much though the process executes faster. The acuracy decreases because the model does not learn from each data point."
   ]
  },
  {
   "cell_type": "code",
   "execution_count": 29,
   "metadata": {},
   "outputs": [
    {
     "name": "stdout",
     "output_type": "stream",
     "text": [
      "Training Accuracy: 84.86\n",
      "Testing Accuracy: 78.67\n"
     ]
    }
   ],
   "source": [
    "ones=torch.ones(y_train.size())\n",
    "zero=torch.zeros(y_train.size())\n",
    "train_pred=model5.forward(X_train)\n",
    "train_acc=torch.mean((  \n",
    "    torch.where(train_pred > 0.5,\n",
    "                ones,zero).int()==y_train).float())\n",
    "\n",
    "\n",
    "ones=torch.ones(y_test.size())\n",
    "zeros=torch.zeros(y_test.size())\n",
    "test_pred=model5.forward(X_test)\n",
    "test_acc=torch.mean((torch.where(test_pred> 0.5,ones,zeros).int()==y_test).float())\n",
    "\n",
    "print('Training Accuracy: %.2f' % (train_acc*100))\n",
    "print('Testing Accuracy: %.2f' % (test_acc*100))"
   ]
  },
  {
   "cell_type": "markdown",
   "metadata": {},
   "source": [
    "### **Altering the number of epoch**"
   ]
  },
  {
   "cell_type": "code",
   "execution_count": 30,
   "metadata": {},
   "outputs": [
    {
     "name": "stdout",
     "output_type": "stream",
     "text": [
      "Epoc:   1 | MSE  0.46239\n",
      "Epoc:   2 | MSE  0.43004\n",
      "Epoc:   3 | MSE  0.40104\n",
      "Epoc:   4 | MSE  0.37498\n",
      "Epoc:   5 | MSE  0.35153\n"
     ]
    }
   ],
   "source": [
    "# when the number of epoch is too small \n",
    "model6 = NN(X_train.size(1))\n",
    "cost6=train(model6,X_train,y_train,lr = 0.001,n_epoch=5,bsz=50)"
   ]
  },
  {
   "cell_type": "code",
   "execution_count": 31,
   "metadata": {},
   "outputs": [
    {
     "data": {
      "image/png": "[encoded data removed]",
      "text/plain": [
       "<Figure size 432x288 with 1 Axes>"
      ]
     },
     "metadata": {},
     "output_type": "display_data"
    }
   ],
   "source": [
    "plt.plot(range(len(cost6)),cost6)\n",
    "plt.ylabel('Mean Sqare Error')\n",
    "plt.xlabel('Epoc')\n",
    "plt.grid(linestyle='--',color='green')\n",
    "plt.show()"
   ]
  },
  {
   "cell_type": "markdown",
   "metadata": {},
   "source": [
    "When the number of epochs are less, then training process do not learn enough and the error do not reduces much. This leads to less accuracy in the testing data and even in the training dataset "
   ]
  },
  {
   "cell_type": "code",
   "execution_count": 32,
   "metadata": {},
   "outputs": [
    {
     "name": "stdout",
     "output_type": "stream",
     "text": [
      "Training Accuracy: 50.14\n",
      "Testing Accuracy: 50.33\n"
     ]
    }
   ],
   "source": [
    "ones=torch.ones(y_train.size())\n",
    "zero=torch.zeros(y_train.size())\n",
    "train_pred=model6.forward(X_train)\n",
    "train_acc=torch.mean((  \n",
    "    torch.where(train_pred > 0.5,\n",
    "                ones,zero).int()==y_train).float())\n",
    "\n",
    "\n",
    "ones=torch.ones(y_test.size())\n",
    "zeros=torch.zeros(y_test.size())\n",
    "test_pred=model6.forward(X_test)\n",
    "test_acc=torch.mean((torch.where(test_pred> 0.5,ones,zeros).int()==y_test).float())\n",
    "\n",
    "print('Training Accuracy: %.2f' % (train_acc*100))\n",
    "print('Testing Accuracy: %.2f' % (test_acc*100))"
   ]
  },
  {
   "cell_type": "code",
   "execution_count": 33,
   "metadata": {},
   "outputs": [
    {
     "name": "stdout",
     "output_type": "stream",
     "text": [
      "Epoc:   1 | MSE  0.46239\n",
      "Epoc:   2 | MSE  0.43004\n",
      "Epoc:   3 | MSE  0.40104\n",
      "Epoc:   4 | MSE  0.37498\n",
      "Epoc:   5 | MSE  0.35153\n",
      "Epoc:   6 | MSE  0.33035\n",
      "Epoc:   7 | MSE  0.31117\n",
      "Epoc:   8 | MSE  0.29375\n",
      "Epoc:   9 | MSE  0.27793\n",
      "Epoc:  10 | MSE  0.26351\n",
      "Epoc:  11 | MSE  0.25032\n",
      "Epoc:  12 | MSE  0.23826\n",
      "Epoc:  13 | MSE  0.22719\n",
      "Epoc:  14 | MSE  0.21703\n",
      "Epoc:  15 | MSE  0.20766\n",
      "Epoc:  16 | MSE  0.19902\n",
      "Epoc:  17 | MSE  0.19104\n",
      "Epoc:  18 | MSE  0.18365\n",
      "Epoc:  19 | MSE  0.17680\n",
      "Epoc:  20 | MSE  0.17043\n",
      "Epoc:  21 | MSE  0.16452\n",
      "Epoc:  22 | MSE  0.15901\n",
      "Epoc:  23 | MSE  0.15388\n",
      "Epoc:  24 | MSE  0.14910\n",
      "Epoc:  25 | MSE  0.14463\n",
      "Epoc:  26 | MSE  0.14045\n",
      "Epoc:  27 | MSE  0.13654\n",
      "Epoc:  28 | MSE  0.13288\n",
      "Epoc:  29 | MSE  0.12945\n",
      "Epoc:  30 | MSE  0.12624\n",
      "Epoc:  31 | MSE  0.12322\n",
      "Epoc:  32 | MSE  0.12039\n",
      "Epoc:  33 | MSE  0.11773\n",
      "Epoc:  34 | MSE  0.11524\n",
      "Epoc:  35 | MSE  0.11289\n",
      "Epoc:  36 | MSE  0.11068\n",
      "Epoc:  37 | MSE  0.10860\n",
      "Epoc:  38 | MSE  0.10664\n",
      "Epoc:  39 | MSE  0.10480\n",
      "Epoc:  40 | MSE  0.10306\n",
      "Epoc:  41 | MSE  0.10143\n",
      "Epoc:  42 | MSE  0.09989\n",
      "Epoc:  43 | MSE  0.09844\n",
      "Epoc:  44 | MSE  0.09707\n",
      "Epoc:  45 | MSE  0.09578\n",
      "Epoc:  46 | MSE  0.09456\n",
      "Epoc:  47 | MSE  0.09342\n",
      "Epoc:  48 | MSE  0.09233\n",
      "Epoc:  49 | MSE  0.09131\n",
      "Epoc:  50 | MSE  0.09035\n",
      "Epoc:  51 | MSE  0.08944\n",
      "Epoc:  52 | MSE  0.08858\n",
      "Epoc:  53 | MSE  0.08777\n",
      "Epoc:  54 | MSE  0.08701\n",
      "Epoc:  55 | MSE  0.08628\n",
      "Epoc:  56 | MSE  0.08560\n",
      "Epoc:  57 | MSE  0.08496\n",
      "Epoc:  58 | MSE  0.08435\n",
      "Epoc:  59 | MSE  0.08378\n",
      "Epoc:  60 | MSE  0.08324\n",
      "Epoc:  61 | MSE  0.08273\n",
      "Epoc:  62 | MSE  0.08224\n",
      "Epoc:  63 | MSE  0.08179\n",
      "Epoc:  64 | MSE  0.08136\n",
      "Epoc:  65 | MSE  0.08095\n",
      "Epoc:  66 | MSE  0.08057\n",
      "Epoc:  67 | MSE  0.08020\n",
      "Epoc:  68 | MSE  0.07986\n",
      "Epoc:  69 | MSE  0.07954\n",
      "Epoc:  70 | MSE  0.07923\n",
      "Epoc:  71 | MSE  0.07894\n",
      "Epoc:  72 | MSE  0.07867\n",
      "Epoc:  73 | MSE  0.07841\n",
      "Epoc:  74 | MSE  0.07817\n",
      "Epoc:  75 | MSE  0.07794\n",
      "Epoc:  76 | MSE  0.07772\n",
      "Epoc:  77 | MSE  0.07752\n",
      "Epoc:  78 | MSE  0.07733\n",
      "Epoc:  79 | MSE  0.07714\n",
      "Epoc:  80 | MSE  0.07697\n",
      "Epoc:  81 | MSE  0.07681\n",
      "Epoc:  82 | MSE  0.07665\n",
      "Epoc:  83 | MSE  0.07651\n",
      "Epoc:  84 | MSE  0.07637\n",
      "Epoc:  85 | MSE  0.07624\n",
      "Epoc:  86 | MSE  0.07612\n",
      "Epoc:  87 | MSE  0.07600\n",
      "Epoc:  88 | MSE  0.07589\n",
      "Epoc:  89 | MSE  0.07579\n",
      "Epoc:  90 | MSE  0.07569\n",
      "Epoc:  91 | MSE  0.07560\n",
      "Epoc:  92 | MSE  0.07551\n",
      "Epoc:  93 | MSE  0.07543\n",
      "Epoc:  94 | MSE  0.07535\n",
      "Epoc:  95 | MSE  0.07527\n",
      "Epoc:  96 | MSE  0.07520\n",
      "Epoc:  97 | MSE  0.07514\n",
      "Epoc:  98 | MSE  0.07508\n",
      "Epoc:  99 | MSE  0.07502\n",
      "Epoc: 100 | MSE  0.07496\n",
      "Epoc: 101 | MSE  0.07491\n",
      "Epoc: 102 | MSE  0.07486\n",
      "Epoc: 103 | MSE  0.07481\n",
      "Epoc: 104 | MSE  0.07477\n",
      "Epoc: 105 | MSE  0.07473\n",
      "Epoc: 106 | MSE  0.07469\n",
      "Epoc: 107 | MSE  0.07465\n",
      "Epoc: 108 | MSE  0.07462\n",
      "Epoc: 109 | MSE  0.07458\n",
      "Epoc: 110 | MSE  0.07455\n",
      "Epoc: 111 | MSE  0.07452\n",
      "Epoc: 112 | MSE  0.07449\n",
      "Epoc: 113 | MSE  0.07447\n",
      "Epoc: 114 | MSE  0.07444\n",
      "Epoc: 115 | MSE  0.07442\n",
      "Epoc: 116 | MSE  0.07439\n",
      "Epoc: 117 | MSE  0.07437\n",
      "Epoc: 118 | MSE  0.07435\n",
      "Epoc: 119 | MSE  0.07433\n",
      "Epoc: 120 | MSE  0.07432\n",
      "Epoc: 121 | MSE  0.07430\n",
      "Epoc: 122 | MSE  0.07428\n",
      "Epoc: 123 | MSE  0.07427\n",
      "Epoc: 124 | MSE  0.07425\n",
      "Epoc: 125 | MSE  0.07424\n",
      "Epoc: 126 | MSE  0.07423\n",
      "Epoc: 127 | MSE  0.07422\n",
      "Epoc: 128 | MSE  0.07420\n",
      "Epoc: 129 | MSE  0.07419\n",
      "Epoc: 130 | MSE  0.07418\n",
      "Epoc: 131 | MSE  0.07417\n",
      "Epoc: 132 | MSE  0.07416\n",
      "Epoc: 133 | MSE  0.07416\n",
      "Epoc: 134 | MSE  0.07415\n",
      "Epoc: 135 | MSE  0.07414\n",
      "Epoc: 136 | MSE  0.07413\n",
      "Epoc: 137 | MSE  0.07413\n",
      "Epoc: 138 | MSE  0.07412\n",
      "Epoc: 139 | MSE  0.07411\n",
      "Epoc: 140 | MSE  0.07411\n",
      "Epoc: 141 | MSE  0.07410\n",
      "Epoc: 142 | MSE  0.07410\n",
      "Epoc: 143 | MSE  0.07409\n",
      "Epoc: 144 | MSE  0.07409\n",
      "Epoc: 145 | MSE  0.07408\n",
      "Epoc: 146 | MSE  0.07408\n",
      "Epoc: 147 | MSE  0.07408\n",
      "Epoc: 148 | MSE  0.07407\n",
      "Epoc: 149 | MSE  0.07407\n",
      "Epoc: 150 | MSE  0.07406\n",
      "Epoc: 151 | MSE  0.07406\n",
      "Epoc: 152 | MSE  0.07406\n",
      "Epoc: 153 | MSE  0.07406\n",
      "Epoc: 154 | MSE  0.07405\n",
      "Epoc: 155 | MSE  0.07405\n",
      "Epoc: 156 | MSE  0.07405\n",
      "Epoc: 157 | MSE  0.07405\n",
      "Epoc: 158 | MSE  0.07404\n",
      "Epoc: 159 | MSE  0.07404\n",
      "Epoc: 160 | MSE  0.07404\n",
      "Epoc: 161 | MSE  0.07404\n",
      "Epoc: 162 | MSE  0.07404\n",
      "Epoc: 163 | MSE  0.07404\n",
      "Epoc: 164 | MSE  0.07403\n",
      "Epoc: 165 | MSE  0.07403\n",
      "Epoc: 166 | MSE  0.07403\n",
      "Epoc: 167 | MSE  0.07403\n",
      "Epoc: 168 | MSE  0.07403\n",
      "Epoc: 169 | MSE  0.07403\n",
      "Epoc: 170 | MSE  0.07403\n",
      "Epoc: 171 | MSE  0.07403\n",
      "Epoc: 172 | MSE  0.07402\n",
      "Epoc: 173 | MSE  0.07402\n",
      "Epoc: 174 | MSE  0.07402\n",
      "Epoc: 175 | MSE  0.07402\n",
      "Epoc: 176 | MSE  0.07402\n",
      "Epoc: 177 | MSE  0.07402\n",
      "Epoc: 178 | MSE  0.07402\n",
      "Epoc: 179 | MSE  0.07402\n",
      "Epoc: 180 | MSE  0.07402\n",
      "Epoc: 181 | MSE  0.07402\n",
      "Epoc: 182 | MSE  0.07402\n",
      "Epoc: 183 | MSE  0.07402\n",
      "Epoc: 184 | MSE  0.07402\n",
      "Epoc: 185 | MSE  0.07402\n",
      "Epoc: 186 | MSE  0.07402\n",
      "Epoc: 187 | MSE  0.07402\n",
      "Epoc: 188 | MSE  0.07402\n",
      "Epoc: 189 | MSE  0.07401\n",
      "Epoc: 190 | MSE  0.07401\n",
      "Epoc: 191 | MSE  0.07401\n",
      "Epoc: 192 | MSE  0.07401\n",
      "Epoc: 193 | MSE  0.07401\n",
      "Epoc: 194 | MSE  0.07401\n",
      "Epoc: 195 | MSE  0.07401\n",
      "Epoc: 196 | MSE  0.07401\n",
      "Epoc: 197 | MSE  0.07401\n",
      "Epoc: 198 | MSE  0.07401\n",
      "Epoc: 199 | MSE  0.07401\n",
      "Epoc: 200 | MSE  0.07401\n"
     ]
    }
   ],
   "source": [
    "# when the epochs are high\n",
    "model7 = NN(X_train.size(1))\n",
    "cost7=train(model7,X_train,y_train,lr = 0.001,n_epoch=200,bsz=50)"
   ]
  },
  {
   "cell_type": "code",
   "execution_count": 34,
   "metadata": {},
   "outputs": [
    {
     "data": {
      "image/png": "[encoded data removed]",
      "text/plain": [
       "<Figure size 432x288 with 1 Axes>"
      ]
     },
     "metadata": {},
     "output_type": "display_data"
    }
   ],
   "source": [
    "plt.plot(range(len(cost7)),cost7)\n",
    "plt.ylabel('Mean Sqare Error')\n",
    "plt.xlabel('Epoc')\n",
    "plt.grid(linestyle='--',color='green')\n",
    "plt.show()"
   ]
  },
  {
   "cell_type": "markdown",
   "metadata": {},
   "source": [
    "When the epoch are high, the model learns well from the training set and accuracy increases. But it may result in overtraining and may lead to overfitting."
   ]
  },
  {
   "cell_type": "code",
   "execution_count": 35,
   "metadata": {},
   "outputs": [
    {
     "name": "stdout",
     "output_type": "stream",
     "text": [
      "Training Accuracy: 94.14\n",
      "Testing Accuracy: 93.00\n"
     ]
    }
   ],
   "source": [
    "ones=torch.ones(y_train.size())\n",
    "zero=torch.zeros(y_train.size())\n",
    "train_pred=model7.forward(X_train)\n",
    "train_acc=torch.mean((  \n",
    "    torch.where(train_pred > 0.5,\n",
    "                ones,zero).int()==y_train).float())\n",
    "\n",
    "\n",
    "ones=torch.ones(y_test.size())\n",
    "zeros=torch.zeros(y_test.size())\n",
    "test_pred=model7.forward(X_test)\n",
    "test_acc=torch.mean((torch.where(test_pred> 0.5,ones,zeros).int()==y_test).float())\n",
    "\n",
    "print('Training Accuracy: %.2f' % (train_acc*100))\n",
    "print('Testing Accuracy: %.2f' % (test_acc*100))"
   ]
  },
  {
   "cell_type": "markdown",
   "metadata": {},
   "source": [
    "### **Using Another Dataset**"
   ]
  },
  {
   "cell_type": "code",
   "execution_count": 36,
   "metadata": {},
   "outputs": [],
   "source": [
    "# reading the dataset\n",
    "from random import shuffle\n",
    "df = pd.read_csv(r'heart_disease.csv')"
   ]
  },
  {
   "cell_type": "code",
   "execution_count": 37,
   "metadata": {},
   "outputs": [],
   "source": [
    "df = df[:250]"
   ]
  },
  {
   "cell_type": "code",
   "execution_count": 38,
   "metadata": {},
   "outputs": [
    {
     "data": {
      "text/plain": [
       "250"
      ]
     },
     "execution_count": 38,
     "metadata": {},
     "output_type": "execute_result"
    }
   ],
   "source": [
    "len(df)"
   ]
  },
  {
   "cell_type": "code",
   "execution_count": 39,
   "metadata": {},
   "outputs": [
    {
     "data": {
      "text/html": [
       "<div>\n",
       "<style scoped>\n",
       "    .dataframe tbody tr th:only-of-type {\n",
       "        vertical-align: middle;\n",
       "    }\n",
       "\n",
       "    .dataframe tbody tr th {\n",
       "        vertical-align: top;\n",
       "    }\n",
       "\n",
       "    .dataframe thead th {\n",
       "        text-align: right;\n",
       "    }\n",
       "</style>\n",
       "<table border=\"1\" class=\"dataframe\">\n",
       "  <thead>\n",
       "    <tr style=\"text-align: right;\">\n",
       "      <th></th>\n",
       "      <th>age</th>\n",
       "      <th>sex</th>\n",
       "      <th>chest pain type</th>\n",
       "      <th>resting blood pressure</th>\n",
       "      <th>serum cholestoral in mg/dl</th>\n",
       "      <th>fasting blood sugar &gt; 120 mg/dl</th>\n",
       "      <th>resting electrocardiographic results</th>\n",
       "      <th>maximum heart rate achieved</th>\n",
       "      <th>exercise induced angina</th>\n",
       "      <th>oldpeak</th>\n",
       "      <th>slope of peak</th>\n",
       "      <th>number of major vessels</th>\n",
       "      <th>thal</th>\n",
       "      <th>Disease</th>\n",
       "    </tr>\n",
       "  </thead>\n",
       "  <tbody>\n",
       "    <tr>\n",
       "      <th>0</th>\n",
       "      <td>70</td>\n",
       "      <td>1</td>\n",
       "      <td>4</td>\n",
       "      <td>130</td>\n",
       "      <td>322</td>\n",
       "      <td>0</td>\n",
       "      <td>2</td>\n",
       "      <td>109</td>\n",
       "      <td>0</td>\n",
       "      <td>2.4</td>\n",
       "      <td>2</td>\n",
       "      <td>3</td>\n",
       "      <td>3</td>\n",
       "      <td>1</td>\n",
       "    </tr>\n",
       "    <tr>\n",
       "      <th>1</th>\n",
       "      <td>67</td>\n",
       "      <td>0</td>\n",
       "      <td>3</td>\n",
       "      <td>115</td>\n",
       "      <td>564</td>\n",
       "      <td>0</td>\n",
       "      <td>2</td>\n",
       "      <td>160</td>\n",
       "      <td>0</td>\n",
       "      <td>1.6</td>\n",
       "      <td>2</td>\n",
       "      <td>0</td>\n",
       "      <td>7</td>\n",
       "      <td>0</td>\n",
       "    </tr>\n",
       "    <tr>\n",
       "      <th>2</th>\n",
       "      <td>57</td>\n",
       "      <td>1</td>\n",
       "      <td>2</td>\n",
       "      <td>124</td>\n",
       "      <td>261</td>\n",
       "      <td>0</td>\n",
       "      <td>0</td>\n",
       "      <td>141</td>\n",
       "      <td>0</td>\n",
       "      <td>0.3</td>\n",
       "      <td>1</td>\n",
       "      <td>0</td>\n",
       "      <td>7</td>\n",
       "      <td>1</td>\n",
       "    </tr>\n",
       "    <tr>\n",
       "      <th>3</th>\n",
       "      <td>64</td>\n",
       "      <td>1</td>\n",
       "      <td>4</td>\n",
       "      <td>128</td>\n",
       "      <td>263</td>\n",
       "      <td>0</td>\n",
       "      <td>0</td>\n",
       "      <td>105</td>\n",
       "      <td>1</td>\n",
       "      <td>0.2</td>\n",
       "      <td>2</td>\n",
       "      <td>1</td>\n",
       "      <td>7</td>\n",
       "      <td>0</td>\n",
       "    </tr>\n",
       "    <tr>\n",
       "      <th>4</th>\n",
       "      <td>74</td>\n",
       "      <td>0</td>\n",
       "      <td>2</td>\n",
       "      <td>120</td>\n",
       "      <td>269</td>\n",
       "      <td>0</td>\n",
       "      <td>2</td>\n",
       "      <td>121</td>\n",
       "      <td>1</td>\n",
       "      <td>0.2</td>\n",
       "      <td>1</td>\n",
       "      <td>1</td>\n",
       "      <td>3</td>\n",
       "      <td>0</td>\n",
       "    </tr>\n",
       "  </tbody>\n",
       "</table>\n",
       "</div>"
      ],
      "text/plain": [
       "   age  sex  chest pain type  resting blood pressure  \\\n",
       "0   70    1                4                     130   \n",
       "1   67    0                3                     115   \n",
       "2   57    1                2                     124   \n",
       "3   64    1                4                     128   \n",
       "4   74    0                2                     120   \n",
       "\n",
       "   serum cholestoral in mg/dl        fasting blood sugar > 120 mg/dl   \\\n",
       "0                               322                                 0   \n",
       "1                               564                                 0   \n",
       "2                               261                                 0   \n",
       "3                               263                                 0   \n",
       "4                               269                                 0   \n",
       "\n",
       "   resting electrocardiographic results  maximum heart rate achieved    \\\n",
       "0                                     2                            109   \n",
       "1                                     2                            160   \n",
       "2                                     0                            141   \n",
       "3                                     0                            105   \n",
       "4                                     2                            121   \n",
       "\n",
       "   exercise induced angina      oldpeak   slope of peak  \\\n",
       "0                            0       2.4              2   \n",
       "1                            0       1.6              2   \n",
       "2                            0       0.3              1   \n",
       "3                            1       0.2              2   \n",
       "4                            1       0.2              1   \n",
       "\n",
       "   number of major vessels   thal  Disease  \n",
       "0                         3     3        1  \n",
       "1                         0     7        0  \n",
       "2                         0     7        1  \n",
       "3                         1     7        0  \n",
       "4                         1     3        0  "
      ]
     },
     "execution_count": 39,
     "metadata": {},
     "output_type": "execute_result"
    }
   ],
   "source": [
    "df.head()"
   ]
  },
  {
   "cell_type": "code",
   "execution_count": 40,
   "metadata": {},
   "outputs": [
    {
     "name": "stdout",
     "output_type": "stream",
     "text": [
      "<class 'pandas.core.frame.DataFrame'>\n",
      "RangeIndex: 250 entries, 0 to 249\n",
      "Data columns (total 14 columns):\n",
      "age                                     250 non-null int64\n",
      "sex                                     250 non-null int64\n",
      "chest pain type                         250 non-null int64\n",
      "resting blood pressure                  250 non-null int64\n",
      "serum cholestoral in mg/dl              250 non-null int64\n",
      "fasting blood sugar > 120 mg/dl         250 non-null int64\n",
      "resting electrocardiographic results    250 non-null int64\n",
      "maximum heart rate achieved             250 non-null int64\n",
      "exercise induced angina                 250 non-null int64\n",
      "oldpeak                                 250 non-null float64\n",
      "slope of peak                           250 non-null int64\n",
      "number of major vessels                 250 non-null int64\n",
      "thal                                    250 non-null int64\n",
      "Disease                                 250 non-null int64\n",
      "dtypes: float64(1), int64(13)\n",
      "memory usage: 27.4 KB\n"
     ]
    }
   ],
   "source": [
    "df.info()"
   ]
  },
  {
   "cell_type": "code",
   "execution_count": 41,
   "metadata": {},
   "outputs": [
    {
     "data": {
      "text/plain": [
       "<matplotlib.axes._subplots.AxesSubplot at 0x2ac2d51a470>"
      ]
     },
     "execution_count": 41,
     "metadata": {},
     "output_type": "execute_result"
    },
    {
     "data": {
      "image/png": "[encoded data removed]",
      "text/plain": [
       "<Figure size 432x288 with 2 Axes>"
      ]
     },
     "metadata": {},
     "output_type": "display_data"
    }
   ],
   "source": [
    "# checking whether the dataset contain any null values or not\n",
    "sns.heatmap(df.isnull(),yticklabels=False,cmap='rainbow')"
   ]
  },
  {
   "cell_type": "code",
   "execution_count": 42,
   "metadata": {},
   "outputs": [
    {
     "data": {
      "text/plain": [
       "Index(['age', 'sex', 'chest pain type', 'resting blood pressure',\n",
       "       'serum cholestoral in mg/dl      ', 'fasting blood sugar > 120 mg/dl ',\n",
       "       'resting electrocardiographic results', 'maximum heart rate achieved  ',\n",
       "       'exercise induced angina    ', 'oldpeak ', 'slope of peak',\n",
       "       'number of major vessels ', 'thal', 'Disease'],\n",
       "      dtype='object')"
      ]
     },
     "execution_count": 42,
     "metadata": {},
     "output_type": "execute_result"
    }
   ],
   "source": [
    "# number and name of the columns \n",
    "df.columns"
   ]
  },
  {
   "cell_type": "code",
   "execution_count": 43,
   "metadata": {},
   "outputs": [
    {
     "data": {
      "text/plain": [
       "tensor([[ 70.,   4., 109.,   3.],\n",
       "        [ 67.,   3., 160.,   0.],\n",
       "        [ 57.,   2., 141.,   0.],\n",
       "        [ 64.,   4., 105.,   1.],\n",
       "        [ 74.,   2., 121.,   1.],\n",
       "        [ 65.,   4., 140.,   0.],\n",
       "        [ 56.,   3., 142.,   1.],\n",
       "        [ 59.,   4., 142.,   1.],\n",
       "        [ 60.,   4., 170.,   2.],\n",
       "        [ 63.,   4., 154.,   3.],\n",
       "        [ 59.,   4., 161.,   0.],\n",
       "        [ 53.,   4., 111.,   0.],\n",
       "        [ 44.,   3., 180.,   0.],\n",
       "        [ 61.,   1., 145.,   2.],\n",
       "        [ 57.,   4., 159.,   1.],\n",
       "        [ 71.,   4., 125.,   0.],\n",
       "        [ 46.,   4., 120.,   2.],\n",
       "        [ 53.,   4., 155.,   0.],\n",
       "        [ 64.,   1., 144.,   0.],\n",
       "        [ 40.,   1., 178.,   0.],\n",
       "        [ 67.,   4., 129.,   2.],\n",
       "        [ 48.,   2., 180.,   0.],\n",
       "        [ 43.,   4., 181.,   0.],\n",
       "        [ 47.,   4., 143.,   0.],\n",
       "        [ 54.,   2., 159.,   1.],\n",
       "        [ 48.,   3., 139.,   0.],\n",
       "        [ 46.,   4., 152.,   0.],\n",
       "        [ 51.,   3., 157.,   0.],\n",
       "        [ 58.,   3., 165.,   1.],\n",
       "        [ 71.,   3., 130.,   1.],\n",
       "        [ 57.,   3., 150.,   1.],\n",
       "        [ 66.,   4., 138.,   0.],\n",
       "        [ 37.,   3., 170.,   0.],\n",
       "        [ 59.,   4., 140.,   0.],\n",
       "        [ 50.,   4., 126.,   0.],\n",
       "        [ 48.,   4., 150.,   2.],\n",
       "        [ 61.,   4., 138.,   1.],\n",
       "        [ 59.,   1., 125.,   0.],\n",
       "        [ 42.,   3., 150.,   0.],\n",
       "        [ 48.,   4., 186.,   0.],\n",
       "        [ 40.,   4., 181.,   0.],\n",
       "        [ 62.,   4., 163.,   0.],\n",
       "        [ 44.,   3., 179.,   0.],\n",
       "        [ 46.,   2., 156.,   0.],\n",
       "        [ 59.,   3., 134.,   1.],\n",
       "        [ 58.,   3., 165.,   0.],\n",
       "        [ 49.,   3., 126.,   3.],\n",
       "        [ 44.,   4., 177.,   1.],\n",
       "        [ 66.,   2., 120.,   3.],\n",
       "        [ 65.,   4., 114.,   3.],\n",
       "        [ 42.,   4., 125.,   0.],\n",
       "        [ 52.,   2., 184.,   0.],\n",
       "        [ 65.,   3., 157.,   1.],\n",
       "        [ 63.,   2., 179.,   2.],\n",
       "        [ 45.,   2., 175.,   0.],\n",
       "        [ 41.,   2., 168.,   1.],\n",
       "        [ 61.,   4., 125.,   1.],\n",
       "        [ 60.,   3.,  96.,   0.],\n",
       "        [ 59.,   4., 143.,   0.],\n",
       "        [ 62.,   2., 103.,   1.],\n",
       "        [ 57.,   3., 173.,   1.],\n",
       "        [ 51.,   4., 142.,   0.],\n",
       "        [ 44.,   3., 169.,   0.],\n",
       "        [ 60.,   1., 171.,   0.],\n",
       "        [ 63.,   1., 150.,   0.],\n",
       "        [ 57.,   4., 112.,   1.],\n",
       "        [ 51.,   4., 186.,   0.],\n",
       "        [ 58.,   2., 152.,   2.],\n",
       "        [ 44.,   3., 149.,   1.],\n",
       "        [ 47.,   3., 152.,   0.],\n",
       "        [ 61.,   4., 140.,   1.],\n",
       "        [ 57.,   4., 163.,   0.],\n",
       "        [ 70.,   2., 143.,   0.],\n",
       "        [ 76.,   3., 116.,   0.],\n",
       "        [ 67.,   4., 142.,   2.],\n",
       "        [ 45.,   4., 147.,   3.],\n",
       "        [ 45.,   4., 148.,   0.],\n",
       "        [ 39.,   3., 179.,   0.],\n",
       "        [ 42.,   3., 173.,   0.],\n",
       "        [ 56.,   2., 178.,   0.],\n",
       "        [ 58.,   4., 105.,   1.],\n",
       "        [ 35.,   4., 130.,   0.],\n",
       "        [ 58.,   4., 111.,   0.],\n",
       "        [ 41.,   3., 168.,   0.],\n",
       "        [ 57.,   4., 126.,   0.],\n",
       "        [ 42.,   1., 178.,   2.],\n",
       "        [ 62.,   2., 140.,   0.],\n",
       "        [ 59.,   1., 145.,   0.],\n",
       "        [ 41.,   2., 163.,   0.],\n",
       "        [ 50.,   4., 128.,   0.],\n",
       "        [ 59.,   2., 164.,   0.],\n",
       "        [ 61.,   4., 169.,   0.],\n",
       "        [ 54.,   4., 109.,   1.],\n",
       "        [ 54.,   4., 108.,   1.],\n",
       "        [ 52.,   4., 168.,   2.],\n",
       "        [ 47.,   4., 118.,   1.],\n",
       "        [ 66.,   4., 151.,   0.],\n",
       "        [ 58.,   4., 156.,   1.],\n",
       "        [ 64.,   3., 133.,   0.],\n",
       "        [ 50.,   2., 162.,   0.],\n",
       "        [ 44.,   3., 175.,   0.],\n",
       "        [ 67.,   4.,  71.,   0.],\n",
       "        [ 49.,   4., 163.,   0.],\n",
       "        [ 57.,   4., 124.,   3.],\n",
       "        [ 63.,   4., 147.,   1.],\n",
       "        [ 48.,   4., 166.,   0.],\n",
       "        [ 51.,   3., 143.,   0.],\n",
       "        [ 60.,   4., 157.,   2.],\n",
       "        [ 59.,   4., 162.,   1.],\n",
       "        [ 45.,   2., 138.,   0.],\n",
       "        [ 55.,   4., 117.,   0.],\n",
       "        [ 41.,   2., 153.,   0.],\n",
       "        [ 60.,   4., 161.,   0.],\n",
       "        [ 54.,   3., 170.,   0.],\n",
       "        [ 42.,   2., 162.,   0.],\n",
       "        [ 49.,   2., 162.,   0.],\n",
       "        [ 46.,   4., 144.,   0.],\n",
       "        [ 56.,   4., 133.,   2.],\n",
       "        [ 66.,   1., 114.,   0.],\n",
       "        [ 56.,   4., 103.,   0.],\n",
       "        [ 49.,   3., 139.,   3.],\n",
       "        [ 54.,   4., 116.,   2.],\n",
       "        [ 57.,   4.,  88.,   1.],\n",
       "        [ 65.,   3., 151.,   0.],\n",
       "        [ 54.,   3., 152.,   1.],\n",
       "        [ 54.,   3., 163.,   1.],\n",
       "        [ 62.,   4.,  99.,   2.],\n",
       "        [ 52.,   3., 169.,   0.],\n",
       "        [ 52.,   2., 158.,   1.],\n",
       "        [ 60.,   4., 160.,   2.],\n",
       "        [ 63.,   4., 169.,   2.],\n",
       "        [ 66.,   4., 132.,   1.],\n",
       "        [ 42.,   4., 178.,   0.],\n",
       "        [ 64.,   4.,  96.,   1.],\n",
       "        [ 54.,   3., 165.,   0.],\n",
       "        [ 46.,   3., 160.,   0.],\n",
       "        [ 67.,   3., 172.,   1.],\n",
       "        [ 56.,   4., 144.,   1.],\n",
       "        [ 34.,   2., 192.,   0.],\n",
       "        [ 57.,   4., 168.,   0.],\n",
       "        [ 64.,   4., 132.,   2.],\n",
       "        [ 59.,   4., 182.,   0.],\n",
       "        [ 50.,   3., 163.,   1.],\n",
       "        [ 51.,   1., 125.,   1.],\n",
       "        [ 54.,   2., 195.,   1.],\n",
       "        [ 53.,   4.,  95.,   2.],\n",
       "        [ 52.,   4., 160.,   1.],\n",
       "        [ 40.,   4., 114.,   0.],\n",
       "        [ 58.,   3., 173.,   2.],\n",
       "        [ 41.,   3., 172.,   0.],\n",
       "        [ 41.,   3., 179.,   0.],\n",
       "        [ 50.,   3., 158.,   0.],\n",
       "        [ 54.,   3., 167.,   0.],\n",
       "        [ 64.,   4., 122.,   2.],\n",
       "        [ 51.,   3., 149.,   0.],\n",
       "        [ 46.,   2., 172.,   0.],\n",
       "        [ 55.,   4., 111.,   0.],\n",
       "        [ 45.,   2., 170.,   0.],\n",
       "        [ 56.,   1., 162.,   0.],\n",
       "        [ 66.,   4., 165.,   2.],\n",
       "        [ 38.,   1., 182.,   0.],\n",
       "        [ 62.,   4., 154.,   0.],\n",
       "        [ 55.,   2., 155.,   0.],\n",
       "        [ 58.,   4., 130.,   2.],\n",
       "        [ 43.,   4., 161.,   0.],\n",
       "        [ 64.,   4., 154.,   0.],\n",
       "        [ 50.,   4., 159.,   0.],\n",
       "        [ 53.,   3., 152.,   0.],\n",
       "        [ 45.,   4., 152.,   0.],\n",
       "        [ 65.,   1., 174.,   1.],\n",
       "        [ 69.,   1., 131.,   1.],\n",
       "        [ 69.,   3., 146.,   3.],\n",
       "        [ 67.,   4., 125.,   2.],\n",
       "        [ 68.,   3., 115.,   0.],\n",
       "        [ 34.,   1., 174.,   0.],\n",
       "        [ 62.,   4., 106.,   3.],\n",
       "        [ 51.,   4., 122.,   3.],\n",
       "        [ 46.,   3., 147.,   0.],\n",
       "        [ 67.,   4., 163.,   2.],\n",
       "        [ 50.,   3., 163.,   0.],\n",
       "        [ 42.,   3., 194.,   0.],\n",
       "        [ 56.,   4., 150.,   2.],\n",
       "        [ 41.,   4., 158.,   0.],\n",
       "        [ 42.,   4., 122.,   0.],\n",
       "        [ 53.,   3., 173.,   3.],\n",
       "        [ 43.,   3., 162.,   1.],\n",
       "        [ 56.,   4., 105.,   1.],\n",
       "        [ 52.,   4., 147.,   3.],\n",
       "        [ 62.,   4., 157.,   0.],\n",
       "        [ 70.,   3., 112.,   1.],\n",
       "        [ 54.,   4., 160.,   0.],\n",
       "        [ 70.,   4., 125.,   0.],\n",
       "        [ 54.,   2., 156.,   0.],\n",
       "        [ 35.,   4., 156.,   0.],\n",
       "        [ 48.,   3., 175.,   2.],\n",
       "        [ 55.,   2., 161.,   0.],\n",
       "        [ 58.,   4., 122.,   0.],\n",
       "        [ 54.,   3., 158.,   0.],\n",
       "        [ 69.,   1., 151.,   2.],\n",
       "        [ 77.,   4., 162.,   3.],\n",
       "        [ 68.,   3., 151.,   1.],\n",
       "        [ 58.,   4., 171.,   2.],\n",
       "        [ 60.,   4., 141.,   1.],\n",
       "        [ 51.,   4., 173.,   0.],\n",
       "        [ 55.,   4., 145.,   1.],\n",
       "        [ 52.,   1., 178.,   0.],\n",
       "        [ 60.,   3., 160.,   1.],\n",
       "        [ 58.,   3., 154.,   0.],\n",
       "        [ 64.,   3., 131.,   0.],\n",
       "        [ 37.,   3., 187.,   0.],\n",
       "        [ 59.,   1., 159.,   0.],\n",
       "        [ 51.,   3., 166.,   0.],\n",
       "        [ 43.,   3., 165.,   0.],\n",
       "        [ 58.,   4., 131.,   3.],\n",
       "        [ 29.,   2., 202.,   0.],\n",
       "        [ 41.,   2., 172.,   0.],\n",
       "        [ 63.,   3., 172.,   0.],\n",
       "        [ 51.,   3., 154.,   1.],\n",
       "        [ 54.,   3., 147.,   0.],\n",
       "        [ 44.,   2., 170.,   0.],\n",
       "        [ 54.,   4., 126.,   1.],\n",
       "        [ 65.,   4., 127.,   1.],\n",
       "        [ 57.,   3., 174.,   0.],\n",
       "        [ 63.,   4., 132.,   3.],\n",
       "        [ 35.,   4., 182.,   0.],\n",
       "        [ 41.,   2., 132.,   0.],\n",
       "        [ 62.,   3.,  97.,   1.],\n",
       "        [ 43.,   4., 136.,   0.],\n",
       "        [ 58.,   1., 162.,   0.],\n",
       "        [ 52.,   1., 190.,   0.],\n",
       "        [ 61.,   4., 146.,   0.],\n",
       "        [ 39.,   4., 140.,   0.],\n",
       "        [ 45.,   4., 185.,   0.],\n",
       "        [ 52.,   4., 161.,   1.],\n",
       "        [ 62.,   3., 146.,   3.],\n",
       "        [ 62.,   4., 145.,   3.],\n",
       "        [ 53.,   4., 160.,   0.],\n",
       "        [ 43.,   4., 120.,   0.],\n",
       "        [ 47.,   3., 156.,   0.],\n",
       "        [ 52.,   2., 172.,   0.],\n",
       "        [ 68.,   3., 150.,   0.],\n",
       "        [ 39.,   3., 182.,   0.],\n",
       "        [ 53.,   4., 143.,   0.],\n",
       "        [ 62.,   4., 160.,   2.],\n",
       "        [ 51.,   3., 142.,   1.],\n",
       "        [ 60.,   4., 144.,   1.],\n",
       "        [ 65.,   4., 158.,   2.],\n",
       "        [ 65.,   3., 148.,   0.],\n",
       "        [ 60.,   3., 155.,   0.],\n",
       "        [ 60.,   4., 142.,   2.]])"
      ]
     },
     "execution_count": 43,
     "metadata": {},
     "output_type": "execute_result"
    }
   ],
   "source": [
    "# creating our X\n",
    "X = df[['age', 'chest pain type', 'maximum heart rate achieved  ','number of major vessels ']].values\n",
    "X = torch.tensor(X,dtype=torch.float32)\n",
    "X"
   ]
  },
  {
   "cell_type": "code",
   "execution_count": 44,
   "metadata": {},
   "outputs": [
    {
     "data": {
      "text/plain": [
       "tensor([1., 0., 1., 0., 0., 0., 1., 1., 1., 1., 0., 0., 0., 1., 0., 0., 1., 1.,\n",
       "        0., 0., 1., 0., 0., 0., 0., 0., 0., 0., 1., 0., 1., 0., 0., 1., 1., 1.,\n",
       "        1., 1., 0., 0., 1., 0., 0., 0., 1., 0., 1., 1., 1., 1., 1., 0., 0., 0.,\n",
       "        0., 0., 1., 0., 1., 1., 0., 1., 0., 0., 0., 1., 0., 1., 0., 1., 1., 0.,\n",
       "        0., 0., 0., 1., 0., 0., 0., 0., 1., 1., 1., 0., 0., 0., 0., 0., 0., 1.,\n",
       "        0., 1., 1., 1., 1., 1., 0., 1., 0., 0., 0., 1., 0., 1., 1., 1., 0., 1.,\n",
       "        1., 0., 1., 0., 1., 0., 0., 0., 1., 1., 0., 1., 1., 1., 1., 0., 0., 0.,\n",
       "        1., 0., 0., 1., 1., 1., 0., 1., 0., 0., 0., 1., 0., 0., 1., 0., 1., 0.,\n",
       "        1., 1., 1., 1., 1., 0., 0., 0., 0., 0., 0., 0., 1., 0., 0., 1., 1., 1.,\n",
       "        0., 1., 0., 0., 0., 0., 0., 1., 0., 1., 1., 0., 0., 1., 1., 1., 1., 0.,\n",
       "        0., 1., 1., 0., 0., 0., 1., 0., 0., 1., 0., 1., 0., 1., 0., 0., 0., 0.,\n",
       "        0., 1., 0., 1., 1., 1., 1., 0., 0., 0., 1., 0., 1., 0., 0., 1., 0., 0.,\n",
       "        0., 0., 0., 0., 1., 1., 0., 1., 0., 0., 1., 1., 0., 0., 1., 1., 0., 1.,\n",
       "        0., 1., 0., 1., 0., 0., 1., 0., 0., 1., 0., 1., 1., 0., 1., 1.])"
      ]
     },
     "execution_count": 44,
     "metadata": {},
     "output_type": "execute_result"
    }
   ],
   "source": [
    "Y = df['Disease'].values\n",
    "Y = torch.tensor(Y,dtype=torch.float32)\n",
    "Y"
   ]
  },
  {
   "cell_type": "code",
   "execution_count": 45,
   "metadata": {},
   "outputs": [
    {
     "data": {
      "text/plain": [
       "tensor([187, 196, 214, 146, 190,  30,  77, 194,  45,  20])"
      ]
     },
     "execution_count": 45,
     "metadata": {},
     "output_type": "execute_result"
    }
   ],
   "source": [
    "# data shuffling\n",
    "torch.manual_seed(10)\n",
    "\n",
    "# randperm returns the vector of random permutation of the long integers\n",
    "sffle_idx = torch.randperm(Y.size(0),dtype=torch.long)\n",
    "X,Y = X[sffle_idx],Y[sffle_idx]\n",
    "# printing the shuffle indices\n",
    "sffle_idx[:10]"
   ]
  },
  {
   "cell_type": "code",
   "execution_count": 46,
   "metadata": {},
   "outputs": [],
   "source": [
    "# train test split without using the train test split function of sklearn\n",
    "train_size = int(sffle_idx.size(0)*0.7)\n",
    "train_idx = sffle_idx[:train_size]\n",
    "test_idx = sffle_idx[train_size:]\n",
    "X_train,Y_train = X[train_idx],Y[train_idx]\n",
    "X_test,Y_test = X[test_idx],Y[test_idx]"
   ]
  },
  {
   "cell_type": "code",
   "execution_count": 47,
   "metadata": {},
   "outputs": [
    {
     "data": {
      "text/plain": [
       "torch.Size([175, 4])"
      ]
     },
     "execution_count": 47,
     "metadata": {},
     "output_type": "execute_result"
    }
   ],
   "source": [
    "X_train.shape"
   ]
  },
  {
   "cell_type": "code",
   "execution_count": 48,
   "metadata": {},
   "outputs": [
    {
     "data": {
      "text/plain": [
       "torch.Size([75, 4])"
      ]
     },
     "execution_count": 48,
     "metadata": {},
     "output_type": "execute_result"
    }
   ],
   "source": [
    "X_test.shape"
   ]
  },
  {
   "cell_type": "code",
   "execution_count": 49,
   "metadata": {},
   "outputs": [
    {
     "data": {
      "text/plain": [
       "torch.Size([175])"
      ]
     },
     "execution_count": 49,
     "metadata": {},
     "output_type": "execute_result"
    }
   ],
   "source": [
    "Y_train.shape"
   ]
  },
  {
   "cell_type": "code",
   "execution_count": 50,
   "metadata": {},
   "outputs": [
    {
     "data": {
      "text/plain": [
       "torch.Size([75])"
      ]
     },
     "execution_count": 50,
     "metadata": {},
     "output_type": "execute_result"
    }
   ],
   "source": [
    "Y_test.shape"
   ]
  },
  {
   "cell_type": "code",
   "execution_count": 51,
   "metadata": {},
   "outputs": [],
   "source": [
    "#### Normalizing the dataset\n",
    "\n",
    "mean,std_dev=X_train.mean(dim=0) ,X_train.std(dim=0)\n",
    "X_train=(X_train-mean)/std_dev\n",
    "X_test=(X_test-mean)/std_dev"
   ]
  },
  {
   "cell_type": "code",
   "execution_count": 52,
   "metadata": {},
   "outputs": [],
   "source": [
    "# definning the class of our neural network\n",
    "class NN():\n",
    "  def __init__(self,n_features):\n",
    "    self.n_features=n_features\n",
    "    self.weight=torch.zeros(size=(n_features,1),dtype=torch.float,requires_grad=True)\n",
    "    self.bias=torch.zeros(1,dtype=torch.float,requires_grad=True)\n",
    "  \n",
    "\n",
    "  def forward(self,x):\n",
    "    output=torch.add(torch.mm(x,self.weight),self.bias)\n",
    "    return output.view(-1)\n"
   ]
  },
  {
   "cell_type": "code",
   "execution_count": 53,
   "metadata": {},
   "outputs": [],
   "source": [
    "# definning our loss function\n",
    "def loss_fn(yhat,y):\n",
    "  # return torch.mean((yhat-y)**2)\n",
    "  return torch.mean((yhat-y)**2)"
   ]
  },
  {
   "cell_type": "code",
   "execution_count": 54,
   "metadata": {},
   "outputs": [],
   "source": [
    "# definning the train function to train our model\n",
    "def train(model,x,y,n_epoch=10,lr=0.001,seed=23,bsz=5):\n",
    "    # list to store the cost of error function\n",
    "    cost = []\n",
    "    torch.manual_seed(seed)\n",
    "    for i in range(n_epoch):\n",
    "        sffle_idx = torch.randperm(y.size(0))\n",
    "        batches = torch.split(sffle_idx,bsz)\n",
    "\n",
    "        for idx in batches:\n",
    "            \n",
    "            # 1. computing the output\n",
    "            yhat = model.forward(x[idx])\n",
    "\n",
    "            # 2. computing the loss\n",
    "            loss = loss_fn(yhat,y[idx])\n",
    "\n",
    "            # 3. computing the gradient\n",
    "            grad_w = grad(loss,model.weight,retain_graph=True)[0] \n",
    "            grad_b = grad(loss,model.bias)[0]\n",
    "\n",
    "            # 4. Update Model Parameters\n",
    "            model.weight = model.weight - lr*grad_w\n",
    "            model.bias = model.bias - lr*grad_b\n",
    "\n",
    "        # 5. log and print the loss\n",
    "        with torch.no_grad():\n",
    "            yhat = model.forward(x)\n",
    "            curr_loss = loss_fn(yhat,y)\n",
    "            print('Epoc: %3d ' % (i+1),end=\"\")\n",
    "            print('| MSE % .5f' % curr_loss)\n",
    "            cost.append(curr_loss)\n",
    "      \n",
    "    return cost"
   ]
  },
  {
   "cell_type": "code",
   "execution_count": 64,
   "metadata": {},
   "outputs": [
    {
     "name": "stdout",
     "output_type": "stream",
     "text": [
      "Epoc:   1 | MSE  0.22494\n",
      "Epoc:   2 | MSE  0.17291\n",
      "Epoc:   3 | MSE  0.16172\n",
      "Epoc:   4 | MSE  0.15933\n",
      "Epoc:   5 | MSE  0.15871\n",
      "Epoc:   6 | MSE  0.15871\n",
      "Epoc:   7 | MSE  0.15836\n",
      "Epoc:   8 | MSE  0.15827\n",
      "Epoc:   9 | MSE  0.15831\n",
      "Epoc:  10 | MSE  0.15826\n",
      "Epoc:  11 | MSE  0.15829\n",
      "Epoc:  12 | MSE  0.15826\n",
      "Epoc:  13 | MSE  0.15836\n",
      "Epoc:  14 | MSE  0.15851\n",
      "Epoc:  15 | MSE  0.15831\n",
      "Epoc:  16 | MSE  0.15837\n",
      "Epoc:  17 | MSE  0.15827\n",
      "Epoc:  18 | MSE  0.15826\n",
      "Epoc:  19 | MSE  0.15838\n",
      "Epoc:  20 | MSE  0.15861\n",
      "Epoc:  21 | MSE  0.15850\n",
      "Epoc:  22 | MSE  0.15831\n",
      "Epoc:  23 | MSE  0.15835\n",
      "Epoc:  24 | MSE  0.15840\n",
      "Epoc:  25 | MSE  0.15831\n",
      "Epoc:  26 | MSE  0.15837\n",
      "Epoc:  27 | MSE  0.15831\n",
      "Epoc:  28 | MSE  0.15839\n",
      "Epoc:  29 | MSE  0.15825\n",
      "Epoc:  30 | MSE  0.15831\n",
      "Epoc:  31 | MSE  0.15835\n",
      "Epoc:  32 | MSE  0.15828\n",
      "Epoc:  33 | MSE  0.15826\n",
      "Epoc:  34 | MSE  0.15828\n",
      "Epoc:  35 | MSE  0.15841\n",
      "Epoc:  36 | MSE  0.15846\n",
      "Epoc:  37 | MSE  0.15843\n",
      "Epoc:  38 | MSE  0.15830\n",
      "Epoc:  39 | MSE  0.15827\n",
      "Epoc:  40 | MSE  0.15825\n",
      "Epoc:  41 | MSE  0.15853\n",
      "Epoc:  42 | MSE  0.15833\n",
      "Epoc:  43 | MSE  0.15831\n",
      "Epoc:  44 | MSE  0.15837\n",
      "Epoc:  45 | MSE  0.15831\n",
      "Epoc:  46 | MSE  0.15833\n",
      "Epoc:  47 | MSE  0.15827\n",
      "Epoc:  48 | MSE  0.15837\n",
      "Epoc:  49 | MSE  0.15840\n",
      "Epoc:  50 | MSE  0.15825\n",
      "Epoc:  51 | MSE  0.15827\n",
      "Epoc:  52 | MSE  0.15832\n",
      "Epoc:  53 | MSE  0.15844\n",
      "Epoc:  54 | MSE  0.15827\n",
      "Epoc:  55 | MSE  0.15833\n",
      "Epoc:  56 | MSE  0.15826\n",
      "Epoc:  57 | MSE  0.15827\n",
      "Epoc:  58 | MSE  0.15829\n",
      "Epoc:  59 | MSE  0.15838\n",
      "Epoc:  60 | MSE  0.15837\n",
      "Epoc:  61 | MSE  0.15827\n",
      "Epoc:  62 | MSE  0.15860\n",
      "Epoc:  63 | MSE  0.15868\n",
      "Epoc:  64 | MSE  0.15844\n",
      "Epoc:  65 | MSE  0.15831\n",
      "Epoc:  66 | MSE  0.15835\n",
      "Epoc:  67 | MSE  0.15842\n",
      "Epoc:  68 | MSE  0.15827\n",
      "Epoc:  69 | MSE  0.15831\n",
      "Epoc:  70 | MSE  0.15826\n",
      "Epoc:  71 | MSE  0.15828\n",
      "Epoc:  72 | MSE  0.15830\n",
      "Epoc:  73 | MSE  0.15828\n",
      "Epoc:  74 | MSE  0.15828\n",
      "Epoc:  75 | MSE  0.15831\n",
      "Epoc:  76 | MSE  0.15836\n",
      "Epoc:  77 | MSE  0.15828\n",
      "Epoc:  78 | MSE  0.15830\n",
      "Epoc:  79 | MSE  0.15835\n",
      "Epoc:  80 | MSE  0.15854\n",
      "Epoc:  81 | MSE  0.15840\n",
      "Epoc:  82 | MSE  0.15833\n",
      "Epoc:  83 | MSE  0.15826\n",
      "Epoc:  84 | MSE  0.15827\n",
      "Epoc:  85 | MSE  0.15835\n",
      "Epoc:  86 | MSE  0.15855\n",
      "Epoc:  87 | MSE  0.15828\n",
      "Epoc:  88 | MSE  0.15830\n",
      "Epoc:  89 | MSE  0.15839\n",
      "Epoc:  90 | MSE  0.15843\n",
      "Epoc:  91 | MSE  0.15828\n",
      "Epoc:  92 | MSE  0.15831\n",
      "Epoc:  93 | MSE  0.15828\n",
      "Epoc:  94 | MSE  0.15826\n",
      "Epoc:  95 | MSE  0.15848\n",
      "Epoc:  96 | MSE  0.15832\n",
      "Epoc:  97 | MSE  0.15832\n",
      "Epoc:  98 | MSE  0.15827\n",
      "Epoc:  99 | MSE  0.15838\n",
      "Epoc: 100 | MSE  0.15833\n"
     ]
    }
   ],
   "source": [
    "model8 = NN(X_train.size(1))\n",
    "cost8 = train(model8,X_train,Y_train,lr=0.01,n_epoch=100)"
   ]
  },
  {
   "cell_type": "code",
   "execution_count": 65,
   "metadata": {},
   "outputs": [
    {
     "data": {
      "image/png": "[encoded data removed]",
      "text/plain": [
       "<Figure size 432x288 with 1 Axes>"
      ]
     },
     "metadata": {},
     "output_type": "display_data"
    }
   ],
   "source": [
    "plt.plot(range(len(cost)),cost)\n",
    "plt.ylabel('Mean Sqare Error')\n",
    "plt.xlabel('Epoc')\n",
    "plt.grid(linestyle='--',color='green')\n",
    "plt.show()"
   ]
  },
  {
   "cell_type": "code",
   "execution_count": 66,
   "metadata": {},
   "outputs": [
    {
     "name": "stdout",
     "output_type": "stream",
     "text": [
      "Training Accuracy: 81.71\n",
      "Testing Accuracy: 77.33\n"
     ]
    }
   ],
   "source": [
    "ones=torch.ones(Y_train.size())\n",
    "zero=torch.zeros(Y_train.size())\n",
    "train_pred=model8.forward(X_train)\n",
    "train_acc=torch.mean((  \n",
    "    torch.where(train_pred > 0.5,\n",
    "                ones,zero).int()==Y_train).float())\n",
    "\n",
    "\n",
    "ones=torch.ones(Y_test.size())\n",
    "zeros=torch.zeros(Y_test.size())\n",
    "test_pred=model8.forward(X_test)\n",
    "test_acc=torch.mean((torch.where(test_pred> 0.5,ones,zeros).int()==Y_test).float())\n",
    "\n",
    "print('Training Accuracy: %.2f' % (train_acc*100))\n",
    "print('Testing Accuracy: %.2f' % (test_acc*100))"
   ]
  }
 ],
 "metadata": {
  "kernelspec": {
   "display_name": "Python 3.7.3 ('envpytorch')",
   "language": "python",
   "name": "python3"
  },
  "language_info": {
   "codemirror_mode": {
    "name": "ipython",
    "version": 3
   },
   "file_extension": ".py",
   "mimetype": "text/x-python",
   "name": "python",
   "nbconvert_exporter": "python",
   "pygments_lexer": "ipython3",
   "version": "3.7.3"
  },
  "orig_nbformat": 4,
  "vscode": {
   "interpreter": {
    "hash": "0fc7bd647e6871e736cda3647e4a9f95e1dab561eda3abdd090cba4096b534d8"
   }
  }
 },
 "nbformat": 4,
 "nbformat_minor": 2
}
