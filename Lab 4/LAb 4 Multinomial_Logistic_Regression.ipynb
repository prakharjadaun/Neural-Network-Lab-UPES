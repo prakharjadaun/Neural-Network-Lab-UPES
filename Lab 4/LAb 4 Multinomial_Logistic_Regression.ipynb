{
  "cells": [
    {
      "cell_type": "markdown",
      "metadata": {
        "id": "Tm6t10EojRCq"
      },
      "source": [
        "### Logistic Regression"
      ]
    },
    {
      "cell_type": "code",
      "execution_count": 47,
      "metadata": {
        "id": "6jdUNEYODFG6"
      },
      "outputs": [],
      "source": [
        "#importing the required libraries\n",
        "import sklearn\n",
        "import torch\n",
        "import torch.nn as nn\n",
        "import torch.nn.functional as F\n",
        "from sklearn.datasets import load_iris\n",
        "from sklearn.model_selection import train_test_split\n",
        "from sklearn.preprocessing import StandardScaler"
      ]
    },
    {
      "cell_type": "code",
      "execution_count": 48,
      "metadata": {
        "id": "KJy9PjMfDToY"
      },
      "outputs": [],
      "source": [
        "# loading the iris dataset\n",
        "iris=load_iris()\n",
        "X=iris['data']\n",
        "y=iris['target']"
      ]
    },
    {
      "cell_type": "code",
      "execution_count": 49,
      "metadata": {
        "colab": {
          "base_uri": "https://localhost:8080/"
        },
        "id": "6v7ma2myFky9",
        "outputId": "816e8372-1465-4990-c740-cdf21f6bd2c0"
      },
      "outputs": [
        {
          "data": {
            "text/plain": [
              "(150,)"
            ]
          },
          "execution_count": 49,
          "metadata": {},
          "output_type": "execute_result"
        }
      ],
      "source": [
        "# shape of y\n",
        "y.shape"
      ]
    },
    {
      "cell_type": "code",
      "execution_count": 50,
      "metadata": {},
      "outputs": [
        {
          "data": {
            "text/plain": [
              "array([0, 0, 0, 0, 0, 0, 0, 0, 0, 0, 0, 0, 0, 0, 0, 0, 0, 0, 0, 0, 0, 0,\n",
              "       0, 0, 0, 0, 0, 0, 0, 0, 0, 0, 0, 0, 0, 0, 0, 0, 0, 0, 0, 0, 0, 0,\n",
              "       0, 0, 0, 0, 0, 0, 1, 1, 1, 1, 1, 1, 1, 1, 1, 1, 1, 1, 1, 1, 1, 1,\n",
              "       1, 1, 1, 1, 1, 1, 1, 1, 1, 1, 1, 1, 1, 1, 1, 1, 1, 1, 1, 1, 1, 1,\n",
              "       1, 1, 1, 1, 1, 1, 1, 1, 1, 1, 1, 1, 2, 2, 2, 2, 2, 2, 2, 2, 2, 2,\n",
              "       2, 2, 2, 2, 2, 2, 2, 2, 2, 2, 2, 2, 2, 2, 2, 2, 2, 2, 2, 2, 2, 2,\n",
              "       2, 2, 2, 2, 2, 2, 2, 2, 2, 2, 2, 2, 2, 2, 2, 2, 2, 2])"
            ]
          },
          "execution_count": 50,
          "metadata": {},
          "output_type": "execute_result"
        }
      ],
      "source": [
        "# three target classes are there in the iris dataset and they are labelled as 0,1 and 2\n",
        "y"
      ]
    },
    {
      "cell_type": "code",
      "execution_count": 51,
      "metadata": {
        "id": "E4SqtB9gEdnv"
      },
      "outputs": [],
      "source": [
        "### Preprocess the Data\n",
        "scaler=StandardScaler()\n",
        "X=scaler.fit_transform(X)\n",
        "X=torch.tensor(X,dtype=torch.float32)\n",
        "y=torch.tensor(y,dtype=torch.float32)\n"
      ]
    },
    {
      "cell_type": "code",
      "execution_count": 52,
      "metadata": {},
      "outputs": [
        {
          "data": {
            "text/plain": [
              "tensor([[-9.0068e-01,  1.0190e+00, -1.3402e+00, -1.3154e+00],\n",
              "        [-1.1430e+00, -1.3198e-01, -1.3402e+00, -1.3154e+00],\n",
              "        [-1.3854e+00,  3.2841e-01, -1.3971e+00, -1.3154e+00],\n",
              "        [-1.5065e+00,  9.8217e-02, -1.2834e+00, -1.3154e+00],\n",
              "        [-1.0218e+00,  1.2492e+00, -1.3402e+00, -1.3154e+00],\n",
              "        [-5.3718e-01,  1.9398e+00, -1.1697e+00, -1.0522e+00],\n",
              "        [-1.5065e+00,  7.8881e-01, -1.3402e+00, -1.1838e+00],\n",
              "        [-1.0218e+00,  7.8881e-01, -1.2834e+00, -1.3154e+00],\n",
              "        [-1.7489e+00, -3.6218e-01, -1.3402e+00, -1.3154e+00],\n",
              "        [-1.1430e+00,  9.8217e-02, -1.2834e+00, -1.4471e+00],\n",
              "        [-5.3718e-01,  1.4794e+00, -1.2834e+00, -1.3154e+00],\n",
              "        [-1.2642e+00,  7.8881e-01, -1.2266e+00, -1.3154e+00],\n",
              "        [-1.2642e+00, -1.3198e-01, -1.3402e+00, -1.4471e+00],\n",
              "        [-1.8700e+00, -1.3198e-01, -1.5107e+00, -1.4471e+00],\n",
              "        [-5.2506e-02,  2.1700e+00, -1.4539e+00, -1.3154e+00],\n",
              "        [-1.7367e-01,  3.0908e+00, -1.2834e+00, -1.0522e+00],\n",
              "        [-5.3718e-01,  1.9398e+00, -1.3971e+00, -1.0522e+00],\n",
              "        [-9.0068e-01,  1.0190e+00, -1.3402e+00, -1.1838e+00],\n",
              "        [-1.7367e-01,  1.7096e+00, -1.1697e+00, -1.1838e+00],\n",
              "        [-9.0068e-01,  1.7096e+00, -1.2834e+00, -1.1838e+00],\n",
              "        [-5.3718e-01,  7.8881e-01, -1.1697e+00, -1.3154e+00],\n",
              "        [-9.0068e-01,  1.4794e+00, -1.2834e+00, -1.0522e+00],\n",
              "        [-1.5065e+00,  1.2492e+00, -1.5676e+00, -1.3154e+00],\n",
              "        [-9.0068e-01,  5.5861e-01, -1.1697e+00, -9.2055e-01],\n",
              "        [-1.2642e+00,  7.8881e-01, -1.0560e+00, -1.3154e+00],\n",
              "        [-1.0218e+00, -1.3198e-01, -1.2266e+00, -1.3154e+00],\n",
              "        [-1.0218e+00,  7.8881e-01, -1.2266e+00, -1.0522e+00],\n",
              "        [-7.7951e-01,  1.0190e+00, -1.2834e+00, -1.3154e+00],\n",
              "        [-7.7951e-01,  7.8881e-01, -1.3402e+00, -1.3154e+00],\n",
              "        [-1.3854e+00,  3.2841e-01, -1.2266e+00, -1.3154e+00],\n",
              "        [-1.2642e+00,  9.8217e-02, -1.2266e+00, -1.3154e+00],\n",
              "        [-5.3718e-01,  7.8881e-01, -1.2834e+00, -1.0522e+00],\n",
              "        [-7.7951e-01,  2.4002e+00, -1.2834e+00, -1.4471e+00],\n",
              "        [-4.1601e-01,  2.6304e+00, -1.3402e+00, -1.3154e+00],\n",
              "        [-1.1430e+00,  9.8217e-02, -1.2834e+00, -1.3154e+00],\n",
              "        [-1.0218e+00,  3.2841e-01, -1.4539e+00, -1.3154e+00],\n",
              "        [-4.1601e-01,  1.0190e+00, -1.3971e+00, -1.3154e+00],\n",
              "        [-1.1430e+00,  1.2492e+00, -1.3402e+00, -1.4471e+00],\n",
              "        [-1.7489e+00, -1.3198e-01, -1.3971e+00, -1.3154e+00],\n",
              "        [-9.0068e-01,  7.8881e-01, -1.2834e+00, -1.3154e+00],\n",
              "        [-1.0218e+00,  1.0190e+00, -1.3971e+00, -1.1838e+00],\n",
              "        [-1.6277e+00, -1.7434e+00, -1.3971e+00, -1.1838e+00],\n",
              "        [-1.7489e+00,  3.2841e-01, -1.3971e+00, -1.3154e+00],\n",
              "        [-1.0218e+00,  1.0190e+00, -1.2266e+00, -7.8892e-01],\n",
              "        [-9.0068e-01,  1.7096e+00, -1.0560e+00, -1.0522e+00],\n",
              "        [-1.2642e+00, -1.3198e-01, -1.3402e+00, -1.1838e+00],\n",
              "        [-9.0068e-01,  1.7096e+00, -1.2266e+00, -1.3154e+00],\n",
              "        [-1.5065e+00,  3.2841e-01, -1.3402e+00, -1.3154e+00],\n",
              "        [-6.5835e-01,  1.4794e+00, -1.2834e+00, -1.3154e+00],\n",
              "        [-1.0218e+00,  5.5861e-01, -1.3402e+00, -1.3154e+00],\n",
              "        [ 1.4015e+00,  3.2841e-01,  5.3541e-01,  2.6414e-01],\n",
              "        [ 6.7450e-01,  3.2841e-01,  4.2173e-01,  3.9577e-01],\n",
              "        [ 1.2803e+00,  9.8217e-02,  6.4908e-01,  3.9577e-01],\n",
              "        [-4.1601e-01, -1.7434e+00,  1.3755e-01,  1.3251e-01],\n",
              "        [ 7.9567e-01, -5.9237e-01,  4.7857e-01,  3.9577e-01],\n",
              "        [-1.7367e-01, -5.9237e-01,  4.2173e-01,  1.3251e-01],\n",
              "        [ 5.5333e-01,  5.5861e-01,  5.3541e-01,  5.2741e-01],\n",
              "        [-1.1430e+00, -1.5132e+00, -2.6032e-01, -2.6239e-01],\n",
              "        [ 9.1684e-01, -3.6218e-01,  4.7857e-01,  1.3251e-01],\n",
              "        [-7.7951e-01, -8.2257e-01,  8.0709e-02,  2.6414e-01],\n",
              "        [-1.0218e+00, -2.4339e+00, -1.4664e-01, -2.6239e-01],\n",
              "        [ 6.8662e-02, -1.3198e-01,  2.5122e-01,  3.9577e-01],\n",
              "        [ 1.8983e-01, -1.9736e+00,  1.3755e-01, -2.6239e-01],\n",
              "        [ 3.1100e-01, -3.6218e-01,  5.3541e-01,  2.6414e-01],\n",
              "        [-2.9484e-01, -3.6218e-01, -8.9803e-02,  1.3251e-01],\n",
              "        [ 1.0380e+00,  9.8217e-02,  3.6490e-01,  2.6414e-01],\n",
              "        [-2.9484e-01, -1.3198e-01,  4.2173e-01,  3.9577e-01],\n",
              "        [-5.2506e-02, -8.2257e-01,  1.9438e-01, -2.6239e-01],\n",
              "        [ 4.3217e-01, -1.9736e+00,  4.2173e-01,  3.9577e-01],\n",
              "        [-2.9484e-01, -1.2830e+00,  8.0709e-02, -1.3075e-01],\n",
              "        [ 6.8662e-02,  3.2841e-01,  5.9225e-01,  7.9067e-01],\n",
              "        [ 3.1100e-01, -5.9237e-01,  1.3755e-01,  1.3251e-01],\n",
              "        [ 5.5333e-01, -1.2830e+00,  6.4908e-01,  3.9577e-01],\n",
              "        [ 3.1100e-01, -5.9237e-01,  5.3541e-01,  8.7755e-04],\n",
              "        [ 6.7450e-01, -3.6218e-01,  3.0806e-01,  1.3251e-01],\n",
              "        [ 9.1684e-01, -1.3198e-01,  3.6490e-01,  2.6414e-01],\n",
              "        [ 1.1592e+00, -5.9237e-01,  5.9225e-01,  2.6414e-01],\n",
              "        [ 1.0380e+00, -1.3198e-01,  7.0592e-01,  6.5904e-01],\n",
              "        [ 1.8983e-01, -3.6218e-01,  4.2173e-01,  3.9577e-01],\n",
              "        [-1.7367e-01, -1.0528e+00, -1.4664e-01, -2.6239e-01],\n",
              "        [-4.1601e-01, -1.5132e+00,  2.3872e-02, -1.3075e-01],\n",
              "        [-4.1601e-01, -1.5132e+00, -3.2966e-02, -2.6239e-01],\n",
              "        [-5.2506e-02, -8.2257e-01,  8.0709e-02,  8.7755e-04],\n",
              "        [ 1.8983e-01, -8.2257e-01,  7.6276e-01,  5.2741e-01],\n",
              "        [-5.3718e-01, -1.3198e-01,  4.2173e-01,  3.9577e-01],\n",
              "        [ 1.8983e-01,  7.8881e-01,  4.2173e-01,  5.2741e-01],\n",
              "        [ 1.0380e+00,  9.8217e-02,  5.3541e-01,  3.9577e-01],\n",
              "        [ 5.5333e-01, -1.7434e+00,  3.6490e-01,  1.3251e-01],\n",
              "        [-2.9484e-01, -1.3198e-01,  1.9438e-01,  1.3251e-01],\n",
              "        [-4.1601e-01, -1.2830e+00,  1.3755e-01,  1.3251e-01],\n",
              "        [-4.1601e-01, -1.0528e+00,  3.6490e-01,  8.7755e-04],\n",
              "        [ 3.1100e-01, -1.3198e-01,  4.7857e-01,  2.6414e-01],\n",
              "        [-5.2506e-02, -1.0528e+00,  1.3755e-01,  8.7755e-04],\n",
              "        [-1.0218e+00, -1.7434e+00, -2.6032e-01, -2.6239e-01],\n",
              "        [-2.9484e-01, -8.2257e-01,  2.5122e-01,  1.3251e-01],\n",
              "        [-1.7367e-01, -1.3198e-01,  2.5122e-01,  8.7755e-04],\n",
              "        [-1.7367e-01, -3.6218e-01,  2.5122e-01,  1.3251e-01],\n",
              "        [ 4.3217e-01, -3.6218e-01,  3.0806e-01,  1.3251e-01],\n",
              "        [-9.0068e-01, -1.2830e+00, -4.3083e-01, -1.3075e-01],\n",
              "        [-1.7367e-01, -5.9237e-01,  1.9438e-01,  1.3251e-01],\n",
              "        [ 5.5333e-01,  5.5861e-01,  1.2743e+00,  1.7121e+00],\n",
              "        [-5.2506e-02, -8.2257e-01,  7.6276e-01,  9.2230e-01],\n",
              "        [ 1.5227e+00, -1.3198e-01,  1.2175e+00,  1.1856e+00],\n",
              "        [ 5.5333e-01, -3.6218e-01,  1.0469e+00,  7.9067e-01],\n",
              "        [ 7.9567e-01, -1.3198e-01,  1.1606e+00,  1.3172e+00],\n",
              "        [ 2.1285e+00, -1.3198e-01,  1.6153e+00,  1.1856e+00],\n",
              "        [-1.1430e+00, -1.2830e+00,  4.2173e-01,  6.5904e-01],\n",
              "        [ 1.7650e+00, -3.6218e-01,  1.4448e+00,  7.9067e-01],\n",
              "        [ 1.0380e+00, -1.2830e+00,  1.1606e+00,  7.9067e-01],\n",
              "        [ 1.6438e+00,  1.2492e+00,  1.3311e+00,  1.7121e+00],\n",
              "        [ 7.9567e-01,  3.2841e-01,  7.6276e-01,  1.0539e+00],\n",
              "        [ 6.7450e-01, -8.2257e-01,  8.7643e-01,  9.2230e-01],\n",
              "        [ 1.1592e+00, -1.3198e-01,  9.9011e-01,  1.1856e+00],\n",
              "        [-1.7367e-01, -1.2830e+00,  7.0592e-01,  1.0539e+00],\n",
              "        [-5.2506e-02, -5.9237e-01,  7.6276e-01,  1.5805e+00],\n",
              "        [ 6.7450e-01,  3.2841e-01,  8.7643e-01,  1.4488e+00],\n",
              "        [ 7.9567e-01, -1.3198e-01,  9.9011e-01,  7.9067e-01],\n",
              "        [ 2.2497e+00,  1.7096e+00,  1.6722e+00,  1.3172e+00],\n",
              "        [ 2.2497e+00, -1.0528e+00,  1.7858e+00,  1.4488e+00],\n",
              "        [ 1.8983e-01, -1.9736e+00,  7.0592e-01,  3.9577e-01],\n",
              "        [ 1.2803e+00,  3.2841e-01,  1.1038e+00,  1.4488e+00],\n",
              "        [-2.9484e-01, -5.9237e-01,  6.4908e-01,  1.0539e+00],\n",
              "        [ 2.2497e+00, -5.9237e-01,  1.6722e+00,  1.0539e+00],\n",
              "        [ 5.5333e-01, -8.2257e-01,  6.4908e-01,  7.9067e-01],\n",
              "        [ 1.0380e+00,  5.5861e-01,  1.1038e+00,  1.1856e+00],\n",
              "        [ 1.6438e+00,  3.2841e-01,  1.2743e+00,  7.9067e-01],\n",
              "        [ 4.3217e-01, -5.9237e-01,  5.9225e-01,  7.9067e-01],\n",
              "        [ 3.1100e-01, -1.3198e-01,  6.4908e-01,  7.9067e-01],\n",
              "        [ 6.7450e-01, -5.9237e-01,  1.0469e+00,  1.1856e+00],\n",
              "        [ 1.6438e+00, -1.3198e-01,  1.1606e+00,  5.2741e-01],\n",
              "        [ 1.8862e+00, -5.9237e-01,  1.3311e+00,  9.2230e-01],\n",
              "        [ 2.4920e+00,  1.7096e+00,  1.5016e+00,  1.0539e+00],\n",
              "        [ 6.7450e-01, -5.9237e-01,  1.0469e+00,  1.3172e+00],\n",
              "        [ 5.5333e-01, -5.9237e-01,  7.6276e-01,  3.9577e-01],\n",
              "        [ 3.1100e-01, -1.0528e+00,  1.0469e+00,  2.6414e-01],\n",
              "        [ 2.2497e+00, -1.3198e-01,  1.3311e+00,  1.4488e+00],\n",
              "        [ 5.5333e-01,  7.8881e-01,  1.0469e+00,  1.5805e+00],\n",
              "        [ 6.7450e-01,  9.8217e-02,  9.9011e-01,  7.9067e-01],\n",
              "        [ 1.8983e-01, -1.3198e-01,  5.9225e-01,  7.9067e-01],\n",
              "        [ 1.2803e+00,  9.8217e-02,  9.3327e-01,  1.1856e+00],\n",
              "        [ 1.0380e+00,  9.8217e-02,  1.0469e+00,  1.5805e+00],\n",
              "        [ 1.2803e+00,  9.8217e-02,  7.6276e-01,  1.4488e+00],\n",
              "        [-5.2506e-02, -8.2257e-01,  7.6276e-01,  9.2230e-01],\n",
              "        [ 1.1592e+00,  3.2841e-01,  1.2175e+00,  1.4488e+00],\n",
              "        [ 1.0380e+00,  5.5861e-01,  1.1038e+00,  1.7121e+00],\n",
              "        [ 1.0380e+00, -1.3198e-01,  8.1960e-01,  1.4488e+00],\n",
              "        [ 5.5333e-01, -1.2830e+00,  7.0592e-01,  9.2230e-01],\n",
              "        [ 7.9567e-01, -1.3198e-01,  8.1960e-01,  1.0539e+00],\n",
              "        [ 4.3217e-01,  7.8881e-01,  9.3327e-01,  1.4488e+00],\n",
              "        [ 6.8662e-02, -1.3198e-01,  7.6276e-01,  7.9067e-01]])"
            ]
          },
          "execution_count": 52,
          "metadata": {},
          "output_type": "execute_result"
        }
      ],
      "source": [
        "X"
      ]
    },
    {
      "cell_type": "code",
      "execution_count": 53,
      "metadata": {
        "id": "iiIwowFfFJho"
      },
      "outputs": [],
      "source": [
        "# splitting the data into training and testing set \n",
        "# ratio of training and testing data = 8:2\n",
        "X_train,X_test,y_train,y_test=train_test_split(X,y,test_size=.2,random_state=32)"
      ]
    },
    {
      "cell_type": "code",
      "execution_count": 54,
      "metadata": {
        "colab": {
          "base_uri": "https://localhost:8080/"
        },
        "id": "hGtcvnFNF64Q",
        "outputId": "cd4e1d6d-46bd-4011-ba1d-163bd1e6a3bf"
      },
      "outputs": [
        {
          "data": {
            "text/plain": [
              "torch.Size([120, 4])"
            ]
          },
          "execution_count": 54,
          "metadata": {},
          "output_type": "execute_result"
        }
      ],
      "source": [
        "X_train.shape"
      ]
    },
    {
      "cell_type": "code",
      "execution_count": 55,
      "metadata": {},
      "outputs": [
        {
          "data": {
            "text/plain": [
              "torch.Size([120])"
            ]
          },
          "execution_count": 55,
          "metadata": {},
          "output_type": "execute_result"
        }
      ],
      "source": [
        "y_train.shape"
      ]
    },
    {
      "cell_type": "code",
      "execution_count": 56,
      "metadata": {},
      "outputs": [
        {
          "data": {
            "text/plain": [
              "torch.Size([30, 4])"
            ]
          },
          "execution_count": 56,
          "metadata": {},
          "output_type": "execute_result"
        }
      ],
      "source": [
        "X_test.shape"
      ]
    },
    {
      "cell_type": "code",
      "execution_count": 57,
      "metadata": {
        "id": "6LrJNWlXF_ff"
      },
      "outputs": [],
      "source": [
        "# definning the logistic regression class and setting the constructor\n",
        "class LogisticRegression(nn.Module):\n",
        "  def __init__(self,n_features,h1):\n",
        "    # calling the constructor of the parents class\n",
        "    super(LogisticRegression,self).__init__()\n",
        "    # intializing the shape of the layer1 layer2\n",
        "    self.layer1=nn.Linear(n_features,h1)\n",
        "    self.layer2=nn.Linear(h1,3)\n",
        "    # definning the softmax function \n",
        "    self.softmax=nn.Softmax(dim=1)\n",
        "\n",
        "  # function for feedforward pass\n",
        "  def forward(self,x):\n",
        "    # using the Relu activation function as the activation function in the layer 1 and layer 2\n",
        "    out=F.relu(self.layer1(x))\n",
        "    out=F.relu(self.layer2(out))\n",
        "    # using the softmax function as the activation function in the output layer\n",
        "    out=self.softmax(out)\n",
        "    return out"
      ]
    },
    {
      "cell_type": "code",
      "execution_count": 58,
      "metadata": {
        "id": "WlXCB9VovaeN"
      },
      "outputs": [],
      "source": [
        "\n",
        "def train(model,X,y,epocs=50,optimizer=None,loss_fn=None,bsz=20,seed=20):\n",
        "  torch.manual_seed(seed)\n",
        "  cost=[]\n",
        "  for epoch in range(epocs):\n",
        "    # shuffling the indices\n",
        "    suffle_idx=torch.randperm(y.size(0))\n",
        "    batches =torch.split(suffle_idx,bsz)\n",
        "    for batch_idx in batches:\n",
        "      # 1. Compute the output\n",
        "      yhat=model(X[batch_idx])\n",
        "\n",
        "      # 2. Compute the error\n",
        "    \n",
        "      loss=loss_fn(yhat,y[batch_idx].long())\n",
        "\n",
        "      # 3. Compute the Gradient\n",
        "      optimizer.zero_grad()\n",
        "      loss.backward()\n",
        "\n",
        "      # 4. Update the Parameters\n",
        "      optimizer.step()\n",
        "\n",
        "      # Log the loss\n",
        "    with torch.no_grad():\n",
        "      yhat=model(X)\n",
        "      curr_loss=loss_fn(yhat,y.long())\n",
        "      print('Epoc:%3d ' % epoch,end=\"\")\n",
        "      print('BCE %.2f' % curr_loss)\n",
        "      cost.append(curr_loss)\n",
        "  return cost\n",
        "\n",
        "\n",
        "\n"
      ]
    },
    {
      "cell_type": "code",
      "execution_count": 59,
      "metadata": {
        "id": "JHsTBH3-HgnT"
      },
      "outputs": [],
      "source": [
        "model=LogisticRegression(n_features=X_train.size(1),h1=20)\n",
        "optimizer=torch.optim.Adam(model.parameters(),lr=.001)\n",
        "loss_fn = nn.CrossEntropyLoss()"
      ]
    },
    {
      "cell_type": "code",
      "execution_count": 60,
      "metadata": {
        "colab": {
          "base_uri": "https://localhost:8080/"
        },
        "id": "EifyzkCYIEhr",
        "outputId": "b4b5f734-a9c2-4eef-f9c9-ea57b4319c83"
      },
      "outputs": [
        {
          "name": "stdout",
          "output_type": "stream",
          "text": [
            "Epoc:  0 BCE 1.09\n",
            "Epoc:  1 BCE 1.08\n",
            "Epoc:  2 BCE 1.07\n",
            "Epoc:  3 BCE 1.07\n",
            "Epoc:  4 BCE 1.06\n",
            "Epoc:  5 BCE 1.05\n",
            "Epoc:  6 BCE 1.05\n",
            "Epoc:  7 BCE 1.04\n",
            "Epoc:  8 BCE 1.03\n",
            "Epoc:  9 BCE 1.02\n",
            "Epoc: 10 BCE 1.02\n",
            "Epoc: 11 BCE 1.01\n",
            "Epoc: 12 BCE 1.00\n",
            "Epoc: 13 BCE 1.00\n",
            "Epoc: 14 BCE 0.99\n",
            "Epoc: 15 BCE 0.99\n",
            "Epoc: 16 BCE 0.98\n",
            "Epoc: 17 BCE 0.98\n",
            "Epoc: 18 BCE 0.97\n",
            "Epoc: 19 BCE 0.97\n",
            "Epoc: 20 BCE 0.96\n",
            "Epoc: 21 BCE 0.96\n",
            "Epoc: 22 BCE 0.96\n",
            "Epoc: 23 BCE 0.95\n",
            "Epoc: 24 BCE 0.95\n",
            "Epoc: 25 BCE 0.95\n",
            "Epoc: 26 BCE 0.95\n",
            "Epoc: 27 BCE 0.95\n",
            "Epoc: 28 BCE 0.94\n",
            "Epoc: 29 BCE 0.94\n",
            "Epoc: 30 BCE 0.94\n",
            "Epoc: 31 BCE 0.94\n",
            "Epoc: 32 BCE 0.94\n",
            "Epoc: 33 BCE 0.94\n",
            "Epoc: 34 BCE 0.94\n",
            "Epoc: 35 BCE 0.94\n",
            "Epoc: 36 BCE 0.94\n",
            "Epoc: 37 BCE 0.94\n",
            "Epoc: 38 BCE 0.94\n",
            "Epoc: 39 BCE 0.94\n",
            "Epoc: 40 BCE 0.93\n",
            "Epoc: 41 BCE 0.93\n",
            "Epoc: 42 BCE 0.93\n",
            "Epoc: 43 BCE 0.93\n",
            "Epoc: 44 BCE 0.93\n",
            "Epoc: 45 BCE 0.93\n",
            "Epoc: 46 BCE 0.93\n",
            "Epoc: 47 BCE 0.93\n",
            "Epoc: 48 BCE 0.93\n",
            "Epoc: 49 BCE 0.93\n"
          ]
        }
      ],
      "source": [
        "cost =train(model,X_train,y_train,optimizer=optimizer,loss_fn=loss_fn)"
      ]
    },
    {
      "cell_type": "code",
      "execution_count": 61,
      "metadata": {
        "colab": {
          "base_uri": "https://localhost:8080/",
          "height": 279
        },
        "id": "Ysp4styjtBPJ",
        "outputId": "ca058c4e-73fa-4560-c475-fa6676ba76c2"
      },
      "outputs": [
        {
          "data": {
            "image/png": "[encoded data removed]",
            "text/plain": [
              "<Figure size 432x288 with 1 Axes>"
            ]
          },
          "metadata": {
            "needs_background": "light"
          },
          "output_type": "display_data"
        }
      ],
      "source": [
        "import matplotlib.pyplot as plt\n",
        "plt.plot(range(len(cost)),cost)\n",
        "plt.ylabel('Binary Cross Entropy')\n",
        "plt.xlabel('Epoc')\n",
        "plt.show()"
      ]
    },
    {
      "cell_type": "code",
      "execution_count": 62,
      "metadata": {
        "id": "fpuUWyDOsAie"
      },
      "outputs": [],
      "source": [
        "from sklearn.metrics import accuracy_score"
      ]
    },
    {
      "cell_type": "code",
      "execution_count": 63,
      "metadata": {
        "colab": {
          "base_uri": "https://localhost:8080/"
        },
        "id": "rZMw266gjQHU",
        "outputId": "ac93cacc-52d4-47ec-d408-1485502be14d"
      },
      "outputs": [
        {
          "name": "stdout",
          "output_type": "stream",
          "text": [
            "Training Accuracy: 0.32\n",
            "Testing Accuracy: 0.40\n"
          ]
        }
      ],
      "source": [
        "with torch.no_grad():\n",
        "  train_pred=model(X_train)\n",
        "  #train_pred\n",
        "  train_acc=(torch.argmax(train_pred,dim=1)==y_train).float().mean()\n",
        "  print('Training Accuracy: %.2f' %train_acc)\n",
        "  test_pred=model(X_test)\n",
        "  test_acc=(torch.argmax(test_pred,dim=1)==y_test).float().mean()\n",
        "  print('Testing Accuracy: %.2f' %test_acc)"
      ]
    },
    {
      "cell_type": "markdown",
      "metadata": {
        "id": "AGcTfUjYnsSs"
      },
      "source": [
        "### Multinomial Logistic Regression"
      ]
    },
    {
      "cell_type": "code",
      "execution_count": 64,
      "metadata": {
        "id": "5Ig03Icalara"
      },
      "outputs": [],
      "source": [
        "import torch\n",
        "import torchvision\n",
        "import torchvision.transforms as transforms"
      ]
    },
    {
      "cell_type": "code",
      "execution_count": 65,
      "metadata": {
        "colab": {
          "base_uri": "https://localhost:8080/",
          "height": 422,
          "referenced_widgets": [
            "f4f5dad8e6f1449491a8de4079ceaa70",
            "c09f1c3a9e3e48b3a9d22bf6677e0d75",
            "7b8b9924e1f54790b98d3256dd3a1207",
            "69a4cd528213444e9f64842459d0c3f0",
            "e175b9718ac342139b1692d02277561b",
            "951f92ebe7a64f4b87c72fbe2741bbd6",
            "f6c23d459bf24332869622a1a29699db",
            "7cae308ff68e4cc08edcf302658a498b",
            "ac20a9eb4caf4b6d9179639566958aa9",
            "35153b177e624f5cb5999020f9bb1329",
            "f36ba679cd7e470eb32822918b2f98fe",
            "079127f2d09d4654ac51c4b1d9c9ddcc",
            "a6074392dc92438c879d3e7602150e4b",
            "d9ad48eb0c87497a8b63b370816936ff",
            "c8e63ede31af4c81a1cf6d5d03aa1873",
            "4dce3a0a4dd6442f986677bc273b0c12",
            "0481576032e542bd83ee1cada79c2c8f",
            "0aeead89637a4da49a9eca203f57b77d",
            "f8ffaea968c24974ab1cbad6a2ab6656",
            "15efffa12fe44eee9642954b2e9d30d2",
            "96be35e8785d42658efe84f2a00da1b3",
            "3ac20650a385410cb03b58ffaddaeb26",
            "e2410c8a877640dfa1fc5e680270888f",
            "4c9b84b28d31404d86335a4c2830b130",
            "2e48b318bfda458aac71c0d7a3f3410f",
            "7917676edc264a09a9c46b5b7993f0b6",
            "007a92f22cd842198b99a2d7a3c039e1",
            "ed5b688cbbe24bf0add917912c2c7da1",
            "c0500f09dc6d43b2b2ad37b7a953d440",
            "71bc4f2755314c04aa17bd78b6c2c7b3",
            "893dc63157f449b9bfc600a99a268d15",
            "23b39bc54e244968962ede2a0fe50da7",
            "87f988bb9e2b4108aad5ae8e424782e5",
            "45b37555421c4412a094c127a2f76a3c",
            "d4844bb7299b45d08d819d1e001a936d",
            "06a8eb7d56994cf0a558b5b33165511d",
            "25f3b23719f8471e8b7175bc0be127d7",
            "dc32208254dd4a5ab0ea0edd118fae01",
            "c3d0ce0b0058472ab54ed4344984d7ec",
            "5c99578e03ea4d5ab533956a2196e15b",
            "b16b63e24a794351abae0985a81911aa",
            "0aa8f3a0f34148f68bc9f310a7d7175a",
            "de0a20ba89b54d49af7596f51a3e5b50",
            "9b078ce7555d48508ad18435dda008e1"
          ]
        },
        "id": "Hoxzhwj5n8Rd",
        "outputId": "8517b3b6-c9f2-4172-9486-04cefdba726d"
      },
      "outputs": [],
      "source": [
        "from matplotlib.transforms import Transform\n",
        "transform=transforms.ToTensor()\n",
        "\n",
        "### Data Loading\n",
        "traindata=torchvision.datasets.MNIST(root='./data',train=True,download=True,transform=transform)\n",
        "trainloader=torch.utils.data.DataLoader(traindata,batch_size=32,shuffle=False)\n",
        "\n",
        "testdata=torchvision.datasets.MNIST(root='./data',train=False,download=True,transform=transform)\n",
        "testloader=torch.utils.data.DataLoader(testdata,batch_size=32,shuffle=False)\n"
      ]
    },
    {
      "cell_type": "code",
      "execution_count": 66,
      "metadata": {
        "id": "j_KHD4c7rX3Q"
      },
      "outputs": [],
      "source": [
        "import matplotlib.pyplot as plt\n",
        "import numpy as np\n",
        "def imshow(img):\n",
        "  img=img.numpy()\n",
        "  img=np.transpose(img,(1,2,0))\n",
        "  plt.imshow(img)\n",
        "  plt.show()\n"
      ]
    },
    {
      "cell_type": "code",
      "execution_count": 67,
      "metadata": {
        "colab": {
          "base_uri": "https://localhost:8080/",
          "height": 254
        },
        "id": "i3bxmbd6qysk",
        "outputId": "1b1a8aad-ba82-40fe-852a-60b6b6bdb496"
      },
      "outputs": [
        {
          "data": {
            "image/png": "[encoded data removed]",
            "text/plain": [
              "<Figure size 432x288 with 1 Axes>"
            ]
          },
          "metadata": {
            "needs_background": "light"
          },
          "output_type": "display_data"
        },
        {
          "name": "stdout",
          "output_type": "stream",
          "text": [
            "tensor([5, 0, 4, 1, 9, 2, 1, 3, 1, 4, 3, 5, 3, 6, 1, 7, 2, 8, 6, 9, 4, 0, 9, 1,\n",
            "        1, 2, 4, 3, 2, 7, 3, 8])\n"
          ]
        }
      ],
      "source": [
        "dataiter=iter(trainloader)\n",
        "images,labels=dataiter.next()\n",
        "imshow(torchvision.utils.make_grid(images))\n",
        "print(labels)"
      ]
    },
    {
      "cell_type": "code",
      "execution_count": 68,
      "metadata": {
        "colab": {
          "base_uri": "https://localhost:8080/"
        },
        "id": "KrsYYFyke55W",
        "outputId": "1f669a63-da87-4df2-c83e-a04aaa11b4f7"
      },
      "outputs": [
        {
          "data": {
            "text/plain": [
              "torch.Size([32, 784])"
            ]
          },
          "execution_count": 68,
          "metadata": {},
          "output_type": "execute_result"
        }
      ],
      "source": [
        "images.view(images.size(0),-1).shape"
      ]
    },
    {
      "cell_type": "code",
      "execution_count": 69,
      "metadata": {
        "colab": {
          "base_uri": "https://localhost:8080/"
        },
        "id": "GP7q5F1gs_0U",
        "outputId": "fac185c4-3254-4bb5-a895-5e691a9fcc69"
      },
      "outputs": [
        {
          "name": "stdout",
          "output_type": "stream",
          "text": [
            "torch.Size([1, 28, 28])\n"
          ]
        }
      ],
      "source": [
        "print(images[0].shape)"
      ]
    },
    {
      "cell_type": "code",
      "execution_count": 70,
      "metadata": {
        "id": "W7thWGfVsSKj"
      },
      "outputs": [],
      "source": [
        "import torch.nn as nn\n",
        "import torch.nn.functional as F\n",
        "class LogisticNet(nn.Module):\n",
        "  def __init__(self):\n",
        "    super().__init__()\n",
        "    self.layer1=nn.Linear(1*28*28,100)\n",
        "    self.layer2=nn.Linear(100,30)\n",
        "    self.layer3=nn.Linear(30,10)\n",
        "    \n",
        "  def forward(self,x):\n",
        "    x=F.relu(self.layer1(x))\n",
        "    x=F.relu(self.layer2(x))\n",
        "    x=self.layer3(x)\n",
        "    return x\n",
        "\n",
        "\n",
        "\n",
        "model=LogisticNet()"
      ]
    },
    {
      "cell_type": "code",
      "execution_count": 71,
      "metadata": {
        "colab": {
          "base_uri": "https://localhost:8080/"
        },
        "id": "7BKjCNWXf2vM",
        "outputId": "a588e0f6-b00d-4b38-d462-5916425707df"
      },
      "outputs": [
        {
          "data": {
            "text/plain": [
              "LogisticNet(\n",
              "  (layer1): Linear(in_features=784, out_features=100, bias=True)\n",
              "  (layer2): Linear(in_features=100, out_features=30, bias=True)\n",
              "  (layer3): Linear(in_features=30, out_features=10, bias=True)\n",
              ")"
            ]
          },
          "execution_count": 71,
          "metadata": {},
          "output_type": "execute_result"
        }
      ],
      "source": [
        "model"
      ]
    },
    {
      "cell_type": "code",
      "execution_count": 72,
      "metadata": {
        "id": "3KqBCmozGYh7"
      },
      "outputs": [],
      "source": [
        "import torch.optim as optim"
      ]
    },
    {
      "cell_type": "code",
      "execution_count": 73,
      "metadata": {
        "id": "JRSpli1GHMRM"
      },
      "outputs": [],
      "source": [
        "\n",
        "def train_mnst(model,train_loader,test_loader,EPOCHS=100,lr=.001,seed=32):\n",
        "  torch.manual_seed(seed)\n",
        "  device = torch.device('cuda' if torch.cuda.is_available() else 'cpu')\n",
        "  cost=[]\n",
        "  model.to(device)\n",
        "  optimizer=optim.SGD(model.parameters(),lr=lr)\n",
        "  loss_function=nn.CrossEntropyLoss()\n",
        "  for epoch in range(EPOCHS):\n",
        "\n",
        "    curr_loss=0.0\n",
        "    currect=0.0\n",
        "    t_currect=0.0\n",
        "    for i,data in enumerate(train_loader,0):\n",
        "\n",
        "\n",
        "      ## Get a Batch of Data\n",
        "      input,target=data[0].to(device),data[1].to(device)\n",
        "      ###1. Compute the output\n",
        "     \n",
        "      ###Flatten the input\n",
        "      input=input.view(input.size(0),-1)\n",
        "      yhat=model(input)\n",
        "      \n",
        "      ###2. Compute the loss\n",
        "      loss=loss_function(yhat,target)\n",
        "      \n",
        "\n",
        "      ###3. Compute the gradient\n",
        "\n",
        "      optimizer.zero_grad()\n",
        "      loss.backward()\n",
        "    \n",
        "      ###4. Update the parameters\n",
        "\n",
        "      optimizer.step()\n",
        "      ### Log the record\n",
        "      with torch.no_grad():\n",
        "        yhat=model(input)\n",
        "        err=loss_function(yhat,target)\n",
        "        curr_loss+=err\n",
        "        b_currect=((torch.argmax(yhat,dim=1)==target).sum()).float()\n",
        "      \n",
        "        currect+=b_currect\n",
        "    ### Calculate the accuracy    \n",
        "    with torch.no_grad():\n",
        "      for data in test_loader:\n",
        "          ims,lbs=data[0].to(device),data[1].to(device)\n",
        "          pred=model(ims.view(ims.size(0),-1))\n",
        "          t_currect+=(torch.argmax(pred,dim=1)==lbs).sum()\n",
        "   \n",
        "      print('Current Epoch: %3d' %(epoch+1),end=\"\")\n",
        "      print(' | Loss: %5.2f' %curr_loss,end=\"\")\n",
        "      accuracy=currect.sum()/len(traindata)*100\n",
        "      test_accuracy=t_currect.sum()/len(testdata)*100\n",
        "      #print(currect)\n",
        "      print(' | Accuracy: %.2f' %accuracy,end=\"\")\n",
        "      print(' | Test Accuracy: %.2f' %test_accuracy )\n",
        "  return cost\n",
        "      \n",
        "\n",
        "      \n"
      ]
    },
    {
      "cell_type": "code",
      "execution_count": 74,
      "metadata": {
        "colab": {
          "base_uri": "https://localhost:8080/",
          "height": 166
        },
        "id": "sf_fgi1Xd-JQ",
        "outputId": "3f6df9b4-2712-45aa-b438-b5385d0034cf"
      },
      "outputs": [
        {
          "name": "stdout",
          "output_type": "stream",
          "text": [
            "Current Epoch:   1 | Loss: 4288.17 | Accuracy: 13.47 | Test Accuracy: 23.63\n",
            "Current Epoch:   2 | Loss: 4166.08 | Accuracy: 37.64 | Test Accuracy: 46.45\n",
            "Current Epoch:   3 | Loss: 3860.27 | Accuracy: 49.73 | Test Accuracy: 52.67\n",
            "Current Epoch:   4 | Loss: 3214.69 | Accuracy: 55.93 | Test Accuracy: 62.43\n",
            "Current Epoch:   5 | Loss: 2358.90 | Accuracy: 69.39 | Test Accuracy: 75.31\n",
            "Current Epoch:   6 | Loss: 1717.36 | Accuracy: 77.64 | Test Accuracy: 79.94\n",
            "Current Epoch:   7 | Loss: 1356.40 | Accuracy: 81.17 | Test Accuracy: 82.78\n",
            "Current Epoch:   8 | Loss: 1149.39 | Accuracy: 83.42 | Test Accuracy: 84.83\n",
            "Current Epoch:   9 | Loss: 1019.19 | Accuracy: 85.16 | Test Accuracy: 86.17\n",
            "Current Epoch:  10 | Loss: 929.57 | Accuracy: 86.43 | Test Accuracy: 87.25\n",
            "Current Epoch:  11 | Loss: 863.93 | Accuracy: 87.34 | Test Accuracy: 88.02\n",
            "Current Epoch:  12 | Loss: 814.01 | Accuracy: 88.02 | Test Accuracy: 88.47\n",
            "Current Epoch:  13 | Loss: 775.01 | Accuracy: 88.54 | Test Accuracy: 88.86\n",
            "Current Epoch:  14 | Loss: 743.82 | Accuracy: 88.92 | Test Accuracy: 89.10\n",
            "Current Epoch:  15 | Loss: 718.33 | Accuracy: 89.24 | Test Accuracy: 89.41\n",
            "Current Epoch:  16 | Loss: 697.08 | Accuracy: 89.55 | Test Accuracy: 89.63\n",
            "Current Epoch:  17 | Loss: 678.92 | Accuracy: 89.79 | Test Accuracy: 89.85\n",
            "Current Epoch:  18 | Loss: 663.07 | Accuracy: 90.00 | Test Accuracy: 90.02\n",
            "Current Epoch:  19 | Loss: 648.98 | Accuracy: 90.21 | Test Accuracy: 90.25\n",
            "Current Epoch:  20 | Loss: 636.23 | Accuracy: 90.38 | Test Accuracy: 90.44\n",
            "Current Epoch:  21 | Loss: 624.55 | Accuracy: 90.54 | Test Accuracy: 90.70\n",
            "Current Epoch:  22 | Loss: 613.74 | Accuracy: 90.69 | Test Accuracy: 90.91\n",
            "Current Epoch:  23 | Loss: 603.63 | Accuracy: 90.83 | Test Accuracy: 91.06\n",
            "Current Epoch:  24 | Loss: 594.14 | Accuracy: 90.96 | Test Accuracy: 91.19\n",
            "Current Epoch:  25 | Loss: 585.22 | Accuracy: 91.09 | Test Accuracy: 91.30\n",
            "Current Epoch:  26 | Loss: 576.77 | Accuracy: 91.24 | Test Accuracy: 91.37\n",
            "Current Epoch:  27 | Loss: 568.72 | Accuracy: 91.35 | Test Accuracy: 91.46\n",
            "Current Epoch:  28 | Loss: 560.98 | Accuracy: 91.46 | Test Accuracy: 91.65\n",
            "Current Epoch:  29 | Loss: 553.53 | Accuracy: 91.58 | Test Accuracy: 91.73\n",
            "Current Epoch:  30 | Loss: 546.32 | Accuracy: 91.73 | Test Accuracy: 91.87\n"
          ]
        }
      ],
      "source": [
        "cost=train_mnst(model,trainloader,testloader,EPOCHS=30)"
      ]
    },
    {
      "cell_type": "code",
      "execution_count": 75,
      "metadata": {
        "colab": {
          "base_uri": "https://localhost:8080/"
        },
        "id": "bdZxUSxj4p_G",
        "outputId": "139210b6-992c-4d31-881b-6931e4e9d35c"
      },
      "outputs": [
        {
          "data": {
            "text/plain": [
              "60000"
            ]
          },
          "execution_count": 75,
          "metadata": {},
          "output_type": "execute_result"
        }
      ],
      "source": [
        "len(traindata)"
      ]
    },
    {
      "cell_type": "code",
      "execution_count": 76,
      "metadata": {
        "colab": {
          "base_uri": "https://localhost:8080/"
        },
        "id": "U170Hp0Y4a0L",
        "outputId": "43a99f5f-a91b-4c2f-c5ef-1dd302d45f3a"
      },
      "outputs": [
        {
          "data": {
            "text/plain": [
              "tensor(93.7500)"
            ]
          },
          "execution_count": 76,
          "metadata": {},
          "output_type": "execute_result"
        }
      ],
      "source": [
        "device = torch.device('cuda' if torch.cuda.is_available() else 'cpu')\n",
        "prob=model(images.view(32,-1).to(device))\n",
        "(torch.argmax(prob,dim=1).to('cpu')==labels).sum().float()/32*100"
      ]
    }
  ],
  "metadata": {
    "accelerator": "GPU",
    "colab": {
      "collapsed_sections": [],
      "name": "Multinomial Logistic Regression.ipynb",
      "provenance": []
    },
    "kernelspec": {
      "display_name": "Python 3.9.7 ('base')",
      "language": "python",
      "name": "python3"
    },
    "language_info": {
      "codemirror_mode": {
        "name": "ipython",
        "version": 3
      },
      "file_extension": ".py",
      "mimetype": "text/x-python",
      "name": "python",
      "nbconvert_exporter": "python",
      "pygments_lexer": "ipython3",
      "version": "3.9.7"
    },
    "vscode": {
      "interpreter": {
        "hash": "ad2bdc8ecc057115af97d19610ffacc2b4e99fae6737bb82f5d7fb13d2f2c186"
      }
    },
    "widgets": {
      "application/vnd.jupyter.widget-state+json": {
        "007a92f22cd842198b99a2d7a3c039e1": {
          "model_module": "@jupyter-widgets/controls",
          "model_module_version": "1.5.0",
          "model_name": "HTMLModel",
          "state": {
            "_dom_classes": [],
            "_model_module": "@jupyter-widgets/controls",
            "_model_module_version": "1.5.0",
            "_model_name": "HTMLModel",
            "_view_count": null,
            "_view_module": "@jupyter-widgets/controls",
            "_view_module_version": "1.5.0",
            "_view_name": "HTMLView",
            "description": "",
            "description_tooltip": null,
            "layout": "IPY_MODEL_87f988bb9e2b4108aad5ae8e424782e5",
            "placeholder": "​",
            "style": "IPY_MODEL_23b39bc54e244968962ede2a0fe50da7",
            "value": " 1649664/? [00:00&lt;00:00, 5106233.94it/s]"
          }
        },
        "0481576032e542bd83ee1cada79c2c8f": {
          "model_module": "@jupyter-widgets/controls",
          "model_module_version": "1.5.0",
          "model_name": "DescriptionStyleModel",
          "state": {
            "_model_module": "@jupyter-widgets/controls",
            "_model_module_version": "1.5.0",
            "_model_name": "DescriptionStyleModel",
            "_view_count": null,
            "_view_module": "@jupyter-widgets/base",
            "_view_module_version": "1.2.0",
            "_view_name": "StyleView",
            "description_width": ""
          }
        },
        "06a8eb7d56994cf0a558b5b33165511d": {
          "model_module": "@jupyter-widgets/controls",
          "model_module_version": "1.5.0",
          "model_name": "HTMLModel",
          "state": {
            "_dom_classes": [],
            "_model_module": "@jupyter-widgets/controls",
            "_model_module_version": "1.5.0",
            "_model_name": "HTMLModel",
            "_view_count": null,
            "_view_module": "@jupyter-widgets/controls",
            "_view_module_version": "1.5.0",
            "_view_name": "HTMLView",
            "description": "",
            "description_tooltip": null,
            "layout": "IPY_MODEL_5c99578e03ea4d5ab533956a2196e15b",
            "placeholder": "​",
            "style": "IPY_MODEL_c3d0ce0b0058472ab54ed4344984d7ec",
            "value": ""
          }
        },
        "079127f2d09d4654ac51c4b1d9c9ddcc": {
          "model_module": "@jupyter-widgets/controls",
          "model_module_version": "1.5.0",
          "model_name": "HBoxModel",
          "state": {
            "_dom_classes": [],
            "_model_module": "@jupyter-widgets/controls",
            "_model_module_version": "1.5.0",
            "_model_name": "HBoxModel",
            "_view_count": null,
            "_view_module": "@jupyter-widgets/controls",
            "_view_module_version": "1.5.0",
            "_view_name": "HBoxView",
            "box_style": "",
            "children": [
              "IPY_MODEL_d9ad48eb0c87497a8b63b370816936ff",
              "IPY_MODEL_c8e63ede31af4c81a1cf6d5d03aa1873",
              "IPY_MODEL_4dce3a0a4dd6442f986677bc273b0c12"
            ],
            "layout": "IPY_MODEL_a6074392dc92438c879d3e7602150e4b"
          }
        },
        "0aa8f3a0f34148f68bc9f310a7d7175a": {
          "model_module": "@jupyter-widgets/base",
          "model_module_version": "1.2.0",
          "model_name": "LayoutModel",
          "state": {
            "_model_module": "@jupyter-widgets/base",
            "_model_module_version": "1.2.0",
            "_model_name": "LayoutModel",
            "_view_count": null,
            "_view_module": "@jupyter-widgets/base",
            "_view_module_version": "1.2.0",
            "_view_name": "LayoutView",
            "align_content": null,
            "align_items": null,
            "align_self": null,
            "border": null,
            "bottom": null,
            "display": null,
            "flex": null,
            "flex_flow": null,
            "grid_area": null,
            "grid_auto_columns": null,
            "grid_auto_flow": null,
            "grid_auto_rows": null,
            "grid_column": null,
            "grid_gap": null,
            "grid_row": null,
            "grid_template_areas": null,
            "grid_template_columns": null,
            "grid_template_rows": null,
            "height": null,
            "justify_content": null,
            "justify_items": null,
            "left": null,
            "margin": null,
            "max_height": null,
            "max_width": null,
            "min_height": null,
            "min_width": null,
            "object_fit": null,
            "object_position": null,
            "order": null,
            "overflow": null,
            "overflow_x": null,
            "overflow_y": null,
            "padding": null,
            "right": null,
            "top": null,
            "visibility": null,
            "width": null
          }
        },
        "0aeead89637a4da49a9eca203f57b77d": {
          "model_module": "@jupyter-widgets/base",
          "model_module_version": "1.2.0",
          "model_name": "LayoutModel",
          "state": {
            "_model_module": "@jupyter-widgets/base",
            "_model_module_version": "1.2.0",
            "_model_name": "LayoutModel",
            "_view_count": null,
            "_view_module": "@jupyter-widgets/base",
            "_view_module_version": "1.2.0",
            "_view_name": "LayoutView",
            "align_content": null,
            "align_items": null,
            "align_self": null,
            "border": null,
            "bottom": null,
            "display": null,
            "flex": null,
            "flex_flow": null,
            "grid_area": null,
            "grid_auto_columns": null,
            "grid_auto_flow": null,
            "grid_auto_rows": null,
            "grid_column": null,
            "grid_gap": null,
            "grid_row": null,
            "grid_template_areas": null,
            "grid_template_columns": null,
            "grid_template_rows": null,
            "height": null,
            "justify_content": null,
            "justify_items": null,
            "left": null,
            "margin": null,
            "max_height": null,
            "max_width": null,
            "min_height": null,
            "min_width": null,
            "object_fit": null,
            "object_position": null,
            "order": null,
            "overflow": null,
            "overflow_x": null,
            "overflow_y": null,
            "padding": null,
            "right": null,
            "top": null,
            "visibility": null,
            "width": null
          }
        },
        "15efffa12fe44eee9642954b2e9d30d2": {
          "model_module": "@jupyter-widgets/base",
          "model_module_version": "1.2.0",
          "model_name": "LayoutModel",
          "state": {
            "_model_module": "@jupyter-widgets/base",
            "_model_module_version": "1.2.0",
            "_model_name": "LayoutModel",
            "_view_count": null,
            "_view_module": "@jupyter-widgets/base",
            "_view_module_version": "1.2.0",
            "_view_name": "LayoutView",
            "align_content": null,
            "align_items": null,
            "align_self": null,
            "border": null,
            "bottom": null,
            "display": null,
            "flex": null,
            "flex_flow": null,
            "grid_area": null,
            "grid_auto_columns": null,
            "grid_auto_flow": null,
            "grid_auto_rows": null,
            "grid_column": null,
            "grid_gap": null,
            "grid_row": null,
            "grid_template_areas": null,
            "grid_template_columns": null,
            "grid_template_rows": null,
            "height": null,
            "justify_content": null,
            "justify_items": null,
            "left": null,
            "margin": null,
            "max_height": null,
            "max_width": null,
            "min_height": null,
            "min_width": null,
            "object_fit": null,
            "object_position": null,
            "order": null,
            "overflow": null,
            "overflow_x": null,
            "overflow_y": null,
            "padding": null,
            "right": null,
            "top": null,
            "visibility": null,
            "width": null
          }
        },
        "23b39bc54e244968962ede2a0fe50da7": {
          "model_module": "@jupyter-widgets/controls",
          "model_module_version": "1.5.0",
          "model_name": "DescriptionStyleModel",
          "state": {
            "_model_module": "@jupyter-widgets/controls",
            "_model_module_version": "1.5.0",
            "_model_name": "DescriptionStyleModel",
            "_view_count": null,
            "_view_module": "@jupyter-widgets/base",
            "_view_module_version": "1.2.0",
            "_view_name": "StyleView",
            "description_width": ""
          }
        },
        "25f3b23719f8471e8b7175bc0be127d7": {
          "model_module": "@jupyter-widgets/controls",
          "model_module_version": "1.5.0",
          "model_name": "FloatProgressModel",
          "state": {
            "_dom_classes": [],
            "_model_module": "@jupyter-widgets/controls",
            "_model_module_version": "1.5.0",
            "_model_name": "FloatProgressModel",
            "_view_count": null,
            "_view_module": "@jupyter-widgets/controls",
            "_view_module_version": "1.5.0",
            "_view_name": "ProgressView",
            "bar_style": "success",
            "description": "",
            "description_tooltip": null,
            "layout": "IPY_MODEL_0aa8f3a0f34148f68bc9f310a7d7175a",
            "max": 4542,
            "min": 0,
            "orientation": "horizontal",
            "style": "IPY_MODEL_b16b63e24a794351abae0985a81911aa",
            "value": 4542
          }
        },
        "2e48b318bfda458aac71c0d7a3f3410f": {
          "model_module": "@jupyter-widgets/controls",
          "model_module_version": "1.5.0",
          "model_name": "HTMLModel",
          "state": {
            "_dom_classes": [],
            "_model_module": "@jupyter-widgets/controls",
            "_model_module_version": "1.5.0",
            "_model_name": "HTMLModel",
            "_view_count": null,
            "_view_module": "@jupyter-widgets/controls",
            "_view_module_version": "1.5.0",
            "_view_name": "HTMLView",
            "description": "",
            "description_tooltip": null,
            "layout": "IPY_MODEL_c0500f09dc6d43b2b2ad37b7a953d440",
            "placeholder": "​",
            "style": "IPY_MODEL_ed5b688cbbe24bf0add917912c2c7da1",
            "value": ""
          }
        },
        "35153b177e624f5cb5999020f9bb1329": {
          "model_module": "@jupyter-widgets/controls",
          "model_module_version": "1.5.0",
          "model_name": "DescriptionStyleModel",
          "state": {
            "_model_module": "@jupyter-widgets/controls",
            "_model_module_version": "1.5.0",
            "_model_name": "DescriptionStyleModel",
            "_view_count": null,
            "_view_module": "@jupyter-widgets/base",
            "_view_module_version": "1.2.0",
            "_view_name": "StyleView",
            "description_width": ""
          }
        },
        "3ac20650a385410cb03b58ffaddaeb26": {
          "model_module": "@jupyter-widgets/base",
          "model_module_version": "1.2.0",
          "model_name": "LayoutModel",
          "state": {
            "_model_module": "@jupyter-widgets/base",
            "_model_module_version": "1.2.0",
            "_model_name": "LayoutModel",
            "_view_count": null,
            "_view_module": "@jupyter-widgets/base",
            "_view_module_version": "1.2.0",
            "_view_name": "LayoutView",
            "align_content": null,
            "align_items": null,
            "align_self": null,
            "border": null,
            "bottom": null,
            "display": null,
            "flex": null,
            "flex_flow": null,
            "grid_area": null,
            "grid_auto_columns": null,
            "grid_auto_flow": null,
            "grid_auto_rows": null,
            "grid_column": null,
            "grid_gap": null,
            "grid_row": null,
            "grid_template_areas": null,
            "grid_template_columns": null,
            "grid_template_rows": null,
            "height": null,
            "justify_content": null,
            "justify_items": null,
            "left": null,
            "margin": null,
            "max_height": null,
            "max_width": null,
            "min_height": null,
            "min_width": null,
            "object_fit": null,
            "object_position": null,
            "order": null,
            "overflow": null,
            "overflow_x": null,
            "overflow_y": null,
            "padding": null,
            "right": null,
            "top": null,
            "visibility": null,
            "width": null
          }
        },
        "45b37555421c4412a094c127a2f76a3c": {
          "model_module": "@jupyter-widgets/controls",
          "model_module_version": "1.5.0",
          "model_name": "HBoxModel",
          "state": {
            "_dom_classes": [],
            "_model_module": "@jupyter-widgets/controls",
            "_model_module_version": "1.5.0",
            "_model_name": "HBoxModel",
            "_view_count": null,
            "_view_module": "@jupyter-widgets/controls",
            "_view_module_version": "1.5.0",
            "_view_name": "HBoxView",
            "box_style": "",
            "children": [
              "IPY_MODEL_06a8eb7d56994cf0a558b5b33165511d",
              "IPY_MODEL_25f3b23719f8471e8b7175bc0be127d7",
              "IPY_MODEL_dc32208254dd4a5ab0ea0edd118fae01"
            ],
            "layout": "IPY_MODEL_d4844bb7299b45d08d819d1e001a936d"
          }
        },
        "4c9b84b28d31404d86335a4c2830b130": {
          "model_module": "@jupyter-widgets/base",
          "model_module_version": "1.2.0",
          "model_name": "LayoutModel",
          "state": {
            "_model_module": "@jupyter-widgets/base",
            "_model_module_version": "1.2.0",
            "_model_name": "LayoutModel",
            "_view_count": null,
            "_view_module": "@jupyter-widgets/base",
            "_view_module_version": "1.2.0",
            "_view_name": "LayoutView",
            "align_content": null,
            "align_items": null,
            "align_self": null,
            "border": null,
            "bottom": null,
            "display": null,
            "flex": null,
            "flex_flow": null,
            "grid_area": null,
            "grid_auto_columns": null,
            "grid_auto_flow": null,
            "grid_auto_rows": null,
            "grid_column": null,
            "grid_gap": null,
            "grid_row": null,
            "grid_template_areas": null,
            "grid_template_columns": null,
            "grid_template_rows": null,
            "height": null,
            "justify_content": null,
            "justify_items": null,
            "left": null,
            "margin": null,
            "max_height": null,
            "max_width": null,
            "min_height": null,
            "min_width": null,
            "object_fit": null,
            "object_position": null,
            "order": null,
            "overflow": null,
            "overflow_x": null,
            "overflow_y": null,
            "padding": null,
            "right": null,
            "top": null,
            "visibility": null,
            "width": null
          }
        },
        "4dce3a0a4dd6442f986677bc273b0c12": {
          "model_module": "@jupyter-widgets/controls",
          "model_module_version": "1.5.0",
          "model_name": "HTMLModel",
          "state": {
            "_dom_classes": [],
            "_model_module": "@jupyter-widgets/controls",
            "_model_module_version": "1.5.0",
            "_model_name": "HTMLModel",
            "_view_count": null,
            "_view_module": "@jupyter-widgets/controls",
            "_view_module_version": "1.5.0",
            "_view_name": "HTMLView",
            "description": "",
            "description_tooltip": null,
            "layout": "IPY_MODEL_3ac20650a385410cb03b58ffaddaeb26",
            "placeholder": "​",
            "style": "IPY_MODEL_96be35e8785d42658efe84f2a00da1b3",
            "value": " 29696/? [00:00&lt;00:00, 7044.52it/s]"
          }
        },
        "5c99578e03ea4d5ab533956a2196e15b": {
          "model_module": "@jupyter-widgets/base",
          "model_module_version": "1.2.0",
          "model_name": "LayoutModel",
          "state": {
            "_model_module": "@jupyter-widgets/base",
            "_model_module_version": "1.2.0",
            "_model_name": "LayoutModel",
            "_view_count": null,
            "_view_module": "@jupyter-widgets/base",
            "_view_module_version": "1.2.0",
            "_view_name": "LayoutView",
            "align_content": null,
            "align_items": null,
            "align_self": null,
            "border": null,
            "bottom": null,
            "display": null,
            "flex": null,
            "flex_flow": null,
            "grid_area": null,
            "grid_auto_columns": null,
            "grid_auto_flow": null,
            "grid_auto_rows": null,
            "grid_column": null,
            "grid_gap": null,
            "grid_row": null,
            "grid_template_areas": null,
            "grid_template_columns": null,
            "grid_template_rows": null,
            "height": null,
            "justify_content": null,
            "justify_items": null,
            "left": null,
            "margin": null,
            "max_height": null,
            "max_width": null,
            "min_height": null,
            "min_width": null,
            "object_fit": null,
            "object_position": null,
            "order": null,
            "overflow": null,
            "overflow_x": null,
            "overflow_y": null,
            "padding": null,
            "right": null,
            "top": null,
            "visibility": null,
            "width": null
          }
        },
        "69a4cd528213444e9f64842459d0c3f0": {
          "model_module": "@jupyter-widgets/controls",
          "model_module_version": "1.5.0",
          "model_name": "FloatProgressModel",
          "state": {
            "_dom_classes": [],
            "_model_module": "@jupyter-widgets/controls",
            "_model_module_version": "1.5.0",
            "_model_name": "FloatProgressModel",
            "_view_count": null,
            "_view_module": "@jupyter-widgets/controls",
            "_view_module_version": "1.5.0",
            "_view_name": "ProgressView",
            "bar_style": "success",
            "description": "",
            "description_tooltip": null,
            "layout": "IPY_MODEL_ac20a9eb4caf4b6d9179639566958aa9",
            "max": 9912422,
            "min": 0,
            "orientation": "horizontal",
            "style": "IPY_MODEL_7cae308ff68e4cc08edcf302658a498b",
            "value": 9912422
          }
        },
        "71bc4f2755314c04aa17bd78b6c2c7b3": {
          "model_module": "@jupyter-widgets/controls",
          "model_module_version": "1.5.0",
          "model_name": "ProgressStyleModel",
          "state": {
            "_model_module": "@jupyter-widgets/controls",
            "_model_module_version": "1.5.0",
            "_model_name": "ProgressStyleModel",
            "_view_count": null,
            "_view_module": "@jupyter-widgets/base",
            "_view_module_version": "1.2.0",
            "_view_name": "StyleView",
            "bar_color": null,
            "description_width": ""
          }
        },
        "7917676edc264a09a9c46b5b7993f0b6": {
          "model_module": "@jupyter-widgets/controls",
          "model_module_version": "1.5.0",
          "model_name": "FloatProgressModel",
          "state": {
            "_dom_classes": [],
            "_model_module": "@jupyter-widgets/controls",
            "_model_module_version": "1.5.0",
            "_model_name": "FloatProgressModel",
            "_view_count": null,
            "_view_module": "@jupyter-widgets/controls",
            "_view_module_version": "1.5.0",
            "_view_name": "ProgressView",
            "bar_style": "success",
            "description": "",
            "description_tooltip": null,
            "layout": "IPY_MODEL_893dc63157f449b9bfc600a99a268d15",
            "max": 1648877,
            "min": 0,
            "orientation": "horizontal",
            "style": "IPY_MODEL_71bc4f2755314c04aa17bd78b6c2c7b3",
            "value": 1648877
          }
        },
        "7b8b9924e1f54790b98d3256dd3a1207": {
          "model_module": "@jupyter-widgets/controls",
          "model_module_version": "1.5.0",
          "model_name": "HTMLModel",
          "state": {
            "_dom_classes": [],
            "_model_module": "@jupyter-widgets/controls",
            "_model_module_version": "1.5.0",
            "_model_name": "HTMLModel",
            "_view_count": null,
            "_view_module": "@jupyter-widgets/controls",
            "_view_module_version": "1.5.0",
            "_view_name": "HTMLView",
            "description": "",
            "description_tooltip": null,
            "layout": "IPY_MODEL_f6c23d459bf24332869622a1a29699db",
            "placeholder": "​",
            "style": "IPY_MODEL_951f92ebe7a64f4b87c72fbe2741bbd6",
            "value": ""
          }
        },
        "7cae308ff68e4cc08edcf302658a498b": {
          "model_module": "@jupyter-widgets/controls",
          "model_module_version": "1.5.0",
          "model_name": "ProgressStyleModel",
          "state": {
            "_model_module": "@jupyter-widgets/controls",
            "_model_module_version": "1.5.0",
            "_model_name": "ProgressStyleModel",
            "_view_count": null,
            "_view_module": "@jupyter-widgets/base",
            "_view_module_version": "1.2.0",
            "_view_name": "StyleView",
            "bar_color": null,
            "description_width": ""
          }
        },
        "87f988bb9e2b4108aad5ae8e424782e5": {
          "model_module": "@jupyter-widgets/base",
          "model_module_version": "1.2.0",
          "model_name": "LayoutModel",
          "state": {
            "_model_module": "@jupyter-widgets/base",
            "_model_module_version": "1.2.0",
            "_model_name": "LayoutModel",
            "_view_count": null,
            "_view_module": "@jupyter-widgets/base",
            "_view_module_version": "1.2.0",
            "_view_name": "LayoutView",
            "align_content": null,
            "align_items": null,
            "align_self": null,
            "border": null,
            "bottom": null,
            "display": null,
            "flex": null,
            "flex_flow": null,
            "grid_area": null,
            "grid_auto_columns": null,
            "grid_auto_flow": null,
            "grid_auto_rows": null,
            "grid_column": null,
            "grid_gap": null,
            "grid_row": null,
            "grid_template_areas": null,
            "grid_template_columns": null,
            "grid_template_rows": null,
            "height": null,
            "justify_content": null,
            "justify_items": null,
            "left": null,
            "margin": null,
            "max_height": null,
            "max_width": null,
            "min_height": null,
            "min_width": null,
            "object_fit": null,
            "object_position": null,
            "order": null,
            "overflow": null,
            "overflow_x": null,
            "overflow_y": null,
            "padding": null,
            "right": null,
            "top": null,
            "visibility": null,
            "width": null
          }
        },
        "893dc63157f449b9bfc600a99a268d15": {
          "model_module": "@jupyter-widgets/base",
          "model_module_version": "1.2.0",
          "model_name": "LayoutModel",
          "state": {
            "_model_module": "@jupyter-widgets/base",
            "_model_module_version": "1.2.0",
            "_model_name": "LayoutModel",
            "_view_count": null,
            "_view_module": "@jupyter-widgets/base",
            "_view_module_version": "1.2.0",
            "_view_name": "LayoutView",
            "align_content": null,
            "align_items": null,
            "align_self": null,
            "border": null,
            "bottom": null,
            "display": null,
            "flex": null,
            "flex_flow": null,
            "grid_area": null,
            "grid_auto_columns": null,
            "grid_auto_flow": null,
            "grid_auto_rows": null,
            "grid_column": null,
            "grid_gap": null,
            "grid_row": null,
            "grid_template_areas": null,
            "grid_template_columns": null,
            "grid_template_rows": null,
            "height": null,
            "justify_content": null,
            "justify_items": null,
            "left": null,
            "margin": null,
            "max_height": null,
            "max_width": null,
            "min_height": null,
            "min_width": null,
            "object_fit": null,
            "object_position": null,
            "order": null,
            "overflow": null,
            "overflow_x": null,
            "overflow_y": null,
            "padding": null,
            "right": null,
            "top": null,
            "visibility": null,
            "width": null
          }
        },
        "951f92ebe7a64f4b87c72fbe2741bbd6": {
          "model_module": "@jupyter-widgets/controls",
          "model_module_version": "1.5.0",
          "model_name": "DescriptionStyleModel",
          "state": {
            "_model_module": "@jupyter-widgets/controls",
            "_model_module_version": "1.5.0",
            "_model_name": "DescriptionStyleModel",
            "_view_count": null,
            "_view_module": "@jupyter-widgets/base",
            "_view_module_version": "1.2.0",
            "_view_name": "StyleView",
            "description_width": ""
          }
        },
        "96be35e8785d42658efe84f2a00da1b3": {
          "model_module": "@jupyter-widgets/controls",
          "model_module_version": "1.5.0",
          "model_name": "DescriptionStyleModel",
          "state": {
            "_model_module": "@jupyter-widgets/controls",
            "_model_module_version": "1.5.0",
            "_model_name": "DescriptionStyleModel",
            "_view_count": null,
            "_view_module": "@jupyter-widgets/base",
            "_view_module_version": "1.2.0",
            "_view_name": "StyleView",
            "description_width": ""
          }
        },
        "9b078ce7555d48508ad18435dda008e1": {
          "model_module": "@jupyter-widgets/base",
          "model_module_version": "1.2.0",
          "model_name": "LayoutModel",
          "state": {
            "_model_module": "@jupyter-widgets/base",
            "_model_module_version": "1.2.0",
            "_model_name": "LayoutModel",
            "_view_count": null,
            "_view_module": "@jupyter-widgets/base",
            "_view_module_version": "1.2.0",
            "_view_name": "LayoutView",
            "align_content": null,
            "align_items": null,
            "align_self": null,
            "border": null,
            "bottom": null,
            "display": null,
            "flex": null,
            "flex_flow": null,
            "grid_area": null,
            "grid_auto_columns": null,
            "grid_auto_flow": null,
            "grid_auto_rows": null,
            "grid_column": null,
            "grid_gap": null,
            "grid_row": null,
            "grid_template_areas": null,
            "grid_template_columns": null,
            "grid_template_rows": null,
            "height": null,
            "justify_content": null,
            "justify_items": null,
            "left": null,
            "margin": null,
            "max_height": null,
            "max_width": null,
            "min_height": null,
            "min_width": null,
            "object_fit": null,
            "object_position": null,
            "order": null,
            "overflow": null,
            "overflow_x": null,
            "overflow_y": null,
            "padding": null,
            "right": null,
            "top": null,
            "visibility": null,
            "width": null
          }
        },
        "a6074392dc92438c879d3e7602150e4b": {
          "model_module": "@jupyter-widgets/base",
          "model_module_version": "1.2.0",
          "model_name": "LayoutModel",
          "state": {
            "_model_module": "@jupyter-widgets/base",
            "_model_module_version": "1.2.0",
            "_model_name": "LayoutModel",
            "_view_count": null,
            "_view_module": "@jupyter-widgets/base",
            "_view_module_version": "1.2.0",
            "_view_name": "LayoutView",
            "align_content": null,
            "align_items": null,
            "align_self": null,
            "border": null,
            "bottom": null,
            "display": null,
            "flex": null,
            "flex_flow": null,
            "grid_area": null,
            "grid_auto_columns": null,
            "grid_auto_flow": null,
            "grid_auto_rows": null,
            "grid_column": null,
            "grid_gap": null,
            "grid_row": null,
            "grid_template_areas": null,
            "grid_template_columns": null,
            "grid_template_rows": null,
            "height": null,
            "justify_content": null,
            "justify_items": null,
            "left": null,
            "margin": null,
            "max_height": null,
            "max_width": null,
            "min_height": null,
            "min_width": null,
            "object_fit": null,
            "object_position": null,
            "order": null,
            "overflow": null,
            "overflow_x": null,
            "overflow_y": null,
            "padding": null,
            "right": null,
            "top": null,
            "visibility": null,
            "width": null
          }
        },
        "ac20a9eb4caf4b6d9179639566958aa9": {
          "model_module": "@jupyter-widgets/base",
          "model_module_version": "1.2.0",
          "model_name": "LayoutModel",
          "state": {
            "_model_module": "@jupyter-widgets/base",
            "_model_module_version": "1.2.0",
            "_model_name": "LayoutModel",
            "_view_count": null,
            "_view_module": "@jupyter-widgets/base",
            "_view_module_version": "1.2.0",
            "_view_name": "LayoutView",
            "align_content": null,
            "align_items": null,
            "align_self": null,
            "border": null,
            "bottom": null,
            "display": null,
            "flex": null,
            "flex_flow": null,
            "grid_area": null,
            "grid_auto_columns": null,
            "grid_auto_flow": null,
            "grid_auto_rows": null,
            "grid_column": null,
            "grid_gap": null,
            "grid_row": null,
            "grid_template_areas": null,
            "grid_template_columns": null,
            "grid_template_rows": null,
            "height": null,
            "justify_content": null,
            "justify_items": null,
            "left": null,
            "margin": null,
            "max_height": null,
            "max_width": null,
            "min_height": null,
            "min_width": null,
            "object_fit": null,
            "object_position": null,
            "order": null,
            "overflow": null,
            "overflow_x": null,
            "overflow_y": null,
            "padding": null,
            "right": null,
            "top": null,
            "visibility": null,
            "width": null
          }
        },
        "b16b63e24a794351abae0985a81911aa": {
          "model_module": "@jupyter-widgets/controls",
          "model_module_version": "1.5.0",
          "model_name": "ProgressStyleModel",
          "state": {
            "_model_module": "@jupyter-widgets/controls",
            "_model_module_version": "1.5.0",
            "_model_name": "ProgressStyleModel",
            "_view_count": null,
            "_view_module": "@jupyter-widgets/base",
            "_view_module_version": "1.2.0",
            "_view_name": "StyleView",
            "bar_color": null,
            "description_width": ""
          }
        },
        "c0500f09dc6d43b2b2ad37b7a953d440": {
          "model_module": "@jupyter-widgets/base",
          "model_module_version": "1.2.0",
          "model_name": "LayoutModel",
          "state": {
            "_model_module": "@jupyter-widgets/base",
            "_model_module_version": "1.2.0",
            "_model_name": "LayoutModel",
            "_view_count": null,
            "_view_module": "@jupyter-widgets/base",
            "_view_module_version": "1.2.0",
            "_view_name": "LayoutView",
            "align_content": null,
            "align_items": null,
            "align_self": null,
            "border": null,
            "bottom": null,
            "display": null,
            "flex": null,
            "flex_flow": null,
            "grid_area": null,
            "grid_auto_columns": null,
            "grid_auto_flow": null,
            "grid_auto_rows": null,
            "grid_column": null,
            "grid_gap": null,
            "grid_row": null,
            "grid_template_areas": null,
            "grid_template_columns": null,
            "grid_template_rows": null,
            "height": null,
            "justify_content": null,
            "justify_items": null,
            "left": null,
            "margin": null,
            "max_height": null,
            "max_width": null,
            "min_height": null,
            "min_width": null,
            "object_fit": null,
            "object_position": null,
            "order": null,
            "overflow": null,
            "overflow_x": null,
            "overflow_y": null,
            "padding": null,
            "right": null,
            "top": null,
            "visibility": null,
            "width": null
          }
        },
        "c09f1c3a9e3e48b3a9d22bf6677e0d75": {
          "model_module": "@jupyter-widgets/base",
          "model_module_version": "1.2.0",
          "model_name": "LayoutModel",
          "state": {
            "_model_module": "@jupyter-widgets/base",
            "_model_module_version": "1.2.0",
            "_model_name": "LayoutModel",
            "_view_count": null,
            "_view_module": "@jupyter-widgets/base",
            "_view_module_version": "1.2.0",
            "_view_name": "LayoutView",
            "align_content": null,
            "align_items": null,
            "align_self": null,
            "border": null,
            "bottom": null,
            "display": null,
            "flex": null,
            "flex_flow": null,
            "grid_area": null,
            "grid_auto_columns": null,
            "grid_auto_flow": null,
            "grid_auto_rows": null,
            "grid_column": null,
            "grid_gap": null,
            "grid_row": null,
            "grid_template_areas": null,
            "grid_template_columns": null,
            "grid_template_rows": null,
            "height": null,
            "justify_content": null,
            "justify_items": null,
            "left": null,
            "margin": null,
            "max_height": null,
            "max_width": null,
            "min_height": null,
            "min_width": null,
            "object_fit": null,
            "object_position": null,
            "order": null,
            "overflow": null,
            "overflow_x": null,
            "overflow_y": null,
            "padding": null,
            "right": null,
            "top": null,
            "visibility": null,
            "width": null
          }
        },
        "c3d0ce0b0058472ab54ed4344984d7ec": {
          "model_module": "@jupyter-widgets/controls",
          "model_module_version": "1.5.0",
          "model_name": "DescriptionStyleModel",
          "state": {
            "_model_module": "@jupyter-widgets/controls",
            "_model_module_version": "1.5.0",
            "_model_name": "DescriptionStyleModel",
            "_view_count": null,
            "_view_module": "@jupyter-widgets/base",
            "_view_module_version": "1.2.0",
            "_view_name": "StyleView",
            "description_width": ""
          }
        },
        "c8e63ede31af4c81a1cf6d5d03aa1873": {
          "model_module": "@jupyter-widgets/controls",
          "model_module_version": "1.5.0",
          "model_name": "FloatProgressModel",
          "state": {
            "_dom_classes": [],
            "_model_module": "@jupyter-widgets/controls",
            "_model_module_version": "1.5.0",
            "_model_name": "FloatProgressModel",
            "_view_count": null,
            "_view_module": "@jupyter-widgets/controls",
            "_view_module_version": "1.5.0",
            "_view_name": "ProgressView",
            "bar_style": "success",
            "description": "",
            "description_tooltip": null,
            "layout": "IPY_MODEL_15efffa12fe44eee9642954b2e9d30d2",
            "max": 28881,
            "min": 0,
            "orientation": "horizontal",
            "style": "IPY_MODEL_f8ffaea968c24974ab1cbad6a2ab6656",
            "value": 28881
          }
        },
        "d4844bb7299b45d08d819d1e001a936d": {
          "model_module": "@jupyter-widgets/base",
          "model_module_version": "1.2.0",
          "model_name": "LayoutModel",
          "state": {
            "_model_module": "@jupyter-widgets/base",
            "_model_module_version": "1.2.0",
            "_model_name": "LayoutModel",
            "_view_count": null,
            "_view_module": "@jupyter-widgets/base",
            "_view_module_version": "1.2.0",
            "_view_name": "LayoutView",
            "align_content": null,
            "align_items": null,
            "align_self": null,
            "border": null,
            "bottom": null,
            "display": null,
            "flex": null,
            "flex_flow": null,
            "grid_area": null,
            "grid_auto_columns": null,
            "grid_auto_flow": null,
            "grid_auto_rows": null,
            "grid_column": null,
            "grid_gap": null,
            "grid_row": null,
            "grid_template_areas": null,
            "grid_template_columns": null,
            "grid_template_rows": null,
            "height": null,
            "justify_content": null,
            "justify_items": null,
            "left": null,
            "margin": null,
            "max_height": null,
            "max_width": null,
            "min_height": null,
            "min_width": null,
            "object_fit": null,
            "object_position": null,
            "order": null,
            "overflow": null,
            "overflow_x": null,
            "overflow_y": null,
            "padding": null,
            "right": null,
            "top": null,
            "visibility": null,
            "width": null
          }
        },
        "d9ad48eb0c87497a8b63b370816936ff": {
          "model_module": "@jupyter-widgets/controls",
          "model_module_version": "1.5.0",
          "model_name": "HTMLModel",
          "state": {
            "_dom_classes": [],
            "_model_module": "@jupyter-widgets/controls",
            "_model_module_version": "1.5.0",
            "_model_name": "HTMLModel",
            "_view_count": null,
            "_view_module": "@jupyter-widgets/controls",
            "_view_module_version": "1.5.0",
            "_view_name": "HTMLView",
            "description": "",
            "description_tooltip": null,
            "layout": "IPY_MODEL_0aeead89637a4da49a9eca203f57b77d",
            "placeholder": "​",
            "style": "IPY_MODEL_0481576032e542bd83ee1cada79c2c8f",
            "value": ""
          }
        },
        "dc32208254dd4a5ab0ea0edd118fae01": {
          "model_module": "@jupyter-widgets/controls",
          "model_module_version": "1.5.0",
          "model_name": "HTMLModel",
          "state": {
            "_dom_classes": [],
            "_model_module": "@jupyter-widgets/controls",
            "_model_module_version": "1.5.0",
            "_model_name": "HTMLModel",
            "_view_count": null,
            "_view_module": "@jupyter-widgets/controls",
            "_view_module_version": "1.5.0",
            "_view_name": "HTMLView",
            "description": "",
            "description_tooltip": null,
            "layout": "IPY_MODEL_9b078ce7555d48508ad18435dda008e1",
            "placeholder": "​",
            "style": "IPY_MODEL_de0a20ba89b54d49af7596f51a3e5b50",
            "value": " 5120/? [00:00&lt;00:00, 57411.98it/s]"
          }
        },
        "de0a20ba89b54d49af7596f51a3e5b50": {
          "model_module": "@jupyter-widgets/controls",
          "model_module_version": "1.5.0",
          "model_name": "DescriptionStyleModel",
          "state": {
            "_model_module": "@jupyter-widgets/controls",
            "_model_module_version": "1.5.0",
            "_model_name": "DescriptionStyleModel",
            "_view_count": null,
            "_view_module": "@jupyter-widgets/base",
            "_view_module_version": "1.2.0",
            "_view_name": "StyleView",
            "description_width": ""
          }
        },
        "e175b9718ac342139b1692d02277561b": {
          "model_module": "@jupyter-widgets/controls",
          "model_module_version": "1.5.0",
          "model_name": "HTMLModel",
          "state": {
            "_dom_classes": [],
            "_model_module": "@jupyter-widgets/controls",
            "_model_module_version": "1.5.0",
            "_model_name": "HTMLModel",
            "_view_count": null,
            "_view_module": "@jupyter-widgets/controls",
            "_view_module_version": "1.5.0",
            "_view_name": "HTMLView",
            "description": "",
            "description_tooltip": null,
            "layout": "IPY_MODEL_f36ba679cd7e470eb32822918b2f98fe",
            "placeholder": "​",
            "style": "IPY_MODEL_35153b177e624f5cb5999020f9bb1329",
            "value": " 9913344/? [00:00&lt;00:00, 18027707.82it/s]"
          }
        },
        "e2410c8a877640dfa1fc5e680270888f": {
          "model_module": "@jupyter-widgets/controls",
          "model_module_version": "1.5.0",
          "model_name": "HBoxModel",
          "state": {
            "_dom_classes": [],
            "_model_module": "@jupyter-widgets/controls",
            "_model_module_version": "1.5.0",
            "_model_name": "HBoxModel",
            "_view_count": null,
            "_view_module": "@jupyter-widgets/controls",
            "_view_module_version": "1.5.0",
            "_view_name": "HBoxView",
            "box_style": "",
            "children": [
              "IPY_MODEL_2e48b318bfda458aac71c0d7a3f3410f",
              "IPY_MODEL_7917676edc264a09a9c46b5b7993f0b6",
              "IPY_MODEL_007a92f22cd842198b99a2d7a3c039e1"
            ],
            "layout": "IPY_MODEL_4c9b84b28d31404d86335a4c2830b130"
          }
        },
        "ed5b688cbbe24bf0add917912c2c7da1": {
          "model_module": "@jupyter-widgets/controls",
          "model_module_version": "1.5.0",
          "model_name": "DescriptionStyleModel",
          "state": {
            "_model_module": "@jupyter-widgets/controls",
            "_model_module_version": "1.5.0",
            "_model_name": "DescriptionStyleModel",
            "_view_count": null,
            "_view_module": "@jupyter-widgets/base",
            "_view_module_version": "1.2.0",
            "_view_name": "StyleView",
            "description_width": ""
          }
        },
        "f36ba679cd7e470eb32822918b2f98fe": {
          "model_module": "@jupyter-widgets/base",
          "model_module_version": "1.2.0",
          "model_name": "LayoutModel",
          "state": {
            "_model_module": "@jupyter-widgets/base",
            "_model_module_version": "1.2.0",
            "_model_name": "LayoutModel",
            "_view_count": null,
            "_view_module": "@jupyter-widgets/base",
            "_view_module_version": "1.2.0",
            "_view_name": "LayoutView",
            "align_content": null,
            "align_items": null,
            "align_self": null,
            "border": null,
            "bottom": null,
            "display": null,
            "flex": null,
            "flex_flow": null,
            "grid_area": null,
            "grid_auto_columns": null,
            "grid_auto_flow": null,
            "grid_auto_rows": null,
            "grid_column": null,
            "grid_gap": null,
            "grid_row": null,
            "grid_template_areas": null,
            "grid_template_columns": null,
            "grid_template_rows": null,
            "height": null,
            "justify_content": null,
            "justify_items": null,
            "left": null,
            "margin": null,
            "max_height": null,
            "max_width": null,
            "min_height": null,
            "min_width": null,
            "object_fit": null,
            "object_position": null,
            "order": null,
            "overflow": null,
            "overflow_x": null,
            "overflow_y": null,
            "padding": null,
            "right": null,
            "top": null,
            "visibility": null,
            "width": null
          }
        },
        "f4f5dad8e6f1449491a8de4079ceaa70": {
          "model_module": "@jupyter-widgets/controls",
          "model_module_version": "1.5.0",
          "model_name": "HBoxModel",
          "state": {
            "_dom_classes": [],
            "_model_module": "@jupyter-widgets/controls",
            "_model_module_version": "1.5.0",
            "_model_name": "HBoxModel",
            "_view_count": null,
            "_view_module": "@jupyter-widgets/controls",
            "_view_module_version": "1.5.0",
            "_view_name": "HBoxView",
            "box_style": "",
            "children": [
              "IPY_MODEL_7b8b9924e1f54790b98d3256dd3a1207",
              "IPY_MODEL_69a4cd528213444e9f64842459d0c3f0",
              "IPY_MODEL_e175b9718ac342139b1692d02277561b"
            ],
            "layout": "IPY_MODEL_c09f1c3a9e3e48b3a9d22bf6677e0d75"
          }
        },
        "f6c23d459bf24332869622a1a29699db": {
          "model_module": "@jupyter-widgets/base",
          "model_module_version": "1.2.0",
          "model_name": "LayoutModel",
          "state": {
            "_model_module": "@jupyter-widgets/base",
            "_model_module_version": "1.2.0",
            "_model_name": "LayoutModel",
            "_view_count": null,
            "_view_module": "@jupyter-widgets/base",
            "_view_module_version": "1.2.0",
            "_view_name": "LayoutView",
            "align_content": null,
            "align_items": null,
            "align_self": null,
            "border": null,
            "bottom": null,
            "display": null,
            "flex": null,
            "flex_flow": null,
            "grid_area": null,
            "grid_auto_columns": null,
            "grid_auto_flow": null,
            "grid_auto_rows": null,
            "grid_column": null,
            "grid_gap": null,
            "grid_row": null,
            "grid_template_areas": null,
            "grid_template_columns": null,
            "grid_template_rows": null,
            "height": null,
            "justify_content": null,
            "justify_items": null,
            "left": null,
            "margin": null,
            "max_height": null,
            "max_width": null,
            "min_height": null,
            "min_width": null,
            "object_fit": null,
            "object_position": null,
            "order": null,
            "overflow": null,
            "overflow_x": null,
            "overflow_y": null,
            "padding": null,
            "right": null,
            "top": null,
            "visibility": null,
            "width": null
          }
        },
        "f8ffaea968c24974ab1cbad6a2ab6656": {
          "model_module": "@jupyter-widgets/controls",
          "model_module_version": "1.5.0",
          "model_name": "ProgressStyleModel",
          "state": {
            "_model_module": "@jupyter-widgets/controls",
            "_model_module_version": "1.5.0",
            "_model_name": "ProgressStyleModel",
            "_view_count": null,
            "_view_module": "@jupyter-widgets/base",
            "_view_module_version": "1.2.0",
            "_view_name": "StyleView",
            "bar_color": null,
            "description_width": ""
          }
        }
      }
    }
  },
  "nbformat": 4,
  "nbformat_minor": 0
}
